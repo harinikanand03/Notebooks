{
 "cells": [
  {
   "cell_type": "code",
   "execution_count": 46,
   "id": "90fe0108",
   "metadata": {},
   "outputs": [],
   "source": [
    "import os\n",
    "import boto3\n",
    "\n",
    "%matplotlib inline\n",
    "import numpy as np\n",
    "import pandas as pd\n",
    "import matplotlib.pyplot as plt\n",
    "\n",
    "from keras.models import Sequential\n",
    "from keras.layers import Dense\n",
    "from keras.optimizers import SGD, Adam\n",
    "\n",
    "from sklearn.model_selection import train_test_split\n",
    "\n",
    "\n",
    "from sklearn.metrics import accuracy_score, confusion_matrix, classification_report"
   ]
  },
  {
   "cell_type": "code",
   "execution_count": 3,
   "id": "9ebd3258",
   "metadata": {},
   "outputs": [],
   "source": [
    "s3 = boto3.client(\"s3\")\n",
    "\n",
    "filename = \"HR_comma_sep.csv\"\n",
    "s3.download_file(\"sagemaker-ml-bucket-harini-2022\", \"training-data/HR_comma_sep.csv\", filename)\n",
    "df = pd.read_csv(filename)"
   ]
  },
  {
   "cell_type": "code",
   "execution_count": 4,
   "id": "fbe47b4f",
   "metadata": {},
   "outputs": [
    {
     "data": {
      "text/html": [
       "<div>\n",
       "<style scoped>\n",
       "    .dataframe tbody tr th:only-of-type {\n",
       "        vertical-align: middle;\n",
       "    }\n",
       "\n",
       "    .dataframe tbody tr th {\n",
       "        vertical-align: top;\n",
       "    }\n",
       "\n",
       "    .dataframe thead th {\n",
       "        text-align: right;\n",
       "    }\n",
       "</style>\n",
       "<table border=\"1\" class=\"dataframe\">\n",
       "  <thead>\n",
       "    <tr style=\"text-align: right;\">\n",
       "      <th></th>\n",
       "      <th>satisfaction_level</th>\n",
       "      <th>last_evaluation</th>\n",
       "      <th>number_project</th>\n",
       "      <th>average_montly_hours</th>\n",
       "      <th>time_spend_company</th>\n",
       "      <th>Work_accident</th>\n",
       "      <th>left</th>\n",
       "      <th>promotion_last_5years</th>\n",
       "      <th>sales</th>\n",
       "      <th>salary</th>\n",
       "    </tr>\n",
       "  </thead>\n",
       "  <tbody>\n",
       "    <tr>\n",
       "      <th>0</th>\n",
       "      <td>0.38</td>\n",
       "      <td>0.53</td>\n",
       "      <td>2</td>\n",
       "      <td>157</td>\n",
       "      <td>3</td>\n",
       "      <td>0</td>\n",
       "      <td>1</td>\n",
       "      <td>0</td>\n",
       "      <td>sales</td>\n",
       "      <td>low</td>\n",
       "    </tr>\n",
       "    <tr>\n",
       "      <th>1</th>\n",
       "      <td>0.80</td>\n",
       "      <td>0.86</td>\n",
       "      <td>5</td>\n",
       "      <td>262</td>\n",
       "      <td>6</td>\n",
       "      <td>0</td>\n",
       "      <td>1</td>\n",
       "      <td>0</td>\n",
       "      <td>sales</td>\n",
       "      <td>medium</td>\n",
       "    </tr>\n",
       "    <tr>\n",
       "      <th>2</th>\n",
       "      <td>0.11</td>\n",
       "      <td>0.88</td>\n",
       "      <td>7</td>\n",
       "      <td>272</td>\n",
       "      <td>4</td>\n",
       "      <td>0</td>\n",
       "      <td>1</td>\n",
       "      <td>0</td>\n",
       "      <td>sales</td>\n",
       "      <td>medium</td>\n",
       "    </tr>\n",
       "    <tr>\n",
       "      <th>3</th>\n",
       "      <td>0.72</td>\n",
       "      <td>0.87</td>\n",
       "      <td>5</td>\n",
       "      <td>223</td>\n",
       "      <td>5</td>\n",
       "      <td>0</td>\n",
       "      <td>1</td>\n",
       "      <td>0</td>\n",
       "      <td>sales</td>\n",
       "      <td>low</td>\n",
       "    </tr>\n",
       "    <tr>\n",
       "      <th>4</th>\n",
       "      <td>0.37</td>\n",
       "      <td>0.52</td>\n",
       "      <td>2</td>\n",
       "      <td>159</td>\n",
       "      <td>3</td>\n",
       "      <td>0</td>\n",
       "      <td>1</td>\n",
       "      <td>0</td>\n",
       "      <td>sales</td>\n",
       "      <td>low</td>\n",
       "    </tr>\n",
       "  </tbody>\n",
       "</table>\n",
       "</div>"
      ],
      "text/plain": [
       "   satisfaction_level  last_evaluation  number_project  average_montly_hours  \\\n",
       "0                0.38             0.53               2                   157   \n",
       "1                0.80             0.86               5                   262   \n",
       "2                0.11             0.88               7                   272   \n",
       "3                0.72             0.87               5                   223   \n",
       "4                0.37             0.52               2                   159   \n",
       "\n",
       "   time_spend_company  Work_accident  left  promotion_last_5years  sales  \\\n",
       "0                   3              0     1                      0  sales   \n",
       "1                   6              0     1                      0  sales   \n",
       "2                   4              0     1                      0  sales   \n",
       "3                   5              0     1                      0  sales   \n",
       "4                   3              0     1                      0  sales   \n",
       "\n",
       "   salary  \n",
       "0     low  \n",
       "1  medium  \n",
       "2  medium  \n",
       "3     low  \n",
       "4     low  "
      ]
     },
     "execution_count": 4,
     "metadata": {},
     "output_type": "execute_result"
    }
   ],
   "source": [
    "df.head()"
   ]
  },
  {
   "cell_type": "code",
   "execution_count": 5,
   "id": "5a369e9f",
   "metadata": {},
   "outputs": [
    {
     "name": "stdout",
     "output_type": "stream",
     "text": [
      "<class 'pandas.core.frame.DataFrame'>\n",
      "RangeIndex: 14999 entries, 0 to 14998\n",
      "Data columns (total 10 columns):\n",
      " #   Column                 Non-Null Count  Dtype  \n",
      "---  ------                 --------------  -----  \n",
      " 0   satisfaction_level     14999 non-null  float64\n",
      " 1   last_evaluation        14999 non-null  float64\n",
      " 2   number_project         14999 non-null  int64  \n",
      " 3   average_montly_hours   14999 non-null  int64  \n",
      " 4   time_spend_company     14999 non-null  int64  \n",
      " 5   Work_accident          14999 non-null  int64  \n",
      " 6   left                   14999 non-null  int64  \n",
      " 7   promotion_last_5years  14999 non-null  int64  \n",
      " 8   sales                  14999 non-null  object \n",
      " 9   salary                 14999 non-null  object \n",
      "dtypes: float64(2), int64(6), object(2)\n",
      "memory usage: 1.1+ MB\n"
     ]
    }
   ],
   "source": [
    "df.info()"
   ]
  },
  {
   "cell_type": "code",
   "execution_count": 6,
   "id": "31e70039",
   "metadata": {},
   "outputs": [
    {
     "data": {
      "text/html": [
       "<div>\n",
       "<style scoped>\n",
       "    .dataframe tbody tr th:only-of-type {\n",
       "        vertical-align: middle;\n",
       "    }\n",
       "\n",
       "    .dataframe tbody tr th {\n",
       "        vertical-align: top;\n",
       "    }\n",
       "\n",
       "    .dataframe thead th {\n",
       "        text-align: right;\n",
       "    }\n",
       "</style>\n",
       "<table border=\"1\" class=\"dataframe\">\n",
       "  <thead>\n",
       "    <tr style=\"text-align: right;\">\n",
       "      <th></th>\n",
       "      <th>satisfaction_level</th>\n",
       "      <th>last_evaluation</th>\n",
       "      <th>number_project</th>\n",
       "      <th>average_montly_hours</th>\n",
       "      <th>time_spend_company</th>\n",
       "      <th>Work_accident</th>\n",
       "      <th>left</th>\n",
       "      <th>promotion_last_5years</th>\n",
       "    </tr>\n",
       "  </thead>\n",
       "  <tbody>\n",
       "    <tr>\n",
       "      <th>count</th>\n",
       "      <td>14999.000000</td>\n",
       "      <td>14999.000000</td>\n",
       "      <td>14999.000000</td>\n",
       "      <td>14999.000000</td>\n",
       "      <td>14999.000000</td>\n",
       "      <td>14999.000000</td>\n",
       "      <td>14999.000000</td>\n",
       "      <td>14999.000000</td>\n",
       "    </tr>\n",
       "    <tr>\n",
       "      <th>mean</th>\n",
       "      <td>0.612834</td>\n",
       "      <td>0.716102</td>\n",
       "      <td>3.803054</td>\n",
       "      <td>201.050337</td>\n",
       "      <td>3.498233</td>\n",
       "      <td>0.144610</td>\n",
       "      <td>0.238083</td>\n",
       "      <td>0.021268</td>\n",
       "    </tr>\n",
       "    <tr>\n",
       "      <th>std</th>\n",
       "      <td>0.248631</td>\n",
       "      <td>0.171169</td>\n",
       "      <td>1.232592</td>\n",
       "      <td>49.943099</td>\n",
       "      <td>1.460136</td>\n",
       "      <td>0.351719</td>\n",
       "      <td>0.425924</td>\n",
       "      <td>0.144281</td>\n",
       "    </tr>\n",
       "    <tr>\n",
       "      <th>min</th>\n",
       "      <td>0.090000</td>\n",
       "      <td>0.360000</td>\n",
       "      <td>2.000000</td>\n",
       "      <td>96.000000</td>\n",
       "      <td>2.000000</td>\n",
       "      <td>0.000000</td>\n",
       "      <td>0.000000</td>\n",
       "      <td>0.000000</td>\n",
       "    </tr>\n",
       "    <tr>\n",
       "      <th>25%</th>\n",
       "      <td>0.440000</td>\n",
       "      <td>0.560000</td>\n",
       "      <td>3.000000</td>\n",
       "      <td>156.000000</td>\n",
       "      <td>3.000000</td>\n",
       "      <td>0.000000</td>\n",
       "      <td>0.000000</td>\n",
       "      <td>0.000000</td>\n",
       "    </tr>\n",
       "    <tr>\n",
       "      <th>50%</th>\n",
       "      <td>0.640000</td>\n",
       "      <td>0.720000</td>\n",
       "      <td>4.000000</td>\n",
       "      <td>200.000000</td>\n",
       "      <td>3.000000</td>\n",
       "      <td>0.000000</td>\n",
       "      <td>0.000000</td>\n",
       "      <td>0.000000</td>\n",
       "    </tr>\n",
       "    <tr>\n",
       "      <th>75%</th>\n",
       "      <td>0.820000</td>\n",
       "      <td>0.870000</td>\n",
       "      <td>5.000000</td>\n",
       "      <td>245.000000</td>\n",
       "      <td>4.000000</td>\n",
       "      <td>0.000000</td>\n",
       "      <td>0.000000</td>\n",
       "      <td>0.000000</td>\n",
       "    </tr>\n",
       "    <tr>\n",
       "      <th>max</th>\n",
       "      <td>1.000000</td>\n",
       "      <td>1.000000</td>\n",
       "      <td>7.000000</td>\n",
       "      <td>310.000000</td>\n",
       "      <td>10.000000</td>\n",
       "      <td>1.000000</td>\n",
       "      <td>1.000000</td>\n",
       "      <td>1.000000</td>\n",
       "    </tr>\n",
       "  </tbody>\n",
       "</table>\n",
       "</div>"
      ],
      "text/plain": [
       "       satisfaction_level  last_evaluation  number_project  \\\n",
       "count        14999.000000     14999.000000    14999.000000   \n",
       "mean             0.612834         0.716102        3.803054   \n",
       "std              0.248631         0.171169        1.232592   \n",
       "min              0.090000         0.360000        2.000000   \n",
       "25%              0.440000         0.560000        3.000000   \n",
       "50%              0.640000         0.720000        4.000000   \n",
       "75%              0.820000         0.870000        5.000000   \n",
       "max              1.000000         1.000000        7.000000   \n",
       "\n",
       "       average_montly_hours  time_spend_company  Work_accident          left  \\\n",
       "count          14999.000000        14999.000000   14999.000000  14999.000000   \n",
       "mean             201.050337            3.498233       0.144610      0.238083   \n",
       "std               49.943099            1.460136       0.351719      0.425924   \n",
       "min               96.000000            2.000000       0.000000      0.000000   \n",
       "25%              156.000000            3.000000       0.000000      0.000000   \n",
       "50%              200.000000            3.000000       0.000000      0.000000   \n",
       "75%              245.000000            4.000000       0.000000      0.000000   \n",
       "max              310.000000           10.000000       1.000000      1.000000   \n",
       "\n",
       "       promotion_last_5years  \n",
       "count           14999.000000  \n",
       "mean                0.021268  \n",
       "std                 0.144281  \n",
       "min                 0.000000  \n",
       "25%                 0.000000  \n",
       "50%                 0.000000  \n",
       "75%                 0.000000  \n",
       "max                 1.000000  "
      ]
     },
     "execution_count": 6,
     "metadata": {},
     "output_type": "execute_result"
    }
   ],
   "source": [
    "df.describe()"
   ]
  },
  {
   "cell_type": "code",
   "execution_count": 7,
   "id": "87cea2ea",
   "metadata": {},
   "outputs": [],
   "source": [
    "X = df[['satisfaction_level','last_evaluation','number_project','average_montly_hours','time_spend_company','Work_accident','promotion_last_5years','sales','salary']]\n",
    "y = df['left']"
   ]
  },
  {
   "cell_type": "code",
   "execution_count": 8,
   "id": "20c3d219",
   "metadata": {},
   "outputs": [
    {
     "data": {
      "text/plain": [
       "(14999, 9)"
      ]
     },
     "execution_count": 8,
     "metadata": {},
     "output_type": "execute_result"
    }
   ],
   "source": [
    "X.shape"
   ]
  },
  {
   "cell_type": "code",
   "execution_count": 9,
   "id": "1d0a5ab4",
   "metadata": {},
   "outputs": [
    {
     "data": {
      "text/plain": [
       "(14999,)"
      ]
     },
     "execution_count": 9,
     "metadata": {},
     "output_type": "execute_result"
    }
   ],
   "source": [
    "y.shape"
   ]
  },
  {
   "cell_type": "code",
   "execution_count": 10,
   "id": "8a5453c0",
   "metadata": {},
   "outputs": [],
   "source": [
    "# If we predicted everyone will stay\n",
    "y_left_pred = np.ones(y.shape)"
   ]
  },
  {
   "cell_type": "code",
   "execution_count": 11,
   "id": "f440d70d",
   "metadata": {},
   "outputs": [
    {
     "data": {
      "text/plain": [
       "array([1., 1., 1., ..., 1., 1., 1.])"
      ]
     },
     "execution_count": 11,
     "metadata": {},
     "output_type": "execute_result"
    }
   ],
   "source": [
    "y_left_pred"
   ]
  },
  {
   "cell_type": "code",
   "execution_count": 14,
   "id": "cfaa3c12",
   "metadata": {},
   "outputs": [
    {
     "name": "stdout",
     "output_type": "stream",
     "text": [
      "The benchmark accuracy score is 0.238\n"
     ]
    }
   ],
   "source": [
    "# Benchmark Accuracy\n",
    "print(\"The benchmark accuracy score is {:0.3f}\".format(accuracy_score(y,y_left_pred)))"
   ]
  },
  {
   "cell_type": "code",
   "execution_count": 15,
   "id": "2c1c0365",
   "metadata": {},
   "outputs": [
    {
     "data": {
      "text/plain": [
       "array([[<AxesSubplot:title={'center':'satisfaction_level'}>,\n",
       "        <AxesSubplot:title={'center':'last_evaluation'}>,\n",
       "        <AxesSubplot:title={'center':'number_project'}>],\n",
       "       [<AxesSubplot:title={'center':'average_montly_hours'}>,\n",
       "        <AxesSubplot:title={'center':'time_spend_company'}>,\n",
       "        <AxesSubplot:title={'center':'Work_accident'}>],\n",
       "       [<AxesSubplot:title={'center':'left'}>,\n",
       "        <AxesSubplot:title={'center':'promotion_last_5years'}>,\n",
       "        <AxesSubplot:>]], dtype=object)"
      ]
     },
     "execution_count": 15,
     "metadata": {},
     "output_type": "execute_result"
    },
    {
     "data": {
      "image/png": "[encoded data removed]",
      "text/plain": [
       "<Figure size 720x576 with 9 Axes>"
      ]
     },
     "metadata": {
      "needs_background": "light"
     },
     "output_type": "display_data"
    }
   ],
   "source": [
    "df.hist(bins=30, figsize=(10,8))"
   ]
  },
  {
   "cell_type": "code",
   "execution_count": 19,
   "id": "c638e811",
   "metadata": {},
   "outputs": [],
   "source": [
    "X_numeric = df[['satisfaction_level','last_evaluation','average_montly_hours']]"
   ]
  },
  {
   "cell_type": "code",
   "execution_count": 20,
   "id": "631f32c1",
   "metadata": {},
   "outputs": [
    {
     "name": "stderr",
     "output_type": "stream",
     "text": [
      "/home/ec2-user/anaconda3/envs/tensorflow2_p36/lib/python3.6/site-packages/ipykernel/__main__.py:3: SettingWithCopyWarning: \n",
      "A value is trying to be set on a copy of a slice from a DataFrame.\n",
      "Try using .loc[row_indexer,col_indexer] = value instead\n",
      "\n",
      "See the caveats in the documentation: https://pandas.pydata.org/pandas-docs/stable/user_guide/indexing.html#returning-a-view-versus-a-copy\n",
      "  app.launch_new_instance()\n",
      "/home/ec2-user/anaconda3/envs/tensorflow2_p36/lib/python3.6/site-packages/ipykernel/__main__.py:4: SettingWithCopyWarning: \n",
      "A value is trying to be set on a copy of a slice from a DataFrame.\n",
      "Try using .loc[row_indexer,col_indexer] = value instead\n",
      "\n",
      "See the caveats in the documentation: https://pandas.pydata.org/pandas-docs/stable/user_guide/indexing.html#returning-a-view-versus-a-copy\n",
      "/home/ec2-user/anaconda3/envs/tensorflow2_p36/lib/python3.6/site-packages/ipykernel/__main__.py:5: SettingWithCopyWarning: \n",
      "A value is trying to be set on a copy of a slice from a DataFrame.\n",
      "Try using .loc[row_indexer,col_indexer] = value instead\n",
      "\n",
      "See the caveats in the documentation: https://pandas.pydata.org/pandas-docs/stable/user_guide/indexing.html#returning-a-view-versus-a-copy\n"
     ]
    }
   ],
   "source": [
    "from sklearn.preprocessing import StandardScaler\n",
    "ss = StandardScaler()\n",
    "X_numeric ['satisfaction_level_ss'] = ss.fit_transform(X_numeric [['satisfaction_level']])\n",
    "X_numeric ['last_evaluation_ss'] = ss.fit_transform(X_numeric [['last_evaluation']])\n",
    "X_numeric ['average_montly_hours_ss'] = ss.fit_transform(X_numeric [['average_montly_hours']])\n"
   ]
  },
  {
   "cell_type": "code",
   "execution_count": 21,
   "id": "a60d0ad0",
   "metadata": {},
   "outputs": [
    {
     "data": {
      "text/html": [
       "<div>\n",
       "<style scoped>\n",
       "    .dataframe tbody tr th:only-of-type {\n",
       "        vertical-align: middle;\n",
       "    }\n",
       "\n",
       "    .dataframe tbody tr th {\n",
       "        vertical-align: top;\n",
       "    }\n",
       "\n",
       "    .dataframe thead th {\n",
       "        text-align: right;\n",
       "    }\n",
       "</style>\n",
       "<table border=\"1\" class=\"dataframe\">\n",
       "  <thead>\n",
       "    <tr style=\"text-align: right;\">\n",
       "      <th></th>\n",
       "      <th>satisfaction_level</th>\n",
       "      <th>last_evaluation</th>\n",
       "      <th>average_montly_hours</th>\n",
       "      <th>satisfaction_level_ss</th>\n",
       "      <th>last_evaluation_ss</th>\n",
       "      <th>average_montly_hours_ss</th>\n",
       "    </tr>\n",
       "  </thead>\n",
       "  <tbody>\n",
       "    <tr>\n",
       "      <th>0</th>\n",
       "      <td>0.38</td>\n",
       "      <td>0.53</td>\n",
       "      <td>157</td>\n",
       "      <td>-0.936495</td>\n",
       "      <td>-1.087275</td>\n",
       "      <td>-0.882040</td>\n",
       "    </tr>\n",
       "    <tr>\n",
       "      <th>1</th>\n",
       "      <td>0.80</td>\n",
       "      <td>0.86</td>\n",
       "      <td>262</td>\n",
       "      <td>0.752814</td>\n",
       "      <td>0.840707</td>\n",
       "      <td>1.220423</td>\n",
       "    </tr>\n",
       "    <tr>\n",
       "      <th>2</th>\n",
       "      <td>0.11</td>\n",
       "      <td>0.88</td>\n",
       "      <td>272</td>\n",
       "      <td>-2.022479</td>\n",
       "      <td>0.957554</td>\n",
       "      <td>1.420657</td>\n",
       "    </tr>\n",
       "    <tr>\n",
       "      <th>3</th>\n",
       "      <td>0.72</td>\n",
       "      <td>0.87</td>\n",
       "      <td>223</td>\n",
       "      <td>0.431041</td>\n",
       "      <td>0.899131</td>\n",
       "      <td>0.439508</td>\n",
       "    </tr>\n",
       "    <tr>\n",
       "      <th>4</th>\n",
       "      <td>0.37</td>\n",
       "      <td>0.52</td>\n",
       "      <td>159</td>\n",
       "      <td>-0.976716</td>\n",
       "      <td>-1.145699</td>\n",
       "      <td>-0.841993</td>\n",
       "    </tr>\n",
       "    <tr>\n",
       "      <th>...</th>\n",
       "      <td>...</td>\n",
       "      <td>...</td>\n",
       "      <td>...</td>\n",
       "      <td>...</td>\n",
       "      <td>...</td>\n",
       "      <td>...</td>\n",
       "    </tr>\n",
       "    <tr>\n",
       "      <th>14994</th>\n",
       "      <td>0.40</td>\n",
       "      <td>0.57</td>\n",
       "      <td>151</td>\n",
       "      <td>-0.856051</td>\n",
       "      <td>-0.853580</td>\n",
       "      <td>-1.002181</td>\n",
       "    </tr>\n",
       "    <tr>\n",
       "      <th>14995</th>\n",
       "      <td>0.37</td>\n",
       "      <td>0.48</td>\n",
       "      <td>160</td>\n",
       "      <td>-0.976716</td>\n",
       "      <td>-1.379394</td>\n",
       "      <td>-0.821970</td>\n",
       "    </tr>\n",
       "    <tr>\n",
       "      <th>14996</th>\n",
       "      <td>0.37</td>\n",
       "      <td>0.53</td>\n",
       "      <td>143</td>\n",
       "      <td>-0.976716</td>\n",
       "      <td>-1.087275</td>\n",
       "      <td>-1.162368</td>\n",
       "    </tr>\n",
       "    <tr>\n",
       "      <th>14997</th>\n",
       "      <td>0.11</td>\n",
       "      <td>0.96</td>\n",
       "      <td>280</td>\n",
       "      <td>-2.022479</td>\n",
       "      <td>1.424944</td>\n",
       "      <td>1.580845</td>\n",
       "    </tr>\n",
       "    <tr>\n",
       "      <th>14998</th>\n",
       "      <td>0.37</td>\n",
       "      <td>0.52</td>\n",
       "      <td>158</td>\n",
       "      <td>-0.976716</td>\n",
       "      <td>-1.145699</td>\n",
       "      <td>-0.862016</td>\n",
       "    </tr>\n",
       "  </tbody>\n",
       "</table>\n",
       "<p>14999 rows × 6 columns</p>\n",
       "</div>"
      ],
      "text/plain": [
       "       satisfaction_level  last_evaluation  average_montly_hours  \\\n",
       "0                    0.38             0.53                   157   \n",
       "1                    0.80             0.86                   262   \n",
       "2                    0.11             0.88                   272   \n",
       "3                    0.72             0.87                   223   \n",
       "4                    0.37             0.52                   159   \n",
       "...                   ...              ...                   ...   \n",
       "14994                0.40             0.57                   151   \n",
       "14995                0.37             0.48                   160   \n",
       "14996                0.37             0.53                   143   \n",
       "14997                0.11             0.96                   280   \n",
       "14998                0.37             0.52                   158   \n",
       "\n",
       "       satisfaction_level_ss  last_evaluation_ss  average_montly_hours_ss  \n",
       "0                  -0.936495           -1.087275                -0.882040  \n",
       "1                   0.752814            0.840707                 1.220423  \n",
       "2                  -2.022479            0.957554                 1.420657  \n",
       "3                   0.431041            0.899131                 0.439508  \n",
       "4                  -0.976716           -1.145699                -0.841993  \n",
       "...                      ...                 ...                      ...  \n",
       "14994              -0.856051           -0.853580                -1.002181  \n",
       "14995              -0.976716           -1.379394                -0.821970  \n",
       "14996              -0.976716           -1.087275                -1.162368  \n",
       "14997              -2.022479            1.424944                 1.580845  \n",
       "14998              -0.976716           -1.145699                -0.862016  \n",
       "\n",
       "[14999 rows x 6 columns]"
      ]
     },
     "execution_count": 21,
     "metadata": {},
     "output_type": "execute_result"
    }
   ],
   "source": [
    "X_numeric"
   ]
  },
  {
   "cell_type": "code",
   "execution_count": 24,
   "id": "68ab9837",
   "metadata": {},
   "outputs": [],
   "source": [
    "X_catergorical = df[['number_project','time_spend_company','Work_accident','promotion_last_5years','sales','salary']]"
   ]
  },
  {
   "cell_type": "code",
   "execution_count": 25,
   "id": "f5b4a0b3",
   "metadata": {},
   "outputs": [],
   "source": [
    "X_catergorical = pd.get_dummies(data=X_catergorical, columns=['number_project','time_spend_company','Work_accident','promotion_last_5years','sales','salary'])"
   ]
  },
  {
   "cell_type": "code",
   "execution_count": 30,
   "id": "3ea26459",
   "metadata": {},
   "outputs": [],
   "source": [
    "X=pd.concat([X_numeric[['satisfaction_level_ss','last_evaluation_ss','average_montly_hours_ss']],X_catergorical],axis=1)\n",
    "y=df['left']"
   ]
  },
  {
   "cell_type": "code",
   "execution_count": 31,
   "id": "3d1e3b57",
   "metadata": {},
   "outputs": [
    {
     "data": {
      "text/plain": [
       "(14999, 34)"
      ]
     },
     "execution_count": 31,
     "metadata": {},
     "output_type": "execute_result"
    }
   ],
   "source": [
    "X.shape"
   ]
  },
  {
   "cell_type": "code",
   "execution_count": 32,
   "id": "ce5dc3c6",
   "metadata": {},
   "outputs": [
    {
     "data": {
      "text/plain": [
       "(14999,)"
      ]
     },
     "execution_count": 32,
     "metadata": {},
     "output_type": "execute_result"
    }
   ],
   "source": [
    "y.shape"
   ]
  },
  {
   "cell_type": "code",
   "execution_count": 33,
   "id": "25ee3da1",
   "metadata": {},
   "outputs": [],
   "source": [
    "X_train, X_test, y_train, y_test = train_test_split(X, y, test_size=0.2)"
   ]
  },
  {
   "cell_type": "code",
   "execution_count": 35,
   "id": "d4c6c044",
   "metadata": {},
   "outputs": [],
   "source": [
    "# Logistic Regression\n",
    "\n",
    "model = Sequential()\n",
    "model.add(Dense(1, input_shape=(34,),activation='sigmoid'))\n",
    "model.compile(Adam(lr=0.5),'binary_crossentropy',metrics=['accuracy'])"
   ]
  },
  {
   "cell_type": "code",
   "execution_count": 36,
   "id": "d57e2b9f",
   "metadata": {},
   "outputs": [
    {
     "name": "stdout",
     "output_type": "stream",
     "text": [
      "Epoch 1/1\n",
      "11999/11999 [==============================] - 1s 112us/step - loss: 0.3773 - accuracy: 0.8595\n"
     ]
    },
    {
     "data": {
      "text/plain": [
       "<keras.callbacks.callbacks.History at 0x7fd4d8de0ac8>"
      ]
     },
     "execution_count": 36,
     "metadata": {},
     "output_type": "execute_result"
    }
   ],
   "source": [
    "model.fit(X_train, y_train)"
   ]
  },
  {
   "cell_type": "code",
   "execution_count": 37,
   "id": "ad6ec71d",
   "metadata": {},
   "outputs": [],
   "source": [
    "y_test_pred = (model.predict(X_test)>0.5).astype(int)"
   ]
  },
  {
   "cell_type": "code",
   "execution_count": 38,
   "id": "bb16fcd7",
   "metadata": {},
   "outputs": [
    {
     "name": "stdout",
     "output_type": "stream",
     "text": [
      "The accuracy score on Test set is 0.857\n"
     ]
    }
   ],
   "source": [
    "print(\"The accuracy score on Test set is {:0.3f}\".format(accuracy_score(y_test,y_test_pred)))"
   ]
  },
  {
   "cell_type": "code",
   "execution_count": 43,
   "id": "c077c1b4",
   "metadata": {},
   "outputs": [],
   "source": [
    "def pretty_confusion_matrix(y_true, y_pred, labels=[\"False\",\"True\"]):\n",
    "    cm = confusion_matrix(y_true, y_pred)\n",
    "    pred_labels = ['Predicted'+ l for l in labels]\n",
    "    df = pd.DataFrame(cm,index=labels, columns=pred_labels)\n",
    "    return df"
   ]
  },
  {
   "cell_type": "code",
   "execution_count": 44,
   "id": "2b3ca9f9",
   "metadata": {},
   "outputs": [
    {
     "data": {
      "text/html": [
       "<div>\n",
       "<style scoped>\n",
       "    .dataframe tbody tr th:only-of-type {\n",
       "        vertical-align: middle;\n",
       "    }\n",
       "\n",
       "    .dataframe tbody tr th {\n",
       "        vertical-align: top;\n",
       "    }\n",
       "\n",
       "    .dataframe thead th {\n",
       "        text-align: right;\n",
       "    }\n",
       "</style>\n",
       "<table border=\"1\" class=\"dataframe\">\n",
       "  <thead>\n",
       "    <tr style=\"text-align: right;\">\n",
       "      <th></th>\n",
       "      <th>PredictedStay</th>\n",
       "      <th>PredictedLeave</th>\n",
       "    </tr>\n",
       "  </thead>\n",
       "  <tbody>\n",
       "    <tr>\n",
       "      <th>Stay</th>\n",
       "      <td>2130</td>\n",
       "      <td>198</td>\n",
       "    </tr>\n",
       "    <tr>\n",
       "      <th>Leave</th>\n",
       "      <td>232</td>\n",
       "      <td>440</td>\n",
       "    </tr>\n",
       "  </tbody>\n",
       "</table>\n",
       "</div>"
      ],
      "text/plain": [
       "       PredictedStay  PredictedLeave\n",
       "Stay            2130             198\n",
       "Leave            232             440"
      ]
     },
     "execution_count": 44,
     "metadata": {},
     "output_type": "execute_result"
    }
   ],
   "source": [
    "pretty_confusion_matrix(y_test,y_test_pred, ['Stay','Leave'])"
   ]
  },
  {
   "cell_type": "code",
   "execution_count": 47,
   "id": "d7c9fc14",
   "metadata": {},
   "outputs": [
    {
     "name": "stdout",
     "output_type": "stream",
     "text": [
      "              precision    recall  f1-score   support\n",
      "\n",
      "           0       0.90      0.91      0.91      2328\n",
      "           1       0.69      0.65      0.67       672\n",
      "\n",
      "    accuracy                           0.86      3000\n",
      "   macro avg       0.80      0.78      0.79      3000\n",
      "weighted avg       0.85      0.86      0.86      3000\n",
      "\n"
     ]
    }
   ],
   "source": [
    "print(classification_report(y_test, y_test_pred))"
   ]
  },
  {
   "cell_type": "code",
   "execution_count": 48,
   "id": "dbdb96f9",
   "metadata": {},
   "outputs": [],
   "source": [
    "from keras.wrappers.scikit_learn import KerasClassifier"
   ]
  },
  {
   "cell_type": "code",
   "execution_count": 57,
   "id": "bdc8f747",
   "metadata": {},
   "outputs": [],
   "source": [
    "def build_logistic_regression_model():\n",
    "    model = Sequential()\n",
    "    model.add(Dense(1, input_shape=(34,),activation='sigmoid'))\n",
    "    model.compile(Adam(lr=0.5),'binary_crossentropy',metrics=['accuracy'])\n",
    "    return model"
   ]
  },
  {
   "cell_type": "code",
   "execution_count": 58,
   "id": "043f5743",
   "metadata": {},
   "outputs": [],
   "source": [
    "model = KerasClassifier(build_fn=build_logistic_regression_model,\n",
    "                       epochs=25)"
   ]
  },
  {
   "cell_type": "code",
   "execution_count": 59,
   "id": "25ca5a4c",
   "metadata": {},
   "outputs": [],
   "source": [
    "from sklearn.model_selection import cross_val_score, KFold"
   ]
  },
  {
   "cell_type": "code",
   "execution_count": 60,
   "id": "d534839e",
   "metadata": {},
   "outputs": [
    {
     "name": "stdout",
     "output_type": "stream",
     "text": [
      "Epoch 1/25\n",
      "11999/11999 [==============================] - 2s 157us/step - loss: 0.3834 - accuracy: 0.8622\n",
      "Epoch 2/25\n",
      "11999/11999 [==============================] - 1s 77us/step - loss: 0.3809 - accuracy: 0.8675\n",
      "Epoch 3/25\n",
      "11999/11999 [==============================] - 1s 74us/step - loss: 0.3715 - accuracy: 0.8634\n",
      "Epoch 4/25\n",
      "11999/11999 [==============================] - 1s 77us/step - loss: 0.3663 - accuracy: 0.8642\n",
      "Epoch 5/25\n",
      "11999/11999 [==============================] - 1s 106us/step - loss: 0.3669 - accuracy: 0.8674\n",
      "Epoch 6/25\n",
      "11999/11999 [==============================] - 1s 84us/step - loss: 0.4134 - accuracy: 0.8575\n",
      "Epoch 7/25\n",
      "11999/11999 [==============================] - 1s 62us/step - loss: 0.3830 - accuracy: 0.8629\n",
      "Epoch 8/25\n",
      "11999/11999 [==============================] - 1s 61us/step - loss: 0.3721 - accuracy: 0.8646\n",
      "Epoch 9/25\n",
      "11999/11999 [==============================] - 1s 61us/step - loss: 0.3901 - accuracy: 0.8606\n",
      "Epoch 10/25\n",
      "11999/11999 [==============================] - 1s 61us/step - loss: 0.3878 - accuracy: 0.8641\n",
      "Epoch 11/25\n",
      "11999/11999 [==============================] - 1s 85us/step - loss: 0.3907 - accuracy: 0.8596\n",
      "Epoch 12/25\n",
      "11999/11999 [==============================] - 1s 62us/step - loss: 0.3609 - accuracy: 0.8710\n",
      "Epoch 13/25\n",
      "11999/11999 [==============================] - 1s 62us/step - loss: 0.3781 - accuracy: 0.8623\n",
      "Epoch 14/25\n",
      "11999/11999 [==============================] - 1s 63us/step - loss: 0.3806 - accuracy: 0.8662\n",
      "Epoch 15/25\n",
      "11999/11999 [==============================] - 1s 73us/step - loss: 0.3717 - accuracy: 0.8653\n",
      "Epoch 16/25\n",
      "11999/11999 [==============================] - 1s 75us/step - loss: 0.3805 - accuracy: 0.8615\n",
      "Epoch 17/25\n",
      "11999/11999 [==============================] - 1s 62us/step - loss: 0.3620 - accuracy: 0.8660\n",
      "Epoch 18/25\n",
      "11999/11999 [==============================] - 1s 61us/step - loss: 0.3858 - accuracy: 0.8652\n",
      "Epoch 19/25\n",
      "11999/11999 [==============================] - 1s 61us/step - loss: 0.3641 - accuracy: 0.8672\n",
      "Epoch 20/25\n",
      "11999/11999 [==============================] - 1s 76us/step - loss: 0.3680 - accuracy: 0.8640\n",
      "Epoch 21/25\n",
      "11999/11999 [==============================] - 1s 70us/step - loss: 0.3707 - accuracy: 0.8677\n",
      "Epoch 22/25\n",
      "11999/11999 [==============================] - 1s 59us/step - loss: 0.4029 - accuracy: 0.8557\n",
      "Epoch 23/25\n",
      "11999/11999 [==============================] - 1s 61us/step - loss: 0.3774 - accuracy: 0.8657\n",
      "Epoch 24/25\n",
      "11999/11999 [==============================] - 1s 60us/step - loss: 0.3725 - accuracy: 0.8659\n",
      "Epoch 25/25\n",
      "11999/11999 [==============================] - 1s 76us/step - loss: 0.3816 - accuracy: 0.8647\n",
      "3000/3000 [==============================] - 0s 63us/step\n",
      "Epoch 1/25\n",
      "11999/11999 [==============================] - 1s 92us/step - loss: 0.3640 - accuracy: 0.8683\n",
      "Epoch 2/25\n",
      "11999/11999 [==============================] - 1s 60us/step - loss: 0.3804 - accuracy: 0.8607\n",
      "Epoch 3/25\n",
      "11999/11999 [==============================] - 1s 61us/step - loss: 0.3617 - accuracy: 0.8702\n",
      "Epoch 4/25\n",
      "11999/11999 [==============================] - 1s 75us/step - loss: 0.3869 - accuracy: 0.8632\n",
      "Epoch 5/25\n",
      "11999/11999 [==============================] - 1s 66us/step - loss: 0.3622 - accuracy: 0.8672\n",
      "Epoch 6/25\n",
      "11999/11999 [==============================] - 1s 62us/step - loss: 0.3659 - accuracy: 0.8687\n",
      "Epoch 7/25\n",
      "11999/11999 [==============================] - 1s 61us/step - loss: 0.3817 - accuracy: 0.8656\n",
      "Epoch 8/25\n",
      "11999/11999 [==============================] - 1s 60us/step - loss: 0.3778 - accuracy: 0.8625\n",
      "Epoch 9/25\n",
      "11999/11999 [==============================] - 1s 84us/step - loss: 0.3762 - accuracy: 0.8632\n",
      "Epoch 10/25\n",
      "11999/11999 [==============================] - 1s 65us/step - loss: 0.3935 - accuracy: 0.8632\n",
      "Epoch 11/25\n",
      "11999/11999 [==============================] - 1s 61us/step - loss: 0.3580 - accuracy: 0.8685\n",
      "Epoch 12/25\n",
      "11999/11999 [==============================] - 1s 61us/step - loss: 0.3763 - accuracy: 0.8655\n",
      "Epoch 13/25\n",
      "11999/11999 [==============================] - 1s 61us/step - loss: 0.3700 - accuracy: 0.8657\n",
      "Epoch 14/25\n",
      "11999/11999 [==============================] - 1s 91us/step - loss: 0.3746 - accuracy: 0.8626\n",
      "Epoch 15/25\n",
      "11999/11999 [==============================] - 1s 61us/step - loss: 0.3870 - accuracy: 0.8591\n",
      "Epoch 16/25\n",
      "11999/11999 [==============================] - 1s 62us/step - loss: 0.3841 - accuracy: 0.8641\n",
      "Epoch 17/25\n",
      "11999/11999 [==============================] - 1s 60us/step - loss: 0.3881 - accuracy: 0.8619\n",
      "Epoch 18/25\n",
      "11999/11999 [==============================] - 1s 67us/step - loss: 0.3707 - accuracy: 0.8621\n",
      "Epoch 19/25\n",
      "11999/11999 [==============================] - 1s 79us/step - loss: 0.3685 - accuracy: 0.8602\n",
      "Epoch 20/25\n",
      "11999/11999 [==============================] - 1s 62us/step - loss: 0.3685 - accuracy: 0.8658\n",
      "Epoch 21/25\n",
      "11999/11999 [==============================] - 1s 63us/step - loss: 0.3647 - accuracy: 0.8657\n",
      "Epoch 22/25\n",
      "11999/11999 [==============================] - 1s 62us/step - loss: 0.3825 - accuracy: 0.8636\n",
      "Epoch 23/25\n",
      "11999/11999 [==============================] - 1s 75us/step - loss: 0.3670 - accuracy: 0.8671\n",
      "Epoch 24/25\n",
      "11999/11999 [==============================] - 1s 73us/step - loss: 0.3676 - accuracy: 0.8660\n",
      "Epoch 25/25\n",
      "11999/11999 [==============================] - 1s 62us/step - loss: 0.3727 - accuracy: 0.8666\n",
      "3000/3000 [==============================] - 0s 61us/step\n",
      "Epoch 1/25\n",
      "11999/11999 [==============================] - 1s 104us/step - loss: 0.3748 - accuracy: 0.8604\n",
      "Epoch 2/25\n",
      "11999/11999 [==============================] - 1s 91us/step - loss: 0.3638 - accuracy: 0.8654\n",
      "Epoch 3/25\n",
      "11999/11999 [==============================] - 1s 69us/step - loss: 0.3937 - accuracy: 0.8599\n",
      "Epoch 4/25\n",
      "11999/11999 [==============================] - 1s 66us/step - loss: 0.3559 - accuracy: 0.8712\n",
      "Epoch 5/25\n",
      "11999/11999 [==============================] - 1s 63us/step - loss: 0.4017 - accuracy: 0.8578\n",
      "Epoch 6/25\n",
      "11999/11999 [==============================] - 1s 88us/step - loss: 0.3693 - accuracy: 0.8665\n",
      "Epoch 7/25\n",
      "11999/11999 [==============================] - 1s 62us/step - loss: 0.3672 - accuracy: 0.8674\n",
      "Epoch 8/25\n",
      "11999/11999 [==============================] - 1s 63us/step - loss: 0.3508 - accuracy: 0.8690\n",
      "Epoch 9/25\n",
      "11999/11999 [==============================] - 1s 62us/step - loss: 0.3923 - accuracy: 0.8607\n",
      "Epoch 10/25\n",
      "11999/11999 [==============================] - 1s 70us/step - loss: 0.3701 - accuracy: 0.8652\n",
      "Epoch 11/25\n",
      "11999/11999 [==============================] - 1s 81us/step - loss: 0.3839 - accuracy: 0.8603\n",
      "Epoch 12/25\n",
      "11999/11999 [==============================] - 1s 63us/step - loss: 0.3679 - accuracy: 0.8636\n",
      "Epoch 13/25\n",
      "11999/11999 [==============================] - 1s 62us/step - loss: 0.3915 - accuracy: 0.8598\n",
      "Epoch 14/25\n",
      "11999/11999 [==============================] - 1s 62us/step - loss: 0.3714 - accuracy: 0.8610\n",
      "Epoch 15/25\n",
      "11999/11999 [==============================] - 1s 79us/step - loss: 0.3540 - accuracy: 0.8691\n",
      "Epoch 16/25\n",
      "11999/11999 [==============================] - 1s 69us/step - loss: 0.3683 - accuracy: 0.8675\n",
      "Epoch 17/25\n",
      "11999/11999 [==============================] - 1s 62us/step - loss: 0.3941 - accuracy: 0.8626\n",
      "Epoch 18/25\n",
      "11999/11999 [==============================] - 1s 61us/step - loss: 0.3725 - accuracy: 0.8650\n",
      "Epoch 19/25\n",
      "11999/11999 [==============================] - 1s 59us/step - loss: 0.3778 - accuracy: 0.8632\n",
      "Epoch 20/25\n",
      "11999/11999 [==============================] - 1s 77us/step - loss: 0.3698 - accuracy: 0.8677\n",
      "Epoch 21/25\n",
      "11999/11999 [==============================] - 1s 72us/step - loss: 0.3664 - accuracy: 0.8660\n",
      "Epoch 22/25\n",
      "11999/11999 [==============================] - 1s 62us/step - loss: 0.4029 - accuracy: 0.8627\n",
      "Epoch 23/25\n",
      "11999/11999 [==============================] - 1s 62us/step - loss: 0.3691 - accuracy: 0.8639\n",
      "Epoch 24/25\n",
      "11999/11999 [==============================] - 1s 60us/step - loss: 0.3699 - accuracy: 0.8661\n",
      "Epoch 25/25\n",
      "11999/11999 [==============================] - 1s 89us/step - loss: 0.3735 - accuracy: 0.8649\n",
      "3000/3000 [==============================] - 0s 63us/step\n",
      "Epoch 1/25\n",
      "11999/11999 [==============================] - 1s 98us/step - loss: 0.3757 - accuracy: 0.8632\n",
      "Epoch 2/25\n",
      "11999/11999 [==============================] - 1s 69us/step - loss: 0.3733 - accuracy: 0.8649\n",
      "Epoch 3/25\n",
      "11999/11999 [==============================] - 1s 77us/step - loss: 0.3758 - accuracy: 0.8669\n",
      "Epoch 4/25\n",
      "11999/11999 [==============================] - 1s 79us/step - loss: 0.3661 - accuracy: 0.8610\n",
      "Epoch 5/25\n",
      "11999/11999 [==============================] - 1s 58us/step - loss: 0.3756 - accuracy: 0.8617\n",
      "Epoch 6/25\n",
      "11999/11999 [==============================] - 1s 64us/step - loss: 0.3631 - accuracy: 0.8667\n",
      "Epoch 7/25\n",
      "11999/11999 [==============================] - 1s 58us/step - loss: 0.3847 - accuracy: 0.8577\n",
      "Epoch 8/25\n",
      "11999/11999 [==============================] - 1s 78us/step - loss: 0.3891 - accuracy: 0.8605\n",
      "Epoch 9/25\n",
      "11999/11999 [==============================] - 1s 87us/step - loss: 0.3814 - accuracy: 0.8599\n",
      "Epoch 10/25\n",
      "11999/11999 [==============================] - 1s 65us/step - loss: 0.3862 - accuracy: 0.8621\n",
      "Epoch 11/25\n",
      "11999/11999 [==============================] - 1s 64us/step - loss: 0.3697 - accuracy: 0.8634\n",
      "Epoch 12/25\n",
      "11999/11999 [==============================] - 1s 65us/step - loss: 0.3716 - accuracy: 0.8642\n",
      "Epoch 13/25\n",
      "11999/11999 [==============================] - 1s 81us/step - loss: 0.3612 - accuracy: 0.8631\n",
      "Epoch 14/25\n",
      "11999/11999 [==============================] - 1s 61us/step - loss: 0.3600 - accuracy: 0.8644\n",
      "Epoch 15/25\n",
      "11999/11999 [==============================] - 1s 63us/step - loss: 0.3780 - accuracy: 0.8655\n",
      "Epoch 16/25\n",
      "11999/11999 [==============================] - 1s 61us/step - loss: 0.3812 - accuracy: 0.8591\n",
      "Epoch 17/25\n",
      "11999/11999 [==============================] - 1s 75us/step - loss: 0.3698 - accuracy: 0.8635\n",
      "Epoch 18/25\n",
      "11999/11999 [==============================] - 1s 75us/step - loss: 0.3752 - accuracy: 0.8621\n",
      "Epoch 19/25\n",
      "11999/11999 [==============================] - 1s 61us/step - loss: 0.3833 - accuracy: 0.8592\n",
      "Epoch 20/25\n",
      "11999/11999 [==============================] - 1s 58us/step - loss: 0.3672 - accuracy: 0.8622\n",
      "Epoch 21/25\n",
      "11999/11999 [==============================] - 1s 61us/step - loss: 0.3747 - accuracy: 0.8614\n",
      "Epoch 22/25\n",
      "11999/11999 [==============================] - 1s 74us/step - loss: 0.3807 - accuracy: 0.8606\n",
      "Epoch 23/25\n",
      "11999/11999 [==============================] - 1s 67us/step - loss: 0.3804 - accuracy: 0.8617\n",
      "Epoch 24/25\n",
      "11999/11999 [==============================] - 1s 61us/step - loss: 0.3672 - accuracy: 0.8649\n",
      "Epoch 25/25\n",
      "11999/11999 [==============================] - 1s 62us/step - loss: 0.3652 - accuracy: 0.8638\n",
      "3000/3000 [==============================] - 0s 60us/step\n",
      "Epoch 1/25\n",
      "12000/12000 [==============================] - 1s 111us/step - loss: 0.3820 - accuracy: 0.8603\n",
      "Epoch 2/25\n",
      "12000/12000 [==============================] - 1s 64us/step - loss: 0.3643 - accuracy: 0.8627\n",
      "Epoch 3/25\n",
      "12000/12000 [==============================] - 1s 63us/step - loss: 0.4029 - accuracy: 0.8550\n",
      "Epoch 4/25\n",
      "12000/12000 [==============================] - 1s 63us/step - loss: 0.3648 - accuracy: 0.8669\n",
      "Epoch 5/25\n",
      "12000/12000 [==============================] - 1s 62us/step - loss: 0.3754 - accuracy: 0.8639\n",
      "Epoch 6/25\n",
      "12000/12000 [==============================] - 1s 73us/step - loss: 0.4006 - accuracy: 0.8583\n",
      "Epoch 7/25\n",
      "12000/12000 [==============================] - 1s 70us/step - loss: 0.3851 - accuracy: 0.8627\n",
      "Epoch 8/25\n",
      "12000/12000 [==============================] - 1s 62us/step - loss: 0.3610 - accuracy: 0.8642\n",
      "Epoch 9/25\n",
      "12000/12000 [==============================] - 1s 63us/step - loss: 0.3813 - accuracy: 0.8627\n",
      "Epoch 10/25\n",
      "12000/12000 [==============================] - 1s 61us/step - loss: 0.3991 - accuracy: 0.8582\n",
      "Epoch 11/25\n",
      "12000/12000 [==============================] - 1s 73us/step - loss: 0.4086 - accuracy: 0.8564\n",
      "Epoch 12/25\n",
      "12000/12000 [==============================] - 1s 68us/step - loss: 0.3832 - accuracy: 0.8622\n",
      "Epoch 13/25\n",
      "12000/12000 [==============================] - 1s 61us/step - loss: 0.3719 - accuracy: 0.8661\n",
      "Epoch 14/25\n",
      "12000/12000 [==============================] - 1s 63us/step - loss: 0.3824 - accuracy: 0.8620\n",
      "Epoch 15/25\n",
      "12000/12000 [==============================] - 1s 63us/step - loss: 0.3738 - accuracy: 0.8651\n",
      "Epoch 16/25\n",
      "12000/12000 [==============================] - 1s 81us/step - loss: 0.3745 - accuracy: 0.8622\n",
      "Epoch 17/25\n",
      "12000/12000 [==============================] - 1s 73us/step - loss: 0.4201 - accuracy: 0.8546\n",
      "Epoch 18/25\n",
      "12000/12000 [==============================] - 1s 63us/step - loss: 0.3925 - accuracy: 0.8579\n",
      "Epoch 19/25\n",
      "12000/12000 [==============================] - 1s 63us/step - loss: 0.3759 - accuracy: 0.8643\n",
      "Epoch 20/25\n",
      "12000/12000 [==============================] - 1s 62us/step - loss: 0.3652 - accuracy: 0.8673\n",
      "Epoch 21/25\n",
      "12000/12000 [==============================] - 1s 88us/step - loss: 0.3753 - accuracy: 0.8619\n",
      "Epoch 22/25\n",
      "12000/12000 [==============================] - 1s 64us/step - loss: 0.3624 - accuracy: 0.8647\n",
      "Epoch 23/25\n",
      "12000/12000 [==============================] - 1s 62us/step - loss: 0.3837 - accuracy: 0.8616\n",
      "Epoch 24/25\n",
      "12000/12000 [==============================] - 1s 62us/step - loss: 0.3824 - accuracy: 0.8604\n",
      "Epoch 25/25\n",
      "12000/12000 [==============================] - 1s 72us/step - loss: 0.3722 - accuracy: 0.8643\n",
      "2999/2999 [==============================] - 0s 68us/step\n"
     ]
    }
   ],
   "source": [
    "cv = KFold(5, shuffle=True)\n",
    "scores = cross_val_score(model, X, y, cv=cv)"
   ]
  },
  {
   "cell_type": "code",
   "execution_count": 61,
   "id": "c75c463b",
   "metadata": {},
   "outputs": [
    {
     "data": {
      "text/plain": [
       "array([0.89733332, 0.87933332, 0.86833334, 0.85900003, 0.86362123])"
      ]
     },
     "execution_count": 61,
     "metadata": {},
     "output_type": "execute_result"
    }
   ],
   "source": [
    "scores"
   ]
  },
  {
   "cell_type": "code",
   "execution_count": null,
   "id": "dbe03622",
   "metadata": {},
   "outputs": [],
   "source": []
  }
 ],
 "metadata": {
  "kernelspec": {
   "display_name": "conda_tensorflow2_p36",
   "language": "python",
   "name": "conda_tensorflow2_p36"
  },
  "language_info": {
   "codemirror_mode": {
    "name": "ipython",
    "version": 3
   },
   "file_extension": ".py",
   "mimetype": "text/x-python",
   "name": "python",
   "nbconvert_exporter": "python",
   "pygments_lexer": "ipython3",
   "version": "3.6.13"
  }
 },
 "nbformat": 4,
 "nbformat_minor": 5
}
