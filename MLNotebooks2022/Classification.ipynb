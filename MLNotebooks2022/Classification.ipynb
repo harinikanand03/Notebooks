{
 "cells": [
  {
   "cell_type": "markdown",
   "id": "364ce8c4",
   "metadata": {},
   "source": [
    "# Classification using Logistic Regression"
   ]
  },
  {
   "cell_type": "code",
   "execution_count": 1,
   "id": "4923e8e1",
   "metadata": {},
   "outputs": [],
   "source": [
    "import os\n",
    "import boto3\n",
    "\n",
    "%matplotlib inline\n",
    "import numpy as np\n",
    "import pandas as pd\n",
    "import matplotlib.pyplot as plt\n",
    "\n"
   ]
  },
  {
   "cell_type": "code",
   "execution_count": 2,
   "id": "1873c044",
   "metadata": {},
   "outputs": [],
   "source": [
    "s3 = boto3.client(\"s3\")\n",
    "\n",
    "filename = \"user_visit_duration.csv\"\n",
    "s3.download_file(\"sagemaker-ml-bucket-harini-2022\", \"training-data/user_visit_duration.csv\", filename)\n",
    "df = pd.read_csv(filename)"
   ]
  },
  {
   "cell_type": "code",
   "execution_count": 3,
   "id": "e639f889",
   "metadata": {},
   "outputs": [
    {
     "data": {
      "text/html": [
       "<div>\n",
       "<style scoped>\n",
       "    .dataframe tbody tr th:only-of-type {\n",
       "        vertical-align: middle;\n",
       "    }\n",
       "\n",
       "    .dataframe tbody tr th {\n",
       "        vertical-align: top;\n",
       "    }\n",
       "\n",
       "    .dataframe thead th {\n",
       "        text-align: right;\n",
       "    }\n",
       "</style>\n",
       "<table border=\"1\" class=\"dataframe\">\n",
       "  <thead>\n",
       "    <tr style=\"text-align: right;\">\n",
       "      <th></th>\n",
       "      <th>Time (min)</th>\n",
       "      <th>Buy</th>\n",
       "    </tr>\n",
       "  </thead>\n",
       "  <tbody>\n",
       "    <tr>\n",
       "      <th>0</th>\n",
       "      <td>2.000000</td>\n",
       "      <td>0</td>\n",
       "    </tr>\n",
       "    <tr>\n",
       "      <th>1</th>\n",
       "      <td>0.683333</td>\n",
       "      <td>0</td>\n",
       "    </tr>\n",
       "    <tr>\n",
       "      <th>2</th>\n",
       "      <td>3.216667</td>\n",
       "      <td>1</td>\n",
       "    </tr>\n",
       "    <tr>\n",
       "      <th>3</th>\n",
       "      <td>0.900000</td>\n",
       "      <td>0</td>\n",
       "    </tr>\n",
       "    <tr>\n",
       "      <th>4</th>\n",
       "      <td>1.533333</td>\n",
       "      <td>1</td>\n",
       "    </tr>\n",
       "  </tbody>\n",
       "</table>\n",
       "</div>"
      ],
      "text/plain": [
       "   Time (min)  Buy\n",
       "0    2.000000    0\n",
       "1    0.683333    0\n",
       "2    3.216667    1\n",
       "3    0.900000    0\n",
       "4    1.533333    1"
      ]
     },
     "execution_count": 3,
     "metadata": {},
     "output_type": "execute_result"
    }
   ],
   "source": [
    "df.head()"
   ]
  },
  {
   "cell_type": "code",
   "execution_count": 4,
   "id": "1a913f20",
   "metadata": {},
   "outputs": [
    {
     "name": "stdout",
     "output_type": "stream",
     "text": [
      "<class 'pandas.core.frame.DataFrame'>\n",
      "RangeIndex: 100 entries, 0 to 99\n",
      "Data columns (total 2 columns):\n",
      " #   Column      Non-Null Count  Dtype  \n",
      "---  ------      --------------  -----  \n",
      " 0   Time (min)  100 non-null    float64\n",
      " 1   Buy         100 non-null    int64  \n",
      "dtypes: float64(1), int64(1)\n",
      "memory usage: 1.7 KB\n"
     ]
    }
   ],
   "source": [
    "df.info()"
   ]
  },
  {
   "cell_type": "code",
   "execution_count": 5,
   "id": "4e94c622",
   "metadata": {},
   "outputs": [
    {
     "data": {
      "text/plain": [
       "<AxesSubplot:title={'center':'Time vs Buy'}, xlabel='Time (min)', ylabel='Buy'>"
      ]
     },
     "execution_count": 5,
     "metadata": {},
     "output_type": "execute_result"
    },
    {
     "data": {
      "image/png": "[encoded data removed]",
      "text/plain": [
       "<Figure size 432x288 with 1 Axes>"
      ]
     },
     "metadata": {
      "needs_background": "light"
     },
     "output_type": "display_data"
    }
   ],
   "source": [
    "df.plot.scatter(x=\"Time (min)\",\n",
    "                y=\"Buy\",\n",
    "                title=\"Time vs Buy\")"
   ]
  },
  {
   "cell_type": "code",
   "execution_count": 6,
   "id": "34da6e4a",
   "metadata": {},
   "outputs": [
    {
     "name": "stderr",
     "output_type": "stream",
     "text": [
      "Using TensorFlow backend.\n"
     ]
    }
   ],
   "source": [
    "from keras.models import Sequential\n",
    "from keras.layers import Dense\n",
    "from keras.optimizers import SGD"
   ]
  },
  {
   "cell_type": "code",
   "execution_count": 7,
   "id": "62016b5a",
   "metadata": {},
   "outputs": [],
   "source": [
    "model = Sequential()\n",
    "model.add(Dense(1, input_shape=(1,),activation='sigmoid'))\n",
    "model.compile(SGD(lr=0.05),'binary_crossentropy',metrics=['accuracy'])"
   ]
  },
  {
   "cell_type": "code",
   "execution_count": 8,
   "id": "b3b1a7b8",
   "metadata": {},
   "outputs": [
    {
     "name": "stdout",
     "output_type": "stream",
     "text": [
      "Epoch 1/25\n",
      "100/100 [==============================] - 0s 4ms/step - loss: 0.6380 - accuracy: 0.5700\n",
      "Epoch 2/25\n",
      "100/100 [==============================] - 0s 589us/step - loss: 0.6263 - accuracy: 0.5700\n",
      "Epoch 3/25\n",
      "100/100 [==============================] - 0s 365us/step - loss: 0.6155 - accuracy: 0.5800\n",
      "Epoch 4/25\n",
      "100/100 [==============================] - 0s 218us/step - loss: 0.6096 - accuracy: 0.5900\n",
      "Epoch 5/25\n",
      "100/100 [==============================] - 0s 600us/step - loss: 0.6022 - accuracy: 0.5900\n",
      "Epoch 6/25\n",
      "100/100 [==============================] - 0s 315us/step - loss: 0.5995 - accuracy: 0.6000\n",
      "Epoch 7/25\n",
      "100/100 [==============================] - 0s 254us/step - loss: 0.5968 - accuracy: 0.5900\n",
      "Epoch 8/25\n",
      "100/100 [==============================] - 0s 283us/step - loss: 0.5938 - accuracy: 0.5900\n",
      "Epoch 9/25\n",
      "100/100 [==============================] - 0s 215us/step - loss: 0.5890 - accuracy: 0.6100\n",
      "Epoch 10/25\n",
      "100/100 [==============================] - 0s 165us/step - loss: 0.5849 - accuracy: 0.6200\n",
      "Epoch 11/25\n",
      "100/100 [==============================] - 0s 330us/step - loss: 0.5821 - accuracy: 0.6500\n",
      "Epoch 12/25\n",
      "100/100 [==============================] - 0s 280us/step - loss: 0.5788 - accuracy: 0.6900\n",
      "Epoch 13/25\n",
      "100/100 [==============================] - 0s 549us/step - loss: 0.5766 - accuracy: 0.6900\n",
      "Epoch 14/25\n",
      "100/100 [==============================] - 0s 365us/step - loss: 0.5737 - accuracy: 0.7100\n",
      "Epoch 15/25\n",
      "100/100 [==============================] - 0s 295us/step - loss: 0.5718 - accuracy: 0.7200\n",
      "Epoch 16/25\n",
      "100/100 [==============================] - 0s 305us/step - loss: 0.5678 - accuracy: 0.7100\n",
      "Epoch 17/25\n",
      "100/100 [==============================] - 0s 145us/step - loss: 0.5654 - accuracy: 0.7100\n",
      "Epoch 18/25\n",
      "100/100 [==============================] - 0s 125us/step - loss: 0.5631 - accuracy: 0.7000\n",
      "Epoch 19/25\n",
      "100/100 [==============================] - 0s 197us/step - loss: 0.5614 - accuracy: 0.7100\n",
      "Epoch 20/25\n",
      "100/100 [==============================] - 0s 125us/step - loss: 0.5590 - accuracy: 0.6900\n",
      "Epoch 21/25\n",
      "100/100 [==============================] - 0s 249us/step - loss: 0.5559 - accuracy: 0.7100\n",
      "Epoch 22/25\n",
      "100/100 [==============================] - 0s 344us/step - loss: 0.5542 - accuracy: 0.7100\n",
      "Epoch 23/25\n",
      "100/100 [==============================] - 0s 327us/step - loss: 0.5515 - accuracy: 0.7200\n",
      "Epoch 24/25\n",
      "100/100 [==============================] - 0s 107us/step - loss: 0.5487 - accuracy: 0.7400\n",
      "Epoch 25/25\n",
      "100/100 [==============================] - 0s 259us/step - loss: 0.5474 - accuracy: 0.7800\n"
     ]
    },
    {
     "data": {
      "text/plain": [
       "<keras.callbacks.callbacks.History at 0x7f93adfbfd30>"
      ]
     },
     "execution_count": 8,
     "metadata": {},
     "output_type": "execute_result"
    }
   ],
   "source": [
    "X = df['Time (min)'].values\n",
    "y = df['Buy'].values\n",
    "model.fit(X,y,epochs=25)"
   ]
  },
  {
   "cell_type": "code",
   "execution_count": 9,
   "id": "6a068e72",
   "metadata": {},
   "outputs": [
    {
     "name": "stdout",
     "output_type": "stream",
     "text": [
      "Model: \"sequential_1\"\n",
      "_________________________________________________________________\n",
      "Layer (type)                 Output Shape              Param #   \n",
      "=================================================================\n",
      "dense_1 (Dense)              (None, 1)                 2         \n",
      "=================================================================\n",
      "Total params: 2\n",
      "Trainable params: 2\n",
      "Non-trainable params: 0\n",
      "_________________________________________________________________\n"
     ]
    }
   ],
   "source": [
    "model.summary()"
   ]
  },
  {
   "cell_type": "code",
   "execution_count": 10,
   "id": "526e23c7",
   "metadata": {},
   "outputs": [
    {
     "data": {
      "text/plain": [
       "<matplotlib.legend.Legend at 0x7f93a06dca90>"
      ]
     },
     "execution_count": 10,
     "metadata": {},
     "output_type": "execute_result"
    },
    {
     "data": {
      "image/png": "[encoded data removed]",
      "text/plain": [
       "<Figure size 432x288 with 1 Axes>"
      ]
     },
     "metadata": {
      "needs_background": "light"
     },
     "output_type": "display_data"
    }
   ],
   "source": [
    "ax = df.plot.scatter(x=\"Time (min)\",\n",
    "                     y=\"Buy\",\n",
    "                     title=\"Purchase Bheavior vs time spent on site\")\n",
    "\n",
    "temp = np.linspace(0,4)\n",
    "ax.plot(temp,model.predict(temp), color=\"orange\")\n",
    "plt.legend(['model','data'])"
   ]
  },
  {
   "cell_type": "code",
   "execution_count": 11,
   "id": "1907a77f",
   "metadata": {},
   "outputs": [],
   "source": [
    "temp_class = model.predict(temp) > 0.5"
   ]
  },
  {
   "cell_type": "code",
   "execution_count": 12,
   "id": "b3a5f979",
   "metadata": {},
   "outputs": [
    {
     "data": {
      "text/plain": [
       "<matplotlib.legend.Legend at 0x7f93a063f9e8>"
      ]
     },
     "execution_count": 12,
     "metadata": {},
     "output_type": "execute_result"
    },
    {
     "data": {
      "image/png": "[encoded data removed]",
      "text/plain": [
       "<Figure size 432x288 with 1 Axes>"
      ]
     },
     "metadata": {
      "needs_background": "light"
     },
     "output_type": "display_data"
    }
   ],
   "source": [
    "ax = df.plot.scatter(x=\"Time (min)\",\n",
    "                     y=\"Buy\",\n",
    "                     title=\"Purchase Bheavior vs time spent on site\")\n",
    "\n",
    "temp = np.linspace(0,4)\n",
    "ax.plot(temp,temp_class, color=\"orange\")\n",
    "plt.legend(['model','data'])"
   ]
  },
  {
   "cell_type": "code",
   "execution_count": 13,
   "id": "9dfbb40a",
   "metadata": {},
   "outputs": [],
   "source": [
    "y_pred = model.predict(X)\n",
    "y_class_pred = y_pred > 0.5"
   ]
  },
  {
   "cell_type": "code",
   "execution_count": 14,
   "id": "d73fa4d0",
   "metadata": {},
   "outputs": [],
   "source": [
    "from sklearn.metrics import accuracy_score"
   ]
  },
  {
   "cell_type": "code",
   "execution_count": 15,
   "id": "2ebdb0d2",
   "metadata": {},
   "outputs": [
    {
     "name": "stdout",
     "output_type": "stream",
     "text": [
      "The accuracy score is 0.810\n"
     ]
    }
   ],
   "source": [
    "print(\"The accuracy score is {:0.3f}\".format(accuracy_score(y,y_class_pred)))"
   ]
  },
  {
   "cell_type": "markdown",
   "id": "aa635aee",
   "metadata": {},
   "source": [
    "# Train/Test Split"
   ]
  },
  {
   "cell_type": "code",
   "execution_count": 16,
   "id": "2c790aed",
   "metadata": {},
   "outputs": [],
   "source": [
    "from sklearn.model_selection import train_test_split"
   ]
  },
  {
   "cell_type": "code",
   "execution_count": 17,
   "id": "ed55a8c2",
   "metadata": {},
   "outputs": [],
   "source": [
    "X_train, X_test, y_train, y_test = train_test_split(X, y, test_size=0.2)"
   ]
  },
  {
   "cell_type": "code",
   "execution_count": 18,
   "id": "5732ca4f",
   "metadata": {},
   "outputs": [],
   "source": [
    "params = model.get_weights()\n",
    "params = [np.zeros(w.shape) for w in params]\n",
    "model.set_weights(params)"
   ]
  },
  {
   "cell_type": "code",
   "execution_count": 19,
   "id": "c9f4378d",
   "metadata": {},
   "outputs": [
    {
     "data": {
      "text/plain": [
       "array([[0.5],\n",
       "       [0.5],\n",
       "       [0.5],\n",
       "       [0.5],\n",
       "       [0.5],\n",
       "       [0.5],\n",
       "       [0.5],\n",
       "       [0.5],\n",
       "       [0.5],\n",
       "       [0.5],\n",
       "       [0.5],\n",
       "       [0.5],\n",
       "       [0.5],\n",
       "       [0.5],\n",
       "       [0.5],\n",
       "       [0.5],\n",
       "       [0.5],\n",
       "       [0.5],\n",
       "       [0.5],\n",
       "       [0.5],\n",
       "       [0.5],\n",
       "       [0.5],\n",
       "       [0.5],\n",
       "       [0.5],\n",
       "       [0.5],\n",
       "       [0.5],\n",
       "       [0.5],\n",
       "       [0.5],\n",
       "       [0.5],\n",
       "       [0.5],\n",
       "       [0.5],\n",
       "       [0.5],\n",
       "       [0.5],\n",
       "       [0.5],\n",
       "       [0.5],\n",
       "       [0.5],\n",
       "       [0.5],\n",
       "       [0.5],\n",
       "       [0.5],\n",
       "       [0.5],\n",
       "       [0.5],\n",
       "       [0.5],\n",
       "       [0.5],\n",
       "       [0.5],\n",
       "       [0.5],\n",
       "       [0.5],\n",
       "       [0.5],\n",
       "       [0.5],\n",
       "       [0.5],\n",
       "       [0.5],\n",
       "       [0.5],\n",
       "       [0.5],\n",
       "       [0.5],\n",
       "       [0.5],\n",
       "       [0.5],\n",
       "       [0.5],\n",
       "       [0.5],\n",
       "       [0.5],\n",
       "       [0.5],\n",
       "       [0.5],\n",
       "       [0.5],\n",
       "       [0.5],\n",
       "       [0.5],\n",
       "       [0.5],\n",
       "       [0.5],\n",
       "       [0.5],\n",
       "       [0.5],\n",
       "       [0.5],\n",
       "       [0.5],\n",
       "       [0.5],\n",
       "       [0.5],\n",
       "       [0.5],\n",
       "       [0.5],\n",
       "       [0.5],\n",
       "       [0.5],\n",
       "       [0.5],\n",
       "       [0.5],\n",
       "       [0.5],\n",
       "       [0.5],\n",
       "       [0.5],\n",
       "       [0.5],\n",
       "       [0.5],\n",
       "       [0.5],\n",
       "       [0.5],\n",
       "       [0.5],\n",
       "       [0.5],\n",
       "       [0.5],\n",
       "       [0.5],\n",
       "       [0.5],\n",
       "       [0.5],\n",
       "       [0.5],\n",
       "       [0.5],\n",
       "       [0.5],\n",
       "       [0.5],\n",
       "       [0.5],\n",
       "       [0.5],\n",
       "       [0.5],\n",
       "       [0.5],\n",
       "       [0.5],\n",
       "       [0.5]], dtype=float32)"
      ]
     },
     "execution_count": 19,
     "metadata": {},
     "output_type": "execute_result"
    }
   ],
   "source": [
    "model.predict(X)"
   ]
  },
  {
   "cell_type": "code",
   "execution_count": 20,
   "id": "ca27b8e1",
   "metadata": {},
   "outputs": [
    {
     "data": {
      "text/plain": [
       "array([0, 0, 1, 0, 1, 1, 0, 0, 0, 0, 1, 1, 0, 1, 1, 1, 0, 0, 1, 1, 0, 1,\n",
       "       0, 1, 1, 0, 1, 1, 1, 1, 0, 1, 0, 1, 0, 1, 0, 1, 1, 0, 1, 0, 0, 1,\n",
       "       1, 0, 1, 1, 0, 0, 1, 0, 0, 1, 0, 0, 0, 1, 0, 0, 1, 0, 0, 1, 1, 1,\n",
       "       1, 1, 1, 1, 0, 1, 1, 0, 0, 0, 0, 0, 1, 0, 0, 0, 1, 1, 0, 0, 0, 0,\n",
       "       1, 1, 0, 0, 1, 1, 0, 1, 1, 0, 0, 1])"
      ]
     },
     "execution_count": 20,
     "metadata": {},
     "output_type": "execute_result"
    }
   ],
   "source": [
    "y"
   ]
  },
  {
   "cell_type": "code",
   "execution_count": 21,
   "id": "16ca94d7",
   "metadata": {},
   "outputs": [
    {
     "name": "stdout",
     "output_type": "stream",
     "text": [
      "The accuracy score is 0.500\n"
     ]
    }
   ],
   "source": [
    "print(\"The accuracy score is {:0.3f}\".format(accuracy_score(y.ravel(),(model.predict(X)>0.5).astype(int))))"
   ]
  },
  {
   "cell_type": "code",
   "execution_count": 22,
   "id": "1daa65d4",
   "metadata": {},
   "outputs": [
    {
     "data": {
      "text/plain": [
       "<keras.callbacks.callbacks.History at 0x7f93ae15ba58>"
      ]
     },
     "execution_count": 22,
     "metadata": {},
     "output_type": "execute_result"
    }
   ],
   "source": [
    "model.fit(X_train, y_train, epochs=25, verbose=0)"
   ]
  },
  {
   "cell_type": "code",
   "execution_count": 23,
   "id": "9be54754",
   "metadata": {},
   "outputs": [
    {
     "name": "stdout",
     "output_type": "stream",
     "text": [
      "The accuracy score on Train set is 0.700\n"
     ]
    }
   ],
   "source": [
    "print(\"The accuracy score on Train set is {:0.3f}\".format(accuracy_score(y_train,(model.predict(X_train)>0.5).astype(int))))"
   ]
  },
  {
   "cell_type": "code",
   "execution_count": 24,
   "id": "f7215b01",
   "metadata": {},
   "outputs": [
    {
     "name": "stdout",
     "output_type": "stream",
     "text": [
      "The accuracy score on Train set is 0.800\n"
     ]
    }
   ],
   "source": [
    "print(\"The accuracy score on Train set is {:0.3f}\".format(accuracy_score(y_test,(model.predict(X_test)>0.5).astype(int))))"
   ]
  },
  {
   "cell_type": "markdown",
   "id": "aae11bf5",
   "metadata": {},
   "source": [
    "# Cross Validation"
   ]
  },
  {
   "cell_type": "code",
   "execution_count": 25,
   "id": "874bf546",
   "metadata": {},
   "outputs": [],
   "source": [
    "from keras.wrappers.scikit_learn import KerasClassifier"
   ]
  },
  {
   "cell_type": "code",
   "execution_count": 30,
   "id": "0e452523",
   "metadata": {},
   "outputs": [],
   "source": [
    "def build_logistic_regression_model():\n",
    "    model = Sequential()\n",
    "    model.add(Dense(1, input_shape=(1,),activation='sigmoid'))\n",
    "    model.compile(SGD(lr=0.5),'binary_crossentropy',metrics=['accuracy'])\n",
    "    return model"
   ]
  },
  {
   "cell_type": "code",
   "execution_count": 31,
   "id": "dec8fb80",
   "metadata": {},
   "outputs": [],
   "source": [
    "model = KerasClassifier(build_fn=build_logistic_regression_model,\n",
    "                       epochs=25)"
   ]
  },
  {
   "cell_type": "code",
   "execution_count": 32,
   "id": "929cb1c2",
   "metadata": {},
   "outputs": [],
   "source": [
    "from sklearn.model_selection import cross_val_score, KFold"
   ]
  },
  {
   "cell_type": "code",
   "execution_count": 33,
   "id": "69a409f8",
   "metadata": {},
   "outputs": [
    {
     "name": "stdout",
     "output_type": "stream",
     "text": [
      "Epoch 1/25\n",
      "66/66 [==============================] - 0s 7ms/step - loss: 0.6285 - accuracy: 0.5758\n",
      "Epoch 2/25\n",
      "66/66 [==============================] - 0s 378us/step - loss: 0.6038 - accuracy: 0.6061\n",
      "Epoch 3/25\n",
      "66/66 [==============================] - 0s 432us/step - loss: 0.5858 - accuracy: 0.6061\n",
      "Epoch 4/25\n",
      "66/66 [==============================] - 0s 231us/step - loss: 0.6143 - accuracy: 0.5909\n",
      "Epoch 5/25\n",
      "66/66 [==============================] - 0s 224us/step - loss: 0.5577 - accuracy: 0.6818\n",
      "Epoch 6/25\n",
      "66/66 [==============================] - 0s 310us/step - loss: 0.5854 - accuracy: 0.6061\n",
      "Epoch 7/25\n",
      "66/66 [==============================] - 0s 273us/step - loss: 0.5918 - accuracy: 0.6364\n",
      "Epoch 8/25\n",
      "66/66 [==============================] - 0s 335us/step - loss: 0.5498 - accuracy: 0.7121\n",
      "Epoch 9/25\n",
      "66/66 [==============================] - ETA: 0s - loss: 0.5382 - accuracy: 0.62 - 0s 510us/step - loss: 0.5634 - accuracy: 0.6667\n",
      "Epoch 10/25\n",
      "66/66 [==============================] - 0s 258us/step - loss: 0.5166 - accuracy: 0.7727\n",
      "Epoch 11/25\n",
      "66/66 [==============================] - 0s 320us/step - loss: 0.5022 - accuracy: 0.7879\n",
      "Epoch 12/25\n",
      "66/66 [==============================] - 0s 217us/step - loss: 0.4886 - accuracy: 0.7576\n",
      "Epoch 13/25\n",
      "66/66 [==============================] - 0s 338us/step - loss: 0.4855 - accuracy: 0.7273\n",
      "Epoch 14/25\n",
      "66/66 [==============================] - 0s 204us/step - loss: 0.5099 - accuracy: 0.7576\n",
      "Epoch 15/25\n",
      "66/66 [==============================] - 0s 142us/step - loss: 0.4856 - accuracy: 0.7576\n",
      "Epoch 16/25\n",
      "66/66 [==============================] - 0s 153us/step - loss: 0.5148 - accuracy: 0.7424\n",
      "Epoch 17/25\n",
      "66/66 [==============================] - 0s 151us/step - loss: 0.4862 - accuracy: 0.7879\n",
      "Epoch 18/25\n",
      "66/66 [==============================] - 0s 560us/step - loss: 0.4611 - accuracy: 0.7424\n",
      "Epoch 19/25\n",
      "66/66 [==============================] - 0s 136us/step - loss: 0.5056 - accuracy: 0.7576\n",
      "Epoch 20/25\n",
      "66/66 [==============================] - 0s 126us/step - loss: 0.5566 - accuracy: 0.6515\n",
      "Epoch 21/25\n",
      "66/66 [==============================] - 0s 433us/step - loss: 0.4769 - accuracy: 0.7879\n",
      "Epoch 22/25\n",
      "66/66 [==============================] - 0s 139us/step - loss: 0.6131 - accuracy: 0.6515\n",
      "Epoch 23/25\n",
      "66/66 [==============================] - 0s 171us/step - loss: 0.4492 - accuracy: 0.8030\n",
      "Epoch 24/25\n",
      "66/66 [==============================] - 0s 224us/step - loss: 0.4578 - accuracy: 0.8030\n",
      "Epoch 25/25\n",
      "66/66 [==============================] - 0s 148us/step - loss: 0.4424 - accuracy: 0.8030\n",
      "34/34 [==============================] - 0s 3ms/step\n",
      "Epoch 1/25\n",
      "67/67 [==============================] - 0s 5ms/step - loss: 0.6162 - accuracy: 0.5970\n",
      "Epoch 2/25\n",
      "67/67 [==============================] - 0s 249us/step - loss: 0.5569 - accuracy: 0.6418\n",
      "Epoch 3/25\n",
      "67/67 [==============================] - 0s 325us/step - loss: 0.5212 - accuracy: 0.7313\n",
      "Epoch 4/25\n",
      "67/67 [==============================] - 0s 449us/step - loss: 0.4962 - accuracy: 0.8507\n",
      "Epoch 5/25\n",
      "67/67 [==============================] - 0s 653us/step - loss: 0.4707 - accuracy: 0.7612\n",
      "Epoch 6/25\n",
      "67/67 [==============================] - 0s 363us/step - loss: 0.4555 - accuracy: 0.7612\n",
      "Epoch 7/25\n",
      "67/67 [==============================] - 0s 387us/step - loss: 0.4366 - accuracy: 0.8358\n",
      "Epoch 8/25\n",
      "67/67 [==============================] - 0s 120us/step - loss: 0.4243 - accuracy: 0.8358\n",
      "Epoch 9/25\n",
      "67/67 [==============================] - 0s 298us/step - loss: 0.4151 - accuracy: 0.8955\n",
      "Epoch 10/25\n",
      "67/67 [==============================] - 0s 167us/step - loss: 0.4080 - accuracy: 0.8209\n",
      "Epoch 11/25\n",
      "67/67 [==============================] - 0s 259us/step - loss: 0.4005 - accuracy: 0.8955\n",
      "Epoch 12/25\n",
      "67/67 [==============================] - 0s 327us/step - loss: 0.3982 - accuracy: 0.8806\n",
      "Epoch 13/25\n",
      "67/67 [==============================] - 0s 374us/step - loss: 0.3696 - accuracy: 0.8657\n",
      "Epoch 14/25\n",
      "67/67 [==============================] - 0s 480us/step - loss: 0.3681 - accuracy: 0.8657\n",
      "Epoch 15/25\n",
      "67/67 [==============================] - 0s 469us/step - loss: 0.3580 - accuracy: 0.8955\n",
      "Epoch 16/25\n",
      "67/67 [==============================] - 0s 521us/step - loss: 0.3631 - accuracy: 0.8657\n",
      "Epoch 17/25\n",
      "67/67 [==============================] - 0s 552us/step - loss: 0.3497 - accuracy: 0.8657\n",
      "Epoch 18/25\n",
      "67/67 [==============================] - 0s 240us/step - loss: 0.3461 - accuracy: 0.8657\n",
      "Epoch 19/25\n",
      "67/67 [==============================] - 0s 356us/step - loss: 0.3485 - accuracy: 0.8657\n",
      "Epoch 20/25\n",
      "67/67 [==============================] - 0s 676us/step - loss: 0.3389 - accuracy: 0.8806\n",
      "Epoch 21/25\n",
      "67/67 [==============================] - 0s 348us/step - loss: 0.3449 - accuracy: 0.8806\n",
      "Epoch 22/25\n",
      "67/67 [==============================] - 0s 156us/step - loss: 0.3364 - accuracy: 0.8806\n",
      "Epoch 23/25\n",
      "67/67 [==============================] - 0s 125us/step - loss: 0.3316 - accuracy: 0.8806\n",
      "Epoch 24/25\n",
      "67/67 [==============================] - 0s 117us/step - loss: 0.3370 - accuracy: 0.8507\n",
      "Epoch 25/25\n",
      "67/67 [==============================] - 0s 130us/step - loss: 0.3249 - accuracy: 0.8955\n",
      "33/33 [==============================] - 0s 4ms/step\n",
      "Epoch 1/25\n",
      "67/67 [==============================] - 1s 8ms/step - loss: 0.6559 - accuracy: 0.5224\n",
      "Epoch 2/25\n",
      "67/67 [==============================] - 0s 145us/step - loss: 0.6281 - accuracy: 0.5672\n",
      "Epoch 3/25\n",
      "67/67 [==============================] - 0s 126us/step - loss: 0.6213 - accuracy: 0.6418\n",
      "Epoch 4/25\n",
      "67/67 [==============================] - 0s 126us/step - loss: 0.5905 - accuracy: 0.7910\n",
      "Epoch 5/25\n",
      "67/67 [==============================] - 0s 124us/step - loss: 0.5788 - accuracy: 0.6866\n",
      "Epoch 6/25\n",
      "67/67 [==============================] - 0s 116us/step - loss: 0.5515 - accuracy: 0.7612\n",
      "Epoch 7/25\n",
      "67/67 [==============================] - 0s 383us/step - loss: 0.5740 - accuracy: 0.6866\n",
      "Epoch 8/25\n",
      "67/67 [==============================] - 0s 259us/step - loss: 0.5478 - accuracy: 0.7761\n",
      "Epoch 9/25\n",
      "67/67 [==============================] - 0s 454us/step - loss: 0.5747 - accuracy: 0.6567\n",
      "Epoch 10/25\n",
      "67/67 [==============================] - 0s 142us/step - loss: 0.5123 - accuracy: 0.7910\n",
      "Epoch 11/25\n",
      "67/67 [==============================] - 0s 190us/step - loss: 0.5225 - accuracy: 0.7313\n",
      "Epoch 12/25\n",
      "67/67 [==============================] - 0s 196us/step - loss: 0.5207 - accuracy: 0.7612\n",
      "Epoch 13/25\n",
      "67/67 [==============================] - 0s 187us/step - loss: 0.5256 - accuracy: 0.7761\n",
      "Epoch 14/25\n",
      "67/67 [==============================] - 0s 289us/step - loss: 0.5002 - accuracy: 0.7761\n",
      "Epoch 15/25\n",
      "67/67 [==============================] - 0s 141us/step - loss: 0.4790 - accuracy: 0.7910\n",
      "Epoch 16/25\n",
      "67/67 [==============================] - 0s 112us/step - loss: 0.4968 - accuracy: 0.7761\n",
      "Epoch 17/25\n",
      "67/67 [==============================] - 0s 124us/step - loss: 0.5088 - accuracy: 0.7313\n",
      "Epoch 18/25\n",
      "67/67 [==============================] - 0s 115us/step - loss: 0.5377 - accuracy: 0.7015\n",
      "Epoch 19/25\n",
      "67/67 [==============================] - 0s 106us/step - loss: 0.4924 - accuracy: 0.7761\n",
      "Epoch 20/25\n",
      "67/67 [==============================] - 0s 101us/step - loss: 0.4636 - accuracy: 0.7910\n",
      "Epoch 21/25\n",
      "67/67 [==============================] - 0s 117us/step - loss: 0.4846 - accuracy: 0.7612\n",
      "Epoch 22/25\n",
      "67/67 [==============================] - 0s 177us/step - loss: 0.4709 - accuracy: 0.7761\n",
      "Epoch 23/25\n",
      "67/67 [==============================] - 0s 318us/step - loss: 0.4573 - accuracy: 0.7761\n",
      "Epoch 24/25\n",
      "67/67 [==============================] - 0s 353us/step - loss: 0.4583 - accuracy: 0.8060\n",
      "Epoch 25/25\n",
      "67/67 [==============================] - 0s 162us/step - loss: 0.4534 - accuracy: 0.7761\n",
      "33/33 [==============================] - 0s 4ms/step\n"
     ]
    }
   ],
   "source": [
    "cv = KFold(3, shuffle=True)\n",
    "scores = cross_val_score(model, X, y, cv=cv)"
   ]
  },
  {
   "cell_type": "code",
   "execution_count": 34,
   "id": "814cdf05",
   "metadata": {},
   "outputs": [
    {
     "data": {
      "text/plain": [
       "array([0.88235295, 0.69696969, 0.87878788])"
      ]
     },
     "execution_count": 34,
     "metadata": {},
     "output_type": "execute_result"
    }
   ],
   "source": [
    "scores"
   ]
  },
  {
   "cell_type": "code",
   "execution_count": 35,
   "id": "b2579d06",
   "metadata": {},
   "outputs": [
    {
     "name": "stdout",
     "output_type": "stream",
     "text": [
      "The cross validation accuracy is\t0.819\n"
     ]
    }
   ],
   "source": [
    "print(\"The cross validation accuracy is\\t{:0.3f} \".format(scores.mean()))"
   ]
  },
  {
   "cell_type": "markdown",
   "id": "287a1518",
   "metadata": {},
   "source": [
    "# Confusion Matrix"
   ]
  },
  {
   "cell_type": "code",
   "execution_count": 36,
   "id": "2dadff52",
   "metadata": {},
   "outputs": [],
   "source": [
    "from sklearn.metrics import confusion_matrix"
   ]
  },
  {
   "cell_type": "code",
   "execution_count": 37,
   "id": "32e55efe",
   "metadata": {},
   "outputs": [
    {
     "data": {
      "text/plain": [
       "array([[32, 18],\n",
       "       [ 1, 49]])"
      ]
     },
     "execution_count": 37,
     "metadata": {},
     "output_type": "execute_result"
    }
   ],
   "source": [
    "confusion_matrix(y, y_class_pred)"
   ]
  },
  {
   "cell_type": "code",
   "execution_count": 39,
   "id": "98f067fd",
   "metadata": {},
   "outputs": [],
   "source": [
    "def pretty_confusion_matrix(y_true, y_pred, labels=[\"False\",\"True\"]):\n",
    "    cm = confusion_matrix(y_true, y_pred)\n",
    "    pred_labels = ['Predicted'+ l for l in labels]\n",
    "    df = pd.DataFrame(cm,index=labels, columns=pred_labels)\n",
    "    return df"
   ]
  },
  {
   "cell_type": "code",
   "execution_count": 40,
   "id": "2cae466d",
   "metadata": {},
   "outputs": [
    {
     "data": {
      "text/html": [
       "<div>\n",
       "<style scoped>\n",
       "    .dataframe tbody tr th:only-of-type {\n",
       "        vertical-align: middle;\n",
       "    }\n",
       "\n",
       "    .dataframe tbody tr th {\n",
       "        vertical-align: top;\n",
       "    }\n",
       "\n",
       "    .dataframe thead th {\n",
       "        text-align: right;\n",
       "    }\n",
       "</style>\n",
       "<table border=\"1\" class=\"dataframe\">\n",
       "  <thead>\n",
       "    <tr style=\"text-align: right;\">\n",
       "      <th></th>\n",
       "      <th>PredictedNot Buy</th>\n",
       "      <th>PredictedBuy</th>\n",
       "    </tr>\n",
       "  </thead>\n",
       "  <tbody>\n",
       "    <tr>\n",
       "      <th>Not Buy</th>\n",
       "      <td>32</td>\n",
       "      <td>18</td>\n",
       "    </tr>\n",
       "    <tr>\n",
       "      <th>Buy</th>\n",
       "      <td>1</td>\n",
       "      <td>49</td>\n",
       "    </tr>\n",
       "  </tbody>\n",
       "</table>\n",
       "</div>"
      ],
      "text/plain": [
       "         PredictedNot Buy  PredictedBuy\n",
       "Not Buy                32            18\n",
       "Buy                     1            49"
      ]
     },
     "execution_count": 40,
     "metadata": {},
     "output_type": "execute_result"
    }
   ],
   "source": [
    "pretty_confusion_matrix(y, y_class_pred, ['Not Buy','Buy'])"
   ]
  },
  {
   "cell_type": "code",
   "execution_count": 41,
   "id": "a54861c1",
   "metadata": {},
   "outputs": [],
   "source": [
    "from sklearn.metrics import precision_score,recall_score, f1_score"
   ]
  },
  {
   "cell_type": "code",
   "execution_count": 42,
   "id": "0fdbf588",
   "metadata": {},
   "outputs": [
    {
     "name": "stdout",
     "output_type": "stream",
     "text": [
      "Precision\t0.731\n",
      "Recall:\t0.980\n",
      "F1 Score:\t0.838\n"
     ]
    }
   ],
   "source": [
    "print(\"Precision\\t{:0.3f}\".format(precision_score(y, y_class_pred)))\n",
    "print(\"Recall:\\t{:0.3f}\".format(recall_score(y, y_class_pred)))\n",
    "print(\"F1 Score:\\t{:0.3f}\".format(f1_score(y, y_class_pred)))"
   ]
  },
  {
   "cell_type": "code",
   "execution_count": 43,
   "id": "a6b7d277",
   "metadata": {},
   "outputs": [],
   "source": [
    "from sklearn.metrics import classification_report"
   ]
  },
  {
   "cell_type": "code",
   "execution_count": 44,
   "id": "583b2426",
   "metadata": {},
   "outputs": [
    {
     "name": "stdout",
     "output_type": "stream",
     "text": [
      "              precision    recall  f1-score   support\n",
      "\n",
      "           0       0.97      0.64      0.77        50\n",
      "           1       0.73      0.98      0.84        50\n",
      "\n",
      "    accuracy                           0.81       100\n",
      "   macro avg       0.85      0.81      0.80       100\n",
      "weighted avg       0.85      0.81      0.80       100\n",
      "\n"
     ]
    }
   ],
   "source": [
    "print(classification_report(y,y_class_pred))"
   ]
  },
  {
   "cell_type": "code",
   "execution_count": null,
   "id": "e25ebd25",
   "metadata": {},
   "outputs": [],
   "source": []
  }
 ],
 "metadata": {
  "kernelspec": {
   "display_name": "conda_tensorflow2_p36",
   "language": "python",
   "name": "conda_tensorflow2_p36"
  },
  "language_info": {
   "codemirror_mode": {
    "name": "ipython",
    "version": 3
   },
   "file_extension": ".py",
   "mimetype": "text/x-python",
   "name": "python",
   "nbconvert_exporter": "python",
   "pygments_lexer": "ipython3",
   "version": "3.6.13"
  }
 },
 "nbformat": 4,
 "nbformat_minor": 5
}
