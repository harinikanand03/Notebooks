{
 "cells": [
  {
   "cell_type": "markdown",
   "id": "39e058df",
   "metadata": {},
   "source": [
    "# Classification using Logistic Regression"
   ]
  },
  {
   "cell_type": "code",
   "execution_count": 1,
   "id": "8bfa4d13",
   "metadata": {},
   "outputs": [],
   "source": [
    "import os\n",
    "import boto3\n",
    "\n",
    "%matplotlib inline\n",
    "import numpy as np\n",
    "import pandas as pd\n",
    "import matplotlib.pyplot as plt\n",
    "\n"
   ]
  },
  {
   "cell_type": "code",
   "execution_count": 2,
   "id": "7490c0d9",
   "metadata": {},
   "outputs": [],
   "source": [
    "s3 = boto3.client(\"s3\")\n",
    "\n",
    "filename = \"user_visit_duration.csv\"\n",
    "s3.download_file(\"sagemaker-ml-bucket-harini-2022\", \"training-data/user_visit_duration.csv\", filename)\n",
    "df = pd.read_csv(filename)"
   ]
  },
  {
   "cell_type": "code",
   "execution_count": 3,
   "id": "76ba8a3b",
   "metadata": {},
   "outputs": [
    {
     "data": {
      "text/html": [
       "<div>\n",
       "<style scoped>\n",
       "    .dataframe tbody tr th:only-of-type {\n",
       "        vertical-align: middle;\n",
       "    }\n",
       "\n",
       "    .dataframe tbody tr th {\n",
       "        vertical-align: top;\n",
       "    }\n",
       "\n",
       "    .dataframe thead th {\n",
       "        text-align: right;\n",
       "    }\n",
       "</style>\n",
       "<table border=\"1\" class=\"dataframe\">\n",
       "  <thead>\n",
       "    <tr style=\"text-align: right;\">\n",
       "      <th></th>\n",
       "      <th>Time (min)</th>\n",
       "      <th>Buy</th>\n",
       "    </tr>\n",
       "  </thead>\n",
       "  <tbody>\n",
       "    <tr>\n",
       "      <th>0</th>\n",
       "      <td>2.000000</td>\n",
       "      <td>0</td>\n",
       "    </tr>\n",
       "    <tr>\n",
       "      <th>1</th>\n",
       "      <td>0.683333</td>\n",
       "      <td>0</td>\n",
       "    </tr>\n",
       "    <tr>\n",
       "      <th>2</th>\n",
       "      <td>3.216667</td>\n",
       "      <td>1</td>\n",
       "    </tr>\n",
       "    <tr>\n",
       "      <th>3</th>\n",
       "      <td>0.900000</td>\n",
       "      <td>0</td>\n",
       "    </tr>\n",
       "    <tr>\n",
       "      <th>4</th>\n",
       "      <td>1.533333</td>\n",
       "      <td>1</td>\n",
       "    </tr>\n",
       "  </tbody>\n",
       "</table>\n",
       "</div>"
      ],
      "text/plain": [
       "   Time (min)  Buy\n",
       "0    2.000000    0\n",
       "1    0.683333    0\n",
       "2    3.216667    1\n",
       "3    0.900000    0\n",
       "4    1.533333    1"
      ]
     },
     "execution_count": 3,
     "metadata": {},
     "output_type": "execute_result"
    }
   ],
   "source": [
    "df.head()"
   ]
  },
  {
   "cell_type": "code",
   "execution_count": 4,
   "id": "52f4e4e5",
   "metadata": {},
   "outputs": [
    {
     "name": "stdout",
     "output_type": "stream",
     "text": [
      "<class 'pandas.core.frame.DataFrame'>\n",
      "RangeIndex: 100 entries, 0 to 99\n",
      "Data columns (total 2 columns):\n",
      " #   Column      Non-Null Count  Dtype  \n",
      "---  ------      --------------  -----  \n",
      " 0   Time (min)  100 non-null    float64\n",
      " 1   Buy         100 non-null    int64  \n",
      "dtypes: float64(1), int64(1)\n",
      "memory usage: 1.7 KB\n"
     ]
    }
   ],
   "source": [
    "df.info()"
   ]
  },
  {
   "cell_type": "code",
   "execution_count": 5,
   "id": "02a02bf5",
   "metadata": {},
   "outputs": [
    {
     "data": {
      "text/plain": [
       "<AxesSubplot:title={'center':'Time vs Buy'}, xlabel='Time (min)', ylabel='Buy'>"
      ]
     },
     "execution_count": 5,
     "metadata": {},
     "output_type": "execute_result"
    },
    {
     "data": {
      "image/png": "[encoded data removed]",
      "text/plain": [
       "<Figure size 432x288 with 1 Axes>"
      ]
     },
     "metadata": {
      "needs_background": "light"
     },
     "output_type": "display_data"
    }
   ],
   "source": [
    "df.plot.scatter(x=\"Time (min)\",\n",
    "                y=\"Buy\",\n",
    "                title=\"Time vs Buy\")"
   ]
  },
  {
   "cell_type": "code",
   "execution_count": 6,
   "id": "2dba4963",
   "metadata": {},
   "outputs": [
    {
     "name": "stderr",
     "output_type": "stream",
     "text": [
      "Using TensorFlow backend.\n"
     ]
    }
   ],
   "source": [
    "from keras.models import Sequential\n",
    "from keras.layers import Dense\n",
    "from keras.optimizers import SGD"
   ]
  },
  {
   "cell_type": "code",
   "execution_count": 7,
   "id": "462586d2",
   "metadata": {},
   "outputs": [],
   "source": [
    "model = Sequential()\n",
    "model.add(Dense(1, input_shape=(1,),activation='sigmoid'))\n",
    "model.compile(SGD(lr=0.05),'binary_crossentropy',metrics=['accuracy'])"
   ]
  },
  {
   "cell_type": "code",
   "execution_count": 8,
   "id": "9ef35105",
   "metadata": {},
   "outputs": [
    {
     "name": "stdout",
     "output_type": "stream",
     "text": [
      "Epoch 1/25\n",
      "100/100 [==============================] - 0s 3ms/step - loss: 0.6958 - accuracy: 0.5500\n",
      "Epoch 2/25\n",
      "100/100 [==============================] - 0s 231us/step - loss: 0.6653 - accuracy: 0.5000\n",
      "Epoch 3/25\n",
      "100/100 [==============================] - 0s 236us/step - loss: 0.6531 - accuracy: 0.5500\n",
      "Epoch 4/25\n",
      "100/100 [==============================] - 0s 128us/step - loss: 0.6483 - accuracy: 0.5700\n",
      "Epoch 5/25\n",
      "100/100 [==============================] - 0s 337us/step - loss: 0.6407 - accuracy: 0.5900\n",
      "Epoch 6/25\n",
      "100/100 [==============================] - 0s 109us/step - loss: 0.6324 - accuracy: 0.5900\n",
      "Epoch 7/25\n",
      "100/100 [==============================] - 0s 124us/step - loss: 0.6265 - accuracy: 0.5900\n",
      "Epoch 8/25\n",
      "100/100 [==============================] - 0s 263us/step - loss: 0.6230 - accuracy: 0.6000\n",
      "Epoch 9/25\n",
      "100/100 [==============================] - 0s 145us/step - loss: 0.6173 - accuracy: 0.5900\n",
      "Epoch 10/25\n",
      "100/100 [==============================] - 0s 153us/step - loss: 0.6147 - accuracy: 0.5900\n",
      "Epoch 11/25\n",
      "100/100 [==============================] - 0s 125us/step - loss: 0.6107 - accuracy: 0.6000\n",
      "Epoch 12/25\n",
      "100/100 [==============================] - 0s 109us/step - loss: 0.6071 - accuracy: 0.5900\n",
      "Epoch 13/25\n",
      "100/100 [==============================] - 0s 113us/step - loss: 0.6040 - accuracy: 0.6000\n",
      "Epoch 14/25\n",
      "100/100 [==============================] - 0s 113us/step - loss: 0.6024 - accuracy: 0.5900\n",
      "Epoch 15/25\n",
      "100/100 [==============================] - 0s 108us/step - loss: 0.5971 - accuracy: 0.6000\n",
      "Epoch 16/25\n",
      "100/100 [==============================] - 0s 184us/step - loss: 0.5932 - accuracy: 0.6100\n",
      "Epoch 17/25\n",
      "100/100 [==============================] - 0s 204us/step - loss: 0.5898 - accuracy: 0.6400\n",
      "Epoch 18/25\n",
      "100/100 [==============================] - 0s 336us/step - loss: 0.5866 - accuracy: 0.6300\n",
      "Epoch 19/25\n",
      "100/100 [==============================] - 0s 355us/step - loss: 0.5839 - accuracy: 0.6800\n",
      "Epoch 20/25\n",
      "100/100 [==============================] - 0s 275us/step - loss: 0.5809 - accuracy: 0.6800\n",
      "Epoch 21/25\n",
      "100/100 [==============================] - 0s 119us/step - loss: 0.5776 - accuracy: 0.6600\n",
      "Epoch 22/25\n",
      "100/100 [==============================] - 0s 126us/step - loss: 0.5748 - accuracy: 0.6700\n",
      "Epoch 23/25\n",
      "100/100 [==============================] - 0s 105us/step - loss: 0.5718 - accuracy: 0.6900\n",
      "Epoch 24/25\n",
      "100/100 [==============================] - 0s 212us/step - loss: 0.5679 - accuracy: 0.7100\n",
      "Epoch 25/25\n",
      "100/100 [==============================] - 0s 188us/step - loss: 0.5652 - accuracy: 0.7200\n"
     ]
    },
    {
     "data": {
      "text/plain": [
       "<keras.callbacks.callbacks.History at 0x7f0a18060898>"
      ]
     },
     "execution_count": 8,
     "metadata": {},
     "output_type": "execute_result"
    }
   ],
   "source": [
    "X = df['Time (min)'].values\n",
    "y = df['Buy'].values\n",
    "model.fit(X,y,epochs=25)"
   ]
  },
  {
   "cell_type": "code",
   "execution_count": 9,
   "id": "b7da5b55",
   "metadata": {},
   "outputs": [
    {
     "name": "stdout",
     "output_type": "stream",
     "text": [
      "Model: \"sequential_1\"\n",
      "_________________________________________________________________\n",
      "Layer (type)                 Output Shape              Param #   \n",
      "=================================================================\n",
      "dense_1 (Dense)              (None, 1)                 2         \n",
      "=================================================================\n",
      "Total params: 2\n",
      "Trainable params: 2\n",
      "Non-trainable params: 0\n",
      "_________________________________________________________________\n"
     ]
    }
   ],
   "source": [
    "model.summary()"
   ]
  },
  {
   "cell_type": "code",
   "execution_count": 10,
   "id": "b1ba2474",
   "metadata": {},
   "outputs": [
    {
     "data": {
      "text/plain": [
       "<matplotlib.legend.Legend at 0x7f0a085ed048>"
      ]
     },
     "execution_count": 10,
     "metadata": {},
     "output_type": "execute_result"
    },
    {
     "data": {
      "image/png": "[encoded data removed]",
      "text/plain": [
       "<Figure size 432x288 with 1 Axes>"
      ]
     },
     "metadata": {
      "needs_background": "light"
     },
     "output_type": "display_data"
    }
   ],
   "source": [
    "ax = df.plot.scatter(x=\"Time (min)\",\n",
    "                     y=\"Buy\",\n",
    "                     title=\"Purchase Bheavior vs time spent on site\")\n",
    "\n",
    "temp = np.linspace(0,4)\n",
    "ax.plot(temp,model.predict(temp), color=\"orange\")\n",
    "plt.legend(['model','data'])"
   ]
  },
  {
   "cell_type": "code",
   "execution_count": 11,
   "id": "08d043d2",
   "metadata": {},
   "outputs": [],
   "source": [
    "temp_class = model.predict(temp) > 0.5"
   ]
  },
  {
   "cell_type": "code",
   "execution_count": 12,
   "id": "9393b101",
   "metadata": {},
   "outputs": [
    {
     "data": {
      "text/plain": [
       "<matplotlib.legend.Legend at 0x7f0a08517630>"
      ]
     },
     "execution_count": 12,
     "metadata": {},
     "output_type": "execute_result"
    },
    {
     "data": {
      "image/png": "[encoded data removed]",
      "text/plain": [
       "<Figure size 432x288 with 1 Axes>"
      ]
     },
     "metadata": {
      "needs_background": "light"
     },
     "output_type": "display_data"
    }
   ],
   "source": [
    "ax = df.plot.scatter(x=\"Time (min)\",\n",
    "                     y=\"Buy\",\n",
    "                     title=\"Purchase Bheavior vs time spent on site\")\n",
    "\n",
    "temp = np.linspace(0,4)\n",
    "ax.plot(temp,temp_class, color=\"orange\")\n",
    "plt.legend(['model','data'])"
   ]
  },
  {
   "cell_type": "code",
   "execution_count": 13,
   "id": "7ab46e96",
   "metadata": {},
   "outputs": [],
   "source": [
    "y_pred = model.predict(X)\n",
    "y_class_pred = y_pred > 0.5"
   ]
  },
  {
   "cell_type": "code",
   "execution_count": 14,
   "id": "d2efa7aa",
   "metadata": {},
   "outputs": [],
   "source": [
    "from sklearn.metrics import accuracy_score"
   ]
  },
  {
   "cell_type": "code",
   "execution_count": 15,
   "id": "422e3b59",
   "metadata": {},
   "outputs": [
    {
     "name": "stdout",
     "output_type": "stream",
     "text": [
      "The accuracy score is 0.710\n"
     ]
    }
   ],
   "source": [
    "print(\"The accuracy score is {:0.3f}\".format(accuracy_score(y,y_class_pred)))"
   ]
  },
  {
   "cell_type": "markdown",
   "id": "ac0def7b",
   "metadata": {},
   "source": [
    "# Train/Test Split"
   ]
  },
  {
   "cell_type": "code",
   "execution_count": 16,
   "id": "0482c6c4",
   "metadata": {},
   "outputs": [],
   "source": [
    "from sklearn.model_selection import train_test_split"
   ]
  },
  {
   "cell_type": "code",
   "execution_count": 17,
   "id": "cedccd42",
   "metadata": {},
   "outputs": [],
   "source": [
    "X_train, X_test, y_train, y_test = train_test_split(X, y, test_size=0.2)"
   ]
  },
  {
   "cell_type": "code",
   "execution_count": 18,
   "id": "c1b83ed8",
   "metadata": {},
   "outputs": [],
   "source": [
    "params = model.get_weights()\n",
    "params = [np.zeros(w.shape) for w in params]\n",
    "model.set_weights(params)"
   ]
  },
  {
   "cell_type": "code",
   "execution_count": 22,
   "id": "2f504f60",
   "metadata": {},
   "outputs": [
    {
     "data": {
      "text/plain": [
       "array([[0.5],\n",
       "       [0.5],\n",
       "       [0.5],\n",
       "       [0.5],\n",
       "       [0.5],\n",
       "       [0.5],\n",
       "       [0.5],\n",
       "       [0.5],\n",
       "       [0.5],\n",
       "       [0.5],\n",
       "       [0.5],\n",
       "       [0.5],\n",
       "       [0.5],\n",
       "       [0.5],\n",
       "       [0.5],\n",
       "       [0.5],\n",
       "       [0.5],\n",
       "       [0.5],\n",
       "       [0.5],\n",
       "       [0.5],\n",
       "       [0.5],\n",
       "       [0.5],\n",
       "       [0.5],\n",
       "       [0.5],\n",
       "       [0.5],\n",
       "       [0.5],\n",
       "       [0.5],\n",
       "       [0.5],\n",
       "       [0.5],\n",
       "       [0.5],\n",
       "       [0.5],\n",
       "       [0.5],\n",
       "       [0.5],\n",
       "       [0.5],\n",
       "       [0.5],\n",
       "       [0.5],\n",
       "       [0.5],\n",
       "       [0.5],\n",
       "       [0.5],\n",
       "       [0.5],\n",
       "       [0.5],\n",
       "       [0.5],\n",
       "       [0.5],\n",
       "       [0.5],\n",
       "       [0.5],\n",
       "       [0.5],\n",
       "       [0.5],\n",
       "       [0.5],\n",
       "       [0.5],\n",
       "       [0.5],\n",
       "       [0.5],\n",
       "       [0.5],\n",
       "       [0.5],\n",
       "       [0.5],\n",
       "       [0.5],\n",
       "       [0.5],\n",
       "       [0.5],\n",
       "       [0.5],\n",
       "       [0.5],\n",
       "       [0.5],\n",
       "       [0.5],\n",
       "       [0.5],\n",
       "       [0.5],\n",
       "       [0.5],\n",
       "       [0.5],\n",
       "       [0.5],\n",
       "       [0.5],\n",
       "       [0.5],\n",
       "       [0.5],\n",
       "       [0.5],\n",
       "       [0.5],\n",
       "       [0.5],\n",
       "       [0.5],\n",
       "       [0.5],\n",
       "       [0.5],\n",
       "       [0.5],\n",
       "       [0.5],\n",
       "       [0.5],\n",
       "       [0.5],\n",
       "       [0.5],\n",
       "       [0.5],\n",
       "       [0.5],\n",
       "       [0.5],\n",
       "       [0.5],\n",
       "       [0.5],\n",
       "       [0.5],\n",
       "       [0.5],\n",
       "       [0.5],\n",
       "       [0.5],\n",
       "       [0.5],\n",
       "       [0.5],\n",
       "       [0.5],\n",
       "       [0.5],\n",
       "       [0.5],\n",
       "       [0.5],\n",
       "       [0.5],\n",
       "       [0.5],\n",
       "       [0.5],\n",
       "       [0.5],\n",
       "       [0.5]], dtype=float32)"
      ]
     },
     "execution_count": 22,
     "metadata": {},
     "output_type": "execute_result"
    }
   ],
   "source": [
    "model.predict(X)"
   ]
  },
  {
   "cell_type": "code",
   "execution_count": 23,
   "id": "fb7c8440",
   "metadata": {},
   "outputs": [
    {
     "data": {
      "text/plain": [
       "array([0, 0, 1, 0, 1, 1, 0, 0, 0, 0, 1, 1, 0, 1, 1, 1, 0, 0, 1, 1, 0, 1,\n",
       "       0, 1, 1, 0, 1, 1, 1, 1, 0, 1, 0, 1, 0, 1, 0, 1, 1, 0, 1, 0, 0, 1,\n",
       "       1, 0, 1, 1, 0, 0, 1, 0, 0, 1, 0, 0, 0, 1, 0, 0, 1, 0, 0, 1, 1, 1,\n",
       "       1, 1, 1, 1, 0, 1, 1, 0, 0, 0, 0, 0, 1, 0, 0, 0, 1, 1, 0, 0, 0, 0,\n",
       "       1, 1, 0, 0, 1, 1, 0, 1, 1, 0, 0, 1])"
      ]
     },
     "execution_count": 23,
     "metadata": {},
     "output_type": "execute_result"
    }
   ],
   "source": [
    "y"
   ]
  },
  {
   "cell_type": "code",
   "execution_count": 26,
   "id": "29b8a0fd",
   "metadata": {},
   "outputs": [
    {
     "name": "stdout",
     "output_type": "stream",
     "text": [
      "The accuracy score is 0.500\n"
     ]
    }
   ],
   "source": [
    "print(\"The accuracy score is {:0.3f}\".format(accuracy_score(y.ravel(),(model.predict(X)>0.5).astype(int))))"
   ]
  },
  {
   "cell_type": "code",
   "execution_count": 32,
   "id": "0766f737",
   "metadata": {},
   "outputs": [
    {
     "data": {
      "text/plain": [
       "<keras.callbacks.callbacks.History at 0x7f0995c16a58>"
      ]
     },
     "execution_count": 32,
     "metadata": {},
     "output_type": "execute_result"
    }
   ],
   "source": [
    "model.fit(X_train, y_train, epochs=25, verbose=0)"
   ]
  },
  {
   "cell_type": "code",
   "execution_count": 33,
   "id": "2af25e22",
   "metadata": {},
   "outputs": [
    {
     "name": "stdout",
     "output_type": "stream",
     "text": [
      "The accuracy score on Train set is 0.775\n"
     ]
    }
   ],
   "source": [
    "print(\"The accuracy score on Train set is {:0.3f}\".format(accuracy_score(y_train,(model.predict(X_train)>0.5).astype(int))))"
   ]
  },
  {
   "cell_type": "code",
   "execution_count": 34,
   "id": "f20586b2",
   "metadata": {},
   "outputs": [
    {
     "name": "stdout",
     "output_type": "stream",
     "text": [
      "The accuracy score on Train set is 0.700\n"
     ]
    }
   ],
   "source": [
    "print(\"The accuracy score on Train set is {:0.3f}\".format(accuracy_score(y_test,(model.predict(X_test)>0.5).astype(int))))"
   ]
  },
  {
   "cell_type": "code",
   "execution_count": null,
   "id": "65380d04",
   "metadata": {},
   "outputs": [],
   "source": []
  }
 ],
 "metadata": {
  "kernelspec": {
   "display_name": "conda_tensorflow2_p36",
   "language": "python",
   "name": "conda_tensorflow2_p36"
  },
  "language_info": {
   "codemirror_mode": {
    "name": "ipython",
    "version": 3
   },
   "file_extension": ".py",
   "mimetype": "text/x-python",
   "name": "python",
   "nbconvert_exporter": "python",
   "pygments_lexer": "ipython3",
   "version": "3.6.13"
  }
 },
 "nbformat": 4,
 "nbformat_minor": 5
}
