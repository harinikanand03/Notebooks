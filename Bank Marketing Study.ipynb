{
 "cells": [
  {
   "cell_type": "markdown",
   "metadata": {
    "id": "ScPZXvvgLjus"
   },
   "source": [
    "**Assignment 3, Project 2, MSDS 422** (Bank dataset)\n",
    "\n",
    "**Authors: Kerry Kurcz, Harini Anand, Emily Ekdahl, and Motolani Alimi**\n",
    "\n",
    "We are asked to fit classification models to data from the Bank Marketing Study.\n",
    "\n",
    "**PROBLEM:** \n",
    "Regarding the management problem, imagine that you are advising the bank about machine learning methods to guide telephone marketing campaigns. Which of the two modeling methods would you recommend and why? And, given the results of your research, which group of banking clients appears to be the best target for direct marketing efforts (similar to those used with previous telephone campaigns)? \n",
    "\n",
    "\n",
    "Use three binary explanatory variables relating to client banking history: default, housing, and loan. Predict the binary response variable: Has the client subscribed to a term deposit? Use all banking client observations with complete data for these study variables. Employ two classification methods: (1) logistic regression as described in Chapter 4 of the Géron (2017) textbook and (2) naïve Bayes classification\n",
    "\n",
    "\n",
    "\n",
    "**Summary of data**\n",
    "\n",
    "**Categorical Variables**:\n",
    "\n",
    "job : admin,technician, services, management, retired, blue-collar, unemployed, entrepreneur, housemaid, unknown, self-employed, student\n",
    "\n",
    "marital : married, single, divorced\n",
    "\n",
    "education: secondary, tertiary, primary, unknown\n",
    "\n",
    "default : yes, no\n",
    "\n",
    "housing : yes, no\n",
    "\n",
    "loan : yes, no\n",
    "\n",
    "response : yes, no (target feature)\n",
    "\n",
    "contact : unknown, cellular, telephone\n",
    "\n",
    "month : jan, feb, mar, apr, may, jun, jul, aug, sep, oct, nov, dec\n",
    "\n",
    "poutcome: unknown, other, failure, success\n",
    "\n",
    "**Numerical Variables**:\n",
    "\n",
    "age\n",
    "\n",
    "balance\n",
    "\n",
    "day\n",
    "\n",
    "duration\n",
    "\n",
    "campaign\n",
    "\n",
    "pdays\n",
    "\n",
    "previous"
   ]
  },
  {
   "cell_type": "markdown",
   "metadata": {
    "id": "DsINE4Y5N26R"
   },
   "source": [
    "**DATA PREPARATION, EXPLORATION, AND VISUALIZATION**"
   ]
  },
  {
   "cell_type": "markdown",
   "metadata": {
    "id": "Tm5pwTDMaf-z"
   },
   "source": [
    "**IMPORT LIBRARIES**"
   ]
  },
  {
   "cell_type": "code",
   "execution_count": 1,
   "metadata": {
    "id": "Qeg31lJwNStU"
   },
   "outputs": [],
   "source": [
    "# import base packages into the namespace for this program\n",
    "import numpy as np\n",
    "import pandas as pd\n",
    "import matplotlib.pyplot as plt\n",
    "from sklearn.linear_model import LogisticRegression\n",
    "import seaborn as sns\n",
    "from sklearn.preprocessing import StandardScaler, MinMaxScaler"
   ]
  },
  {
   "cell_type": "code",
   "execution_count": 2,
   "metadata": {
    "colab": {
     "base_uri": "https://localhost:8080/",
     "height": 89,
     "resources": {
      "http://localhost:8080/nbextensions/google.colab/files.js": {
       "data": "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",
       "headers": [
        [
         "content-type",
         "application/javascript"
        ]
       ],
       "ok": true,
       "status": 200,
       "status_text": ""
      }
     }
    },
    "id": "VEV3kd8HOdsP",
    "outputId": "c3a2dc00-f4b4-4941-9a91-c6107c02c0ed"
   },
   "outputs": [
    {
     "name": "stdout",
     "output_type": "stream",
     "text": [
      "(4521, 17)\n"
     ]
    }
   ],
   "source": [
    "# seed value for random number generators to obtain reproducible results\n",
    "RANDOM_SEED = 1\n",
    "\n",
    "# initial work with the smaller data set\n",
    "#from google.colab import files\n",
    "#data_to_load = files.upload()\n",
    "\n",
    "# Load the CSV into a DataFrame\n",
    "bank = pd.read_csv('bank.csv', sep = ';')\n",
    "\n",
    "# examine the shape of original input data\n",
    "print(bank.shape)"
   ]
  },
  {
   "cell_type": "markdown",
   "metadata": {
    "id": "6wBALju9OsI7"
   },
   "source": [
    "Let's check whether missing data is in the dataset. "
   ]
  },
  {
   "cell_type": "code",
   "execution_count": 3,
   "metadata": {
    "colab": {
     "base_uri": "https://localhost:8080/",
     "height": 34
    },
    "id": "hQh7QUtGOg2Y",
    "outputId": "a7b16d1e-f376-49c3-ddb2-399f63fca948"
   },
   "outputs": [
    {
     "name": "stdout",
     "output_type": "stream",
     "text": [
      "(4521, 17)\n"
     ]
    }
   ],
   "source": [
    "# drop observations with missing data, if any\n",
    "bank.dropna()\n",
    "\n",
    "# examine the shape of input data after dropping missing data\n",
    "print(bank.shape)\n",
    "\n",
    "# there doesn't appear to be any missing data"
   ]
  },
  {
   "cell_type": "code",
   "execution_count": 4,
   "metadata": {
    "colab": {
     "base_uri": "https://localhost:8080/",
     "height": 306
    },
    "id": "ItrUXixdO7_x",
    "outputId": "a02e8df1-c0a3-4a41-8546-ade6cbb93dac"
   },
   "outputs": [
    {
     "data": {
      "text/plain": [
       "['age',\n",
       " 'job',\n",
       " 'marital',\n",
       " 'education',\n",
       " 'default',\n",
       " 'balance',\n",
       " 'housing',\n",
       " 'loan',\n",
       " 'contact',\n",
       " 'day',\n",
       " 'month',\n",
       " 'duration',\n",
       " 'campaign',\n",
       " 'pdays',\n",
       " 'previous',\n",
       " 'poutcome',\n",
       " 'response']"
      ]
     },
     "execution_count": 4,
     "metadata": {},
     "output_type": "execute_result"
    }
   ],
   "source": [
    "#look at the list of column names, note that y is the response\n",
    "list(bank.columns.values)"
   ]
  },
  {
   "cell_type": "code",
   "execution_count": 5,
   "metadata": {
    "colab": {
     "base_uri": "https://localhost:8080/",
     "height": 204
    },
    "id": "HrSH9snrPJJz",
    "outputId": "aca6a08e-e21f-4634-dccd-a77d4837f7a3"
   },
   "outputs": [
    {
     "data": {
      "text/html": [
       "<div>\n",
       "<style scoped>\n",
       "    .dataframe tbody tr th:only-of-type {\n",
       "        vertical-align: middle;\n",
       "    }\n",
       "\n",
       "    .dataframe tbody tr th {\n",
       "        vertical-align: top;\n",
       "    }\n",
       "\n",
       "    .dataframe thead th {\n",
       "        text-align: right;\n",
       "    }\n",
       "</style>\n",
       "<table border=\"1\" class=\"dataframe\">\n",
       "  <thead>\n",
       "    <tr style=\"text-align: right;\">\n",
       "      <th></th>\n",
       "      <th>age</th>\n",
       "      <th>job</th>\n",
       "      <th>marital</th>\n",
       "      <th>education</th>\n",
       "      <th>default</th>\n",
       "      <th>balance</th>\n",
       "      <th>housing</th>\n",
       "      <th>loan</th>\n",
       "      <th>contact</th>\n",
       "      <th>day</th>\n",
       "      <th>month</th>\n",
       "      <th>duration</th>\n",
       "      <th>campaign</th>\n",
       "      <th>pdays</th>\n",
       "      <th>previous</th>\n",
       "      <th>poutcome</th>\n",
       "      <th>response</th>\n",
       "    </tr>\n",
       "  </thead>\n",
       "  <tbody>\n",
       "    <tr>\n",
       "      <th>0</th>\n",
       "      <td>30</td>\n",
       "      <td>unemployed</td>\n",
       "      <td>married</td>\n",
       "      <td>primary</td>\n",
       "      <td>no</td>\n",
       "      <td>1787</td>\n",
       "      <td>no</td>\n",
       "      <td>no</td>\n",
       "      <td>cellular</td>\n",
       "      <td>19</td>\n",
       "      <td>oct</td>\n",
       "      <td>79</td>\n",
       "      <td>1</td>\n",
       "      <td>-1</td>\n",
       "      <td>0</td>\n",
       "      <td>unknown</td>\n",
       "      <td>no</td>\n",
       "    </tr>\n",
       "    <tr>\n",
       "      <th>1</th>\n",
       "      <td>33</td>\n",
       "      <td>services</td>\n",
       "      <td>married</td>\n",
       "      <td>secondary</td>\n",
       "      <td>no</td>\n",
       "      <td>4789</td>\n",
       "      <td>yes</td>\n",
       "      <td>yes</td>\n",
       "      <td>cellular</td>\n",
       "      <td>11</td>\n",
       "      <td>may</td>\n",
       "      <td>220</td>\n",
       "      <td>1</td>\n",
       "      <td>339</td>\n",
       "      <td>4</td>\n",
       "      <td>failure</td>\n",
       "      <td>no</td>\n",
       "    </tr>\n",
       "    <tr>\n",
       "      <th>2</th>\n",
       "      <td>35</td>\n",
       "      <td>management</td>\n",
       "      <td>single</td>\n",
       "      <td>tertiary</td>\n",
       "      <td>no</td>\n",
       "      <td>1350</td>\n",
       "      <td>yes</td>\n",
       "      <td>no</td>\n",
       "      <td>cellular</td>\n",
       "      <td>16</td>\n",
       "      <td>apr</td>\n",
       "      <td>185</td>\n",
       "      <td>1</td>\n",
       "      <td>330</td>\n",
       "      <td>1</td>\n",
       "      <td>failure</td>\n",
       "      <td>no</td>\n",
       "    </tr>\n",
       "    <tr>\n",
       "      <th>3</th>\n",
       "      <td>30</td>\n",
       "      <td>management</td>\n",
       "      <td>married</td>\n",
       "      <td>tertiary</td>\n",
       "      <td>no</td>\n",
       "      <td>1476</td>\n",
       "      <td>yes</td>\n",
       "      <td>yes</td>\n",
       "      <td>unknown</td>\n",
       "      <td>3</td>\n",
       "      <td>jun</td>\n",
       "      <td>199</td>\n",
       "      <td>4</td>\n",
       "      <td>-1</td>\n",
       "      <td>0</td>\n",
       "      <td>unknown</td>\n",
       "      <td>no</td>\n",
       "    </tr>\n",
       "    <tr>\n",
       "      <th>4</th>\n",
       "      <td>59</td>\n",
       "      <td>blue-collar</td>\n",
       "      <td>married</td>\n",
       "      <td>secondary</td>\n",
       "      <td>no</td>\n",
       "      <td>0</td>\n",
       "      <td>yes</td>\n",
       "      <td>no</td>\n",
       "      <td>unknown</td>\n",
       "      <td>5</td>\n",
       "      <td>may</td>\n",
       "      <td>226</td>\n",
       "      <td>1</td>\n",
       "      <td>-1</td>\n",
       "      <td>0</td>\n",
       "      <td>unknown</td>\n",
       "      <td>no</td>\n",
       "    </tr>\n",
       "  </tbody>\n",
       "</table>\n",
       "</div>"
      ],
      "text/plain": [
       "   age          job  marital  education default  balance housing loan  \\\n",
       "0   30   unemployed  married    primary      no     1787      no   no   \n",
       "1   33     services  married  secondary      no     4789     yes  yes   \n",
       "2   35   management   single   tertiary      no     1350     yes   no   \n",
       "3   30   management  married   tertiary      no     1476     yes  yes   \n",
       "4   59  blue-collar  married  secondary      no        0     yes   no   \n",
       "\n",
       "    contact  day month  duration  campaign  pdays  previous poutcome response  \n",
       "0  cellular   19   oct        79         1     -1         0  unknown       no  \n",
       "1  cellular   11   may       220         1    339         4  failure       no  \n",
       "2  cellular   16   apr       185         1    330         1  failure       no  \n",
       "3   unknown    3   jun       199         4     -1         0  unknown       no  \n",
       "4   unknown    5   may       226         1     -1         0  unknown       no  "
      ]
     },
     "execution_count": 5,
     "metadata": {},
     "output_type": "execute_result"
    }
   ],
   "source": [
    "# Examine the dataset\n",
    "bank.head()"
   ]
  },
  {
   "cell_type": "markdown",
   "metadata": {
    "id": "eWBYrDC3y3z4"
   },
   "source": [
    "**Predictor variables relating to client banking history**:\n",
    "\n",
    "-Default: Has credit in default? (yes/no)\n",
    "\n",
    "-Housing: Has housing loan? (yes/no)\n",
    "\n",
    "-Loan: Has personal loan? (yes/no)\n",
    "\n",
    "**Target variable**:\n",
    "\n",
    "Response: Has the client subscribed to a term deposit? (yes/no)"
   ]
  },
  {
   "cell_type": "code",
   "execution_count": 6,
   "metadata": {
    "colab": {
     "base_uri": "https://localhost:8080/",
     "height": 297
    },
    "id": "EVo0_BbLPKkN",
    "outputId": "79700330-1b8a-4f4c-8fcc-6d8b764440c2"
   },
   "outputs": [
    {
     "data": {
      "text/html": [
       "<div>\n",
       "<style scoped>\n",
       "    .dataframe tbody tr th:only-of-type {\n",
       "        vertical-align: middle;\n",
       "    }\n",
       "\n",
       "    .dataframe tbody tr th {\n",
       "        vertical-align: top;\n",
       "    }\n",
       "\n",
       "    .dataframe thead th {\n",
       "        text-align: right;\n",
       "    }\n",
       "</style>\n",
       "<table border=\"1\" class=\"dataframe\">\n",
       "  <thead>\n",
       "    <tr style=\"text-align: right;\">\n",
       "      <th></th>\n",
       "      <th>age</th>\n",
       "      <th>balance</th>\n",
       "      <th>day</th>\n",
       "      <th>duration</th>\n",
       "      <th>campaign</th>\n",
       "      <th>pdays</th>\n",
       "      <th>previous</th>\n",
       "    </tr>\n",
       "  </thead>\n",
       "  <tbody>\n",
       "    <tr>\n",
       "      <th>count</th>\n",
       "      <td>4521.000000</td>\n",
       "      <td>4521.000000</td>\n",
       "      <td>4521.000000</td>\n",
       "      <td>4521.000000</td>\n",
       "      <td>4521.000000</td>\n",
       "      <td>4521.000000</td>\n",
       "      <td>4521.000000</td>\n",
       "    </tr>\n",
       "    <tr>\n",
       "      <th>mean</th>\n",
       "      <td>41.170095</td>\n",
       "      <td>1422.657819</td>\n",
       "      <td>15.915284</td>\n",
       "      <td>263.961292</td>\n",
       "      <td>2.793630</td>\n",
       "      <td>39.766645</td>\n",
       "      <td>0.542579</td>\n",
       "    </tr>\n",
       "    <tr>\n",
       "      <th>std</th>\n",
       "      <td>10.576211</td>\n",
       "      <td>3009.638142</td>\n",
       "      <td>8.247667</td>\n",
       "      <td>259.856633</td>\n",
       "      <td>3.109807</td>\n",
       "      <td>100.121124</td>\n",
       "      <td>1.693562</td>\n",
       "    </tr>\n",
       "    <tr>\n",
       "      <th>min</th>\n",
       "      <td>19.000000</td>\n",
       "      <td>-3313.000000</td>\n",
       "      <td>1.000000</td>\n",
       "      <td>4.000000</td>\n",
       "      <td>1.000000</td>\n",
       "      <td>-1.000000</td>\n",
       "      <td>0.000000</td>\n",
       "    </tr>\n",
       "    <tr>\n",
       "      <th>25%</th>\n",
       "      <td>33.000000</td>\n",
       "      <td>69.000000</td>\n",
       "      <td>9.000000</td>\n",
       "      <td>104.000000</td>\n",
       "      <td>1.000000</td>\n",
       "      <td>-1.000000</td>\n",
       "      <td>0.000000</td>\n",
       "    </tr>\n",
       "    <tr>\n",
       "      <th>50%</th>\n",
       "      <td>39.000000</td>\n",
       "      <td>444.000000</td>\n",
       "      <td>16.000000</td>\n",
       "      <td>185.000000</td>\n",
       "      <td>2.000000</td>\n",
       "      <td>-1.000000</td>\n",
       "      <td>0.000000</td>\n",
       "    </tr>\n",
       "    <tr>\n",
       "      <th>75%</th>\n",
       "      <td>49.000000</td>\n",
       "      <td>1480.000000</td>\n",
       "      <td>21.000000</td>\n",
       "      <td>329.000000</td>\n",
       "      <td>3.000000</td>\n",
       "      <td>-1.000000</td>\n",
       "      <td>0.000000</td>\n",
       "    </tr>\n",
       "    <tr>\n",
       "      <th>max</th>\n",
       "      <td>87.000000</td>\n",
       "      <td>71188.000000</td>\n",
       "      <td>31.000000</td>\n",
       "      <td>3025.000000</td>\n",
       "      <td>50.000000</td>\n",
       "      <td>871.000000</td>\n",
       "      <td>25.000000</td>\n",
       "    </tr>\n",
       "  </tbody>\n",
       "</table>\n",
       "</div>"
      ],
      "text/plain": [
       "               age       balance          day     duration     campaign  \\\n",
       "count  4521.000000   4521.000000  4521.000000  4521.000000  4521.000000   \n",
       "mean     41.170095   1422.657819    15.915284   263.961292     2.793630   \n",
       "std      10.576211   3009.638142     8.247667   259.856633     3.109807   \n",
       "min      19.000000  -3313.000000     1.000000     4.000000     1.000000   \n",
       "25%      33.000000     69.000000     9.000000   104.000000     1.000000   \n",
       "50%      39.000000    444.000000    16.000000   185.000000     2.000000   \n",
       "75%      49.000000   1480.000000    21.000000   329.000000     3.000000   \n",
       "max      87.000000  71188.000000    31.000000  3025.000000    50.000000   \n",
       "\n",
       "             pdays     previous  \n",
       "count  4521.000000  4521.000000  \n",
       "mean     39.766645     0.542579  \n",
       "std     100.121124     1.693562  \n",
       "min      -1.000000     0.000000  \n",
       "25%      -1.000000     0.000000  \n",
       "50%      -1.000000     0.000000  \n",
       "75%      -1.000000     0.000000  \n",
       "max     871.000000    25.000000  "
      ]
     },
     "execution_count": 6,
     "metadata": {},
     "output_type": "execute_result"
    }
   ],
   "source": [
    "bank.describe()"
   ]
  },
  {
   "cell_type": "code",
   "execution_count": 7,
   "metadata": {
    "colab": {
     "base_uri": "https://localhost:8080/",
     "height": 153
    },
    "id": "8anHABQ5y2kG",
    "outputId": "af8513c2-1c9a-4558-aad5-fabe3f2aeb9f"
   },
   "outputs": [
    {
     "data": {
      "text/plain": [
       "age         0.699501\n",
       "balance     6.596431\n",
       "day         0.094627\n",
       "duration    2.772420\n",
       "campaign    4.743914\n",
       "pdays       2.717071\n",
       "previous    5.875259\n",
       "dtype: float64"
      ]
     },
     "execution_count": 7,
     "metadata": {},
     "output_type": "execute_result"
    }
   ],
   "source": [
    "bank.skew(axis=0)"
   ]
  },
  {
   "cell_type": "code",
   "execution_count": 8,
   "metadata": {
    "colab": {
     "base_uri": "https://localhost:8080/",
     "height": 153
    },
    "id": "eSHp6o3xy25t",
    "outputId": "7658ad7a-6533-40b7-a6b3-129fe5456a16"
   },
   "outputs": [
    {
     "data": {
      "text/plain": [
       "age          0.348775\n",
       "balance     88.390332\n",
       "day         -1.039531\n",
       "duration    12.530050\n",
       "campaign    37.168920\n",
       "pdays        7.957128\n",
       "previous    51.995212\n",
       "dtype: float64"
      ]
     },
     "execution_count": 8,
     "metadata": {},
     "output_type": "execute_result"
    }
   ],
   "source": [
    "bank.kurtosis(axis=0)"
   ]
  },
  {
   "cell_type": "code",
   "execution_count": 9,
   "metadata": {
    "colab": {
     "base_uri": "https://localhost:8080/",
     "height": 879
    },
    "id": "0A61LC39uPgC",
    "outputId": "bd2be5f2-71f1-42fa-8aaf-67f3f2024ece"
   },
   "outputs": [
    {
     "data": {
      "image/png": "[encoded data removed]",
      "text/plain": [
       "<Figure size 1440x1080 with 9 Axes>"
      ]
     },
     "metadata": {
      "needs_background": "light"
     },
     "output_type": "display_data"
    }
   ],
   "source": [
    "# Graph the histograms \n",
    "bank.hist(bins=50, figsize=(20,15))\n",
    "plt.show()"
   ]
  },
  {
   "cell_type": "code",
   "execution_count": 1,
   "metadata": {
    "colab": {
     "base_uri": "https://localhost:8080/",
     "height": 910
    },
    "id": "72EoL0MCvXXR",
    "outputId": "95c84ab6-fdae-41bb-9c98-73c07d5535af"
   },
   "outputs": [
    {
     "ename": "NameError",
     "evalue": "name 'sns' is not defined",
     "output_type": "error",
     "traceback": [
      "\u001b[0;31m---------------------------------------------------------------------------\u001b[0m",
      "\u001b[0;31mNameError\u001b[0m                                 Traceback (most recent call last)",
      "\u001b[0;32m<ipython-input-1-aed951110416>\u001b[0m in \u001b[0;36m<module>\u001b[0;34m\u001b[0m\n\u001b[0;32m----> 1\u001b[0;31m \u001b[0msns\u001b[0m\u001b[0;34m.\u001b[0m\u001b[0mcolor_palette\u001b[0m\u001b[0;34m(\u001b[0m\u001b[0;34m\"husl\"\u001b[0m\u001b[0;34m,\u001b[0m \u001b[0;36m8\u001b[0m\u001b[0;34m)\u001b[0m\u001b[0;34m\u001b[0m\u001b[0;34m\u001b[0m\u001b[0m\n\u001b[0m\u001b[1;32m      2\u001b[0m \u001b[0;31m# The four binary (dichotomous) variables\u001b[0m\u001b[0;34m\u001b[0m\u001b[0;34m\u001b[0m\u001b[0;34m\u001b[0m\u001b[0m\n\u001b[1;32m      3\u001b[0m \u001b[0mf\u001b[0m\u001b[0;34m,\u001b[0m \u001b[0maxes\u001b[0m \u001b[0;34m=\u001b[0m \u001b[0mplt\u001b[0m\u001b[0;34m.\u001b[0m\u001b[0msubplots\u001b[0m\u001b[0;34m(\u001b[0m\u001b[0mnrows\u001b[0m\u001b[0;34m=\u001b[0m\u001b[0;36m4\u001b[0m\u001b[0;34m,\u001b[0m\u001b[0mncols\u001b[0m\u001b[0;34m=\u001b[0m\u001b[0;36m2\u001b[0m\u001b[0;34m,\u001b[0m\u001b[0mfigsize\u001b[0m\u001b[0;34m=\u001b[0m\u001b[0;34m(\u001b[0m\u001b[0;36m17\u001b[0m\u001b[0;34m,\u001b[0m\u001b[0;36m15\u001b[0m\u001b[0;34m)\u001b[0m\u001b[0;34m)\u001b[0m\u001b[0;34m\u001b[0m\u001b[0;34m\u001b[0m\u001b[0m\n\u001b[1;32m      4\u001b[0m \u001b[0;34m\u001b[0m\u001b[0m\n\u001b[1;32m      5\u001b[0m \u001b[0ma0\u001b[0m \u001b[0;34m=\u001b[0m \u001b[0msns\u001b[0m\u001b[0;34m.\u001b[0m\u001b[0mboxplot\u001b[0m\u001b[0;34m(\u001b[0m\u001b[0mx\u001b[0m\u001b[0;34m=\u001b[0m\u001b[0;34m'age'\u001b[0m\u001b[0;34m,\u001b[0m\u001b[0max\u001b[0m\u001b[0;34m=\u001b[0m\u001b[0maxes\u001b[0m\u001b[0;34m[\u001b[0m\u001b[0;36m0\u001b[0m\u001b[0;34m,\u001b[0m\u001b[0;36m0\u001b[0m\u001b[0;34m]\u001b[0m\u001b[0;34m,\u001b[0m\u001b[0mdata\u001b[0m\u001b[0;34m=\u001b[0m\u001b[0mbank\u001b[0m\u001b[0;34m)\u001b[0m\u001b[0;34m\u001b[0m\u001b[0;34m\u001b[0m\u001b[0m\n",
      "\u001b[0;31mNameError\u001b[0m: name 'sns' is not defined"
     ]
    }
   ],
   "source": [
    "f, axes = plt.subplots(nrows=4,ncols=2,figsize=(17,15))\n",
    "ax.set_title('style: {!r}'.format(sty), color='C0')\n",
    "\n",
    "a0 = sns.boxplot(x='age',ax=axes[0,0],data=bank)\n",
    "a0.set_title('age')\n",
    "a1 = sns.boxplot(x='balance',ax=axes[0,1],data=bank)\n",
    "a1.set_title('balance')\n",
    "a2 = sns.boxplot(x='duration',ax=axes[1,0],data=bank)\n",
    "a2.set_title('duration')\n",
    "a3 = sns.boxplot(x='campaign',ax=axes[1,1],data=bank)\n",
    "a3.set_title('campaign')\n",
    "a4 = sns.boxplot(x='pdays',ax=axes[2,0],data=bank)\n",
    "a4.set_title('pdays')\n",
    "a5 = sns.boxplot(x='previous',ax=axes[2,1],data=bank)\n",
    "a5.set_title('previous')\n",
    "a6 = sns.boxplot(x='day',ax=axes[3,0],data=bank)\n",
    "a6.set_title('day')"
   ]
  },
  {
   "cell_type": "code",
   "execution_count": 11,
   "metadata": {
    "colab": {
     "base_uri": "https://localhost:8080/",
     "height": 1000
    },
    "id": "e3WhJHDnL0hp",
    "outputId": "e1d61d98-4830-4fa1-ddf0-5e2521ee138a"
   },
   "outputs": [
    {
     "name": "stdout",
     "output_type": "stream",
     "text": [
      "[[Index(['age', 'job', 'marital', 'education', 'default', 'balance', 'housing',\n",
      "       'loan', 'contact', 'day', 'month', 'duration', 'campaign', 'pdays',\n",
      "       'previous', 'poutcome', 'response'],\n",
      "      dtype='object')], [age           int64\n",
      "job          object\n",
      "marital      object\n",
      "education    object\n",
      "default      object\n",
      "balance       int64\n",
      "housing      object\n",
      "loan         object\n",
      "contact      object\n",
      "day           int64\n",
      "month        object\n",
      "duration      int64\n",
      "campaign      int64\n",
      "pdays         int64\n",
      "previous      int64\n",
      "poutcome     object\n",
      "response     object\n",
      "dtype: object]]\n",
      "   age          job  marital  education default  balance housing loan  \\\n",
      "0   30   unemployed  married    primary      no     1787      no   no   \n",
      "1   33     services  married  secondary      no     4789     yes  yes   \n",
      "2   35   management   single   tertiary      no     1350     yes   no   \n",
      "3   30   management  married   tertiary      no     1476     yes  yes   \n",
      "4   59  blue-collar  married  secondary      no        0     yes   no   \n",
      "\n",
      "    contact  day month  duration  campaign  pdays  previous poutcome response  \n",
      "0  cellular   19   oct        79         1     -1         0  unknown       no  \n",
      "1  cellular   11   may       220         1    339         4  failure       no  \n",
      "2  cellular   16   apr       185         1    330         1  failure       no  \n",
      "3   unknown    3   jun       199         4     -1         0  unknown       no  \n",
      "4   unknown    5   may       226         1     -1         0  unknown       no  \n",
      "[[Index(['age', 'balance', 'day', 'duration', 'campaign', 'pdays', 'previous',\n",
      "       'job_admin.', 'job_blue-collar', 'job_entrepreneur', 'job_housemaid',\n",
      "       'job_management', 'job_retired', 'job_self-employed', 'job_services',\n",
      "       'job_student', 'job_technician', 'job_unemployed', 'job_unknown',\n",
      "       'marital_divorced', 'marital_married', 'marital_single',\n",
      "       'education_primary', 'education_secondary', 'education_tertiary',\n",
      "       'education_unknown', 'default_no', 'default_yes', 'housing_no',\n",
      "       'housing_yes', 'loan_no', 'loan_yes', 'contact_cellular',\n",
      "       'contact_telephone', 'contact_unknown', 'month_apr', 'month_aug',\n",
      "       'month_dec', 'month_feb', 'month_jan', 'month_jul', 'month_jun',\n",
      "       'month_mar', 'month_may', 'month_nov', 'month_oct', 'month_sep',\n",
      "       'poutcome_failure', 'poutcome_other', 'poutcome_success',\n",
      "       'poutcome_unknown', 'response_no', 'response_yes'],\n",
      "      dtype='object')], [age                    int64\n",
      "balance                int64\n",
      "day                    int64\n",
      "duration               int64\n",
      "campaign               int64\n",
      "pdays                  int64\n",
      "previous               int64\n",
      "job_admin.             uint8\n",
      "job_blue-collar        uint8\n",
      "job_entrepreneur       uint8\n",
      "job_housemaid          uint8\n",
      "job_management         uint8\n",
      "job_retired            uint8\n",
      "job_self-employed      uint8\n",
      "job_services           uint8\n",
      "job_student            uint8\n",
      "job_technician         uint8\n",
      "job_unemployed         uint8\n",
      "job_unknown            uint8\n",
      "marital_divorced       uint8\n",
      "marital_married        uint8\n",
      "marital_single         uint8\n",
      "education_primary      uint8\n",
      "education_secondary    uint8\n",
      "education_tertiary     uint8\n",
      "education_unknown      uint8\n",
      "default_no             uint8\n",
      "default_yes            uint8\n",
      "housing_no             uint8\n",
      "housing_yes            uint8\n",
      "loan_no                uint8\n",
      "loan_yes               uint8\n",
      "contact_cellular       uint8\n",
      "contact_telephone      uint8\n",
      "contact_unknown        uint8\n",
      "month_apr              uint8\n",
      "month_aug              uint8\n",
      "month_dec              uint8\n",
      "month_feb              uint8\n",
      "month_jan              uint8\n",
      "month_jul              uint8\n",
      "month_jun              uint8\n",
      "month_mar              uint8\n",
      "month_may              uint8\n",
      "month_nov              uint8\n",
      "month_oct              uint8\n",
      "month_sep              uint8\n",
      "poutcome_failure       uint8\n",
      "poutcome_other         uint8\n",
      "poutcome_success       uint8\n",
      "poutcome_unknown       uint8\n",
      "response_no            uint8\n",
      "response_yes           uint8\n",
      "dtype: object]]\n"
     ]
    }
   ],
   "source": [
    "# Transform data\n",
    "# Create the dummy (Dichotomous) variables\n",
    "\n",
    "print([[bank.columns],[bank.dtypes]])\n",
    "print(pd.DataFrame.head(bank))\n",
    "\n",
    "bank1 = pd.get_dummies(bank)\n",
    "print([[bank1.columns],[bank1.dtypes]])"
   ]
  },
  {
   "cell_type": "code",
   "execution_count": 12,
   "metadata": {
    "colab": {
     "base_uri": "https://localhost:8080/",
     "height": 714
    },
    "id": "7OIf6t2VMmSx",
    "outputId": "c1824cb5-936f-4cc0-9d54-7817de731c4b"
   },
   "outputs": [
    {
     "data": {
      "text/plain": [
       "<AxesSubplot:>"
      ]
     },
     "execution_count": 12,
     "metadata": {},
     "output_type": "execute_result"
    },
    {
     "data": {
      "image/png": "[encoded data removed]",
      "text/plain": [
       "<Figure size 1800x864 with 2 Axes>"
      ]
     },
     "metadata": {
      "needs_background": "light"
     },
     "output_type": "display_data"
    }
   ],
   "source": [
    "# # Heatmap based on correlations among the variables\n",
    "plt.figure(figsize=(25,12))\n",
    "sns.heatmap(bank.corr(),annot=True,cmap=\"YlGnBu\", )"
   ]
  },
  {
   "cell_type": "code",
   "execution_count": 13,
   "metadata": {
    "colab": {
     "base_uri": "https://localhost:8080/",
     "height": 558
    },
    "id": "tW63VHZp4Izk",
    "outputId": "54452701-bb8c-43d5-d136-15a9559f9914"
   },
   "outputs": [
    {
     "data": {
      "text/plain": [
       "Text(0.5, 1.0, 'marital')"
      ]
     },
     "execution_count": 13,
     "metadata": {},
     "output_type": "execute_result"
    },
    {
     "data": {
      "image/png": "[encoded data removed]",
      "text/plain": [
       "<Figure size 1800x720 with 8 Axes>"
      ]
     },
     "metadata": {
      "needs_background": "light"
     },
     "output_type": "display_data"
    }
   ],
   "source": [
    "# The four binary (dichotomous) variables\n",
    "f, axes = plt.subplots(nrows=4,ncols=2,figsize=(25,10))\n",
    "\n",
    "a0 = sns.countplot(x='job',hue='response',ax=axes[0,0],data=bank)\n",
    "a0.set_title('job')\n",
    "a1 = sns.countplot(x='education',hue='response',ax=axes[0,1],data=bank)\n",
    "a1.set_title('education')\n",
    "a2 = sns.countplot(x='default',hue='response',ax=axes[1,0],data=bank)\n",
    "a2.set_title('bank')\n",
    "a3 = sns.countplot(x='housing',hue='response',ax=axes[1,1],data=bank)\n",
    "a3.set_title('housing')\n",
    "\n",
    "a4 = sns.countplot(x='loan',hue='response',ax=axes[2,0],data=bank)\n",
    "a4.set_title('loan')\n",
    "a5 = sns.countplot(x='contact',hue='response',ax=axes[2,1],data=bank)\n",
    "a5.set_title('contact')\n",
    "a6 = sns.countplot(x='month',hue='response',ax=axes[3,0],data=bank)\n",
    "a6.set_title('month')\n",
    "a7 = sns.countplot(x='marital',hue='response',ax=axes[3,1],data=bank)\n",
    "a7.set_title('marital')"
   ]
  },
  {
   "cell_type": "markdown",
   "metadata": {
    "id": "Sbxe05q9Pia7"
   },
   "source": [
    "**Descriptive Statistics:**\n",
    "\n",
    "Crosstabs and descriptive statistics\n"
   ]
  },
  {
   "cell_type": "code",
   "execution_count": 14,
   "metadata": {
    "colab": {
     "base_uri": "https://localhost:8080/",
     "height": 442
    },
    "id": "tPvAJ1rC23tT",
    "outputId": "3f8e9c20-a2e9-4911-8264-3bf5d3b147f9"
   },
   "outputs": [
    {
     "name": "stdout",
     "output_type": "stream",
     "text": [
      "Housing      0     1\n",
      "Response            \n",
      "0         1661  2339\n",
      "1          301   220 \n",
      "\n",
      "Loan         0    1\n",
      "Response           \n",
      "0         3352  648\n",
      "1          478   43 \n",
      "\n",
      "Default      0   1\n",
      "Response          \n",
      "0         3933  67\n",
      "1          512   9 \n",
      "\n",
      "Odds for Response Yes for Each Variable with 95% CI\n",
      "If housing = yes, odds for response = yes: [0.519, 0.498, 0.541]\n",
      "If loan = yes, odds for response = yes: [0.465, 0.451, 0.48]\n",
      "If default = yes, odds for response = yes: [1.032, 1.002, 1.063]\n",
      "                age      balance        day    duration  campaign      pdays  \\\n",
      "response                                                                       \n",
      "no        40.998000  1403.211750  15.948750  226.347500  2.862250  36.006000   \n",
      "yes       42.491363  1571.955854  15.658349  552.742802  2.266795  68.639155   \n",
      "\n",
      "          previous  \n",
      "response            \n",
      "no        0.471250  \n",
      "yes       1.090211  \n"
     ]
    }
   ],
   "source": [
    "# Crosstabs for initial analysis\n",
    "a = pd.crosstab(bank1.response_yes,\n",
    "                bank1.housing_yes,\n",
    "                rownames=['Response'], colnames=['Housing'])\n",
    "                \n",
    "b = pd.crosstab(bank1.response_yes,\n",
    "                bank1.loan_yes,\n",
    "                rownames=['Response'], colnames=['Loan'])\n",
    "                \n",
    "c = pd.crosstab(bank1.response_yes,\n",
    "                bank1.default_yes,\n",
    "                rownames=['Response'], colnames=['Default'])\n",
    "\n",
    "print(a,\"\\n\")\n",
    "print(b,\"\\n\")\n",
    "print(c,\"\\n\")\n",
    "        \n",
    "def myor(a):\n",
    "        myv=round((a.loc[1,1]/a.loc[0,1])/(a.loc[1,0]/a.loc[0,0]),3)\n",
    "        logmyv = np.log(myv)\n",
    "        se = np.sqrt(1/(a.loc[1,1]+1/a.loc[0,1]+a.loc[1,0]+a.loc[0,0]))\n",
    "        lower = round(np.exp(logmyv-1.96*se),3)\n",
    "        upper = round(np.exp(logmyv+1.96*se),3)\n",
    "        return [myv, lower, upper]\n",
    "                \n",
    "print(\"Odds for Response Yes for Each Variable with 95% CI\")\n",
    "print(\"If housing = yes, odds for response = yes:\", myor(a))\n",
    "print(\"If loan = yes, odds for response = yes:\", myor(b))\n",
    "print(\"If default = yes, odds for response = yes:\", myor(c))    \n",
    "                \n",
    "print(bank.groupby('response').mean())"
   ]
  },
  {
   "cell_type": "code",
   "execution_count": 15,
   "metadata": {
    "colab": {
     "base_uri": "https://localhost:8080/",
     "height": 281
    },
    "id": "btLZCfT4PPj8",
    "outputId": "c56a209f-836e-456d-af06-f11cec1fb799"
   },
   "outputs": [
    {
     "data": {
      "image/png": "[encoded data removed]",
      "text/plain": [
       "<Figure size 432x288 with 1 Axes>"
      ]
     },
     "metadata": {
      "needs_background": "light"
     },
     "output_type": "display_data"
    }
   ],
   "source": [
    "Default = bank['default'].value_counts()\n",
    "y_pos = np.arange(len(Default))\n",
    "plt.bar(y_pos, Default)\n",
    "plt.xticks(y_pos, Default.index)\n",
    "plt.title('Defaults')\n",
    "\n",
    "for i in range(len(Default.index)):\n",
    "    plt.text(x = y_pos[i]-0.05, y = Default[i]+50, s = Default[i])\n"
   ]
  },
  {
   "cell_type": "markdown",
   "metadata": {
    "id": "-UiJZpsiR-9w"
   },
   "source": [
    "First we consider the explanatory variable, default. There are very few defaults in this data set."
   ]
  },
  {
   "cell_type": "code",
   "execution_count": 16,
   "metadata": {
    "colab": {
     "base_uri": "https://localhost:8080/",
     "height": 267
    },
    "id": "yTttZ7iLQFFg",
    "outputId": "93a3593d-3d0b-4228-e9b8-a17742052839"
   },
   "outputs": [
    {
     "data": {
      "image/png": "[encoded data removed]",
      "text/plain": [
       "<Figure size 432x288 with 1 Axes>"
      ]
     },
     "metadata": {
      "needs_background": "light"
     },
     "output_type": "display_data"
    }
   ],
   "source": [
    "Housing = bank['housing'].value_counts()\n",
    "y_pos = np.arange(len(Housing))\n",
    "plt.bar(y_pos, Housing)\n",
    "plt.xticks(y_pos, Housing.index)\n",
    "\n",
    "for i in range(len(Housing.index)):\n",
    "    plt.text(x = y_pos[i]-0.05, y = Housing[i]+50, s = Housing[i])\n",
    "\n"
   ]
  },
  {
   "cell_type": "markdown",
   "metadata": {
    "id": "imd3icWeRMeF"
   },
   "source": [
    "Home ownership, one of the explanatory variables, is relatively evenly distributed in this dataset. In this particular sample, roughly 43.4% of people do not own a home while roughly 56.6% do own a home."
   ]
  },
  {
   "cell_type": "code",
   "execution_count": 17,
   "metadata": {
    "colab": {
     "base_uri": "https://localhost:8080/",
     "height": 268
    },
    "id": "uPkm8R7nQQ4B",
    "outputId": "3a2ad615-685a-444e-eb7c-4a90948752ca"
   },
   "outputs": [
    {
     "data": {
      "image/png": "[encoded data removed]",
      "text/plain": [
       "<Figure size 432x288 with 1 Axes>"
      ]
     },
     "metadata": {
      "needs_background": "light"
     },
     "output_type": "display_data"
    }
   ],
   "source": [
    "Loan = bank['loan'].value_counts()\n",
    "y_pos = np.arange(len(Loan))\n",
    "plt.bar(y_pos, Loan)\n",
    "plt.xticks(y_pos, Loan.index)\n",
    "\n",
    "for i in range(len(Loan.index)):\n",
    "    plt.text(x = y_pos[i]-0.05, y = Loan[i]+50, s = Loan[i])\n",
    "    "
   ]
  },
  {
   "cell_type": "markdown",
   "metadata": {
    "id": "xinXiutASmx5"
   },
   "source": [
    "Next, we consider the explanatory variable loan. Roughly 15% of the dataset has a loan."
   ]
  },
  {
   "cell_type": "code",
   "execution_count": 18,
   "metadata": {
    "colab": {
     "base_uri": "https://localhost:8080/",
     "height": 638
    },
    "id": "fT9oJZAqZ0aP",
    "outputId": "4ca80957-9eb4-4b70-cc61-873f8b95e42d"
   },
   "outputs": [
    {
     "data": {
      "text/plain": [
       "Text(0.5, 1.0, 'Age and Response Type')"
      ]
     },
     "execution_count": 18,
     "metadata": {},
     "output_type": "execute_result"
    },
    {
     "data": {
      "image/png": "[encoded data removed]",
      "text/plain": [
       "<Figure size 1080x720 with 1 Axes>"
      ]
     },
     "metadata": {
      "needs_background": "light"
     },
     "output_type": "display_data"
    }
   ],
   "source": [
    "# age versus response\n",
    "x1 = list(bank[bank['response'] == 'yes']['age'])\n",
    "x2 = list(bank[bank['response'] == 'no']['age'])\n",
    "\n",
    "plt.figure(figsize=(15,10))\n",
    "plt.hist([x1, x2], label=['yes','no'], bins=15)\n",
    "plt.legend()\n",
    "plt.xlabel('Age')\n",
    "plt.ylabel('Frequency')\n",
    "plt.title('Age and Response Type')\n",
    "\n",
    "# very few people have a yes response and they vary across age groups"
   ]
  },
  {
   "cell_type": "code",
   "execution_count": 19,
   "metadata": {
    "colab": {
     "base_uri": "https://localhost:8080/",
     "height": 238
    },
    "id": "i5-ADus4Z3vU",
    "outputId": "95d2938a-4a00-4f2d-fb68-1dda55d14a08"
   },
   "outputs": [
    {
     "data": {
      "text/plain": [
       "response  age\n",
       "no        19      2\n",
       "          20      2\n",
       "          21      6\n",
       "          22      6\n",
       "          23     18\n",
       "                 ..\n",
       "yes       79      2\n",
       "          80      2\n",
       "          83      2\n",
       "          84      1\n",
       "          87      1\n",
       "Name: response, Length: 127, dtype: int64"
      ]
     },
     "execution_count": 19,
     "metadata": {},
     "output_type": "execute_result"
    }
   ],
   "source": [
    "age_response = bank.groupby(['response', 'age'])['response'].count()\n",
    "age_response"
   ]
  },
  {
   "cell_type": "code",
   "execution_count": 20,
   "metadata": {
    "colab": {
     "base_uri": "https://localhost:8080/",
     "height": 296
    },
    "id": "apa4ciV2Z_7i",
    "outputId": "69204719-925e-40fb-b026-48afae9d30bb"
   },
   "outputs": [
    {
     "data": {
      "text/plain": [
       "<matplotlib.legend.Legend at 0x7f8af8d192b0>"
      ]
     },
     "execution_count": 20,
     "metadata": {},
     "output_type": "execute_result"
    },
    {
     "data": {
      "image/png": "[encoded data removed]",
      "text/plain": [
       "<Figure size 432x288 with 1 Axes>"
      ]
     },
     "metadata": {
      "needs_background": "light"
     },
     "output_type": "display_data"
    }
   ],
   "source": [
    "sns.kdeplot(bank[bank['response'] == 'yes']['age'], shade=True, color=\"blue\")\n",
    "sns.kdeplot(bank[bank['response'] == 'no']['age'], shade=True, color=\"orange\")\n",
    "plt.legend(['yes','no'])\n",
    "\n",
    "# this density plot shows the two response types by age and percent\n",
    "# there is a higher peak at age 35 for no respondents and at age 65 for yes respondents"
   ]
  },
  {
   "cell_type": "code",
   "execution_count": 21,
   "metadata": {
    "colab": {
     "base_uri": "https://localhost:8080/",
     "height": 153
    },
    "id": "dH-dtMQZaHro",
    "outputId": "3cc8ff5f-501d-4fef-e230-0fe0e7f80710"
   },
   "outputs": [
    {
     "data": {
      "text/plain": [
       "response  marital \n",
       "no        divorced     451\n",
       "          married     2520\n",
       "          single      1029\n",
       "yes       divorced      77\n",
       "          married      277\n",
       "          single       167\n",
       "Name: response, dtype: int64"
      ]
     },
     "execution_count": 21,
     "metadata": {},
     "output_type": "execute_result"
    }
   ],
   "source": [
    "# marital versus response\n",
    "marital_response = bank.groupby(['response', 'marital'])['response'].count()\n",
    "marital_response"
   ]
  },
  {
   "cell_type": "code",
   "execution_count": 22,
   "metadata": {
    "id": "qArQKhSIaOz0"
   },
   "outputs": [],
   "source": [
    "yes = marital_response['yes'].sum()\n",
    "no = marital_response['no'].sum()\n",
    "total = yes+no"
   ]
  },
  {
   "cell_type": "code",
   "execution_count": 23,
   "metadata": {
    "id": "KPoM4hJmaaDu"
   },
   "outputs": [],
   "source": [
    "divorced = bank[bank['marital'] == 'divorced'].groupby(['response'])['response'].count()\n",
    "married = bank[bank['marital'] == 'married'].groupby(['response'])['response'].count()\n",
    "single = bank[bank['marital'] == 'single'].groupby(['response'])['response'].count()"
   ]
  },
  {
   "cell_type": "code",
   "execution_count": 24,
   "metadata": {
    "colab": {
     "base_uri": "https://localhost:8080/",
     "height": 142
    },
    "id": "DgvWDp3OakKU",
    "outputId": "519c4fb6-76f1-4c8b-c518-ca7eb544d595"
   },
   "outputs": [
    {
     "data": {
      "text/html": [
       "<div>\n",
       "<style scoped>\n",
       "    .dataframe tbody tr th:only-of-type {\n",
       "        vertical-align: middle;\n",
       "    }\n",
       "\n",
       "    .dataframe tbody tr th {\n",
       "        vertical-align: top;\n",
       "    }\n",
       "\n",
       "    .dataframe thead th {\n",
       "        text-align: right;\n",
       "    }\n",
       "</style>\n",
       "<table border=\"1\" class=\"dataframe\">\n",
       "  <thead>\n",
       "    <tr style=\"text-align: right;\">\n",
       "      <th></th>\n",
       "      <th>divorced</th>\n",
       "      <th>married</th>\n",
       "      <th>single</th>\n",
       "    </tr>\n",
       "    <tr>\n",
       "      <th>response</th>\n",
       "      <th></th>\n",
       "      <th></th>\n",
       "      <th></th>\n",
       "    </tr>\n",
       "  </thead>\n",
       "  <tbody>\n",
       "    <tr>\n",
       "      <th>no</th>\n",
       "      <td>451</td>\n",
       "      <td>2520</td>\n",
       "      <td>1029</td>\n",
       "    </tr>\n",
       "    <tr>\n",
       "      <th>yes</th>\n",
       "      <td>77</td>\n",
       "      <td>277</td>\n",
       "      <td>167</td>\n",
       "    </tr>\n",
       "  </tbody>\n",
       "</table>\n",
       "</div>"
      ],
      "text/plain": [
       "          divorced  married  single\n",
       "response                           \n",
       "no             451     2520    1029\n",
       "yes             77      277     167"
      ]
     },
     "execution_count": 24,
     "metadata": {},
     "output_type": "execute_result"
    }
   ],
   "source": [
    "married_df = pd.DataFrame({'divorced':divorced, 'married':married, 'single':single})\n",
    "married_df"
   ]
  },
  {
   "cell_type": "code",
   "execution_count": 25,
   "metadata": {
    "id": "IlbTur8JavFV"
   },
   "outputs": [],
   "source": [
    "# From raw value to percentage\n",
    "totals = [i+j+k for i,j,k in zip(married_df['divorced'], married_df['married'], married_df['single'])]\n",
    "divorce = [i / j * 100 for i,j in zip(married_df['divorced'], totals)]\n",
    "marri = [i / j * 100 for i,j in zip(married_df['married'], totals)]\n",
    "singl = [i / j * 100 for i,j in zip(married_df['single'], totals)]"
   ]
  },
  {
   "cell_type": "code",
   "execution_count": 26,
   "metadata": {
    "colab": {
     "base_uri": "https://localhost:8080/",
     "height": 312
    },
    "id": "zSGAG0nga91T",
    "outputId": "a7dfae2a-4d3d-4423-dde2-fbb4f91e09f3"
   },
   "outputs": [
    {
     "data": {
      "text/plain": [
       "Text(0.5, 1.0, 'Distribution of Martial Status by Response')"
      ]
     },
     "execution_count": 26,
     "metadata": {},
     "output_type": "execute_result"
    },
    {
     "data": {
      "image/png": "[encoded data removed]",
      "text/plain": [
       "<Figure size 432x288 with 1 Axes>"
      ]
     },
     "metadata": {
      "needs_background": "light"
     },
     "output_type": "display_data"
    }
   ],
   "source": [
    "plt.bar([0,1], divorce, color='blue', edgecolor='white')\n",
    "plt.bar([0,1], marri, bottom=divorce, color='green', edgecolor='white')\n",
    "plt.bar([0,1], singl, bottom=[i+j for i,j in zip(divorce, marri)], color='red', edgecolor='white')\n",
    "\n",
    "plt.xticks([0,1], married_df.index)\n",
    "plt.xlabel(\"Response\")\n",
    "plt.ylabel(\"Percent\")\n",
    "plt.title(\"Distribution of Martial Status by Response\")\n",
    "\n",
    "# this chart illustrates the different break down by marital status and response to determine if there might be a\n",
    "# significant difference between the two"
   ]
  },
  {
   "cell_type": "code",
   "execution_count": 27,
   "metadata": {
    "id": "a8kK_WV8bYF3"
   },
   "outputs": [],
   "source": [
    "# education versus response\n",
    "x1 = list(bank[bank['response'] == 'yes']['education'])\n",
    "x2 = list(bank[bank['response'] == 'no']['education'])"
   ]
  },
  {
   "cell_type": "code",
   "execution_count": 28,
   "metadata": {
    "colab": {
     "base_uri": "https://localhost:8080/",
     "height": 367
    },
    "id": "wASBD8cHbdKG",
    "outputId": "fe8637f8-946b-4dbf-d89c-481e3131b54c"
   },
   "outputs": [
    {
     "data": {
      "text/plain": [
       "Text(0.5, 1.0, 'Education and Response Type = Yes')"
      ]
     },
     "execution_count": 28,
     "metadata": {},
     "output_type": "execute_result"
    },
    {
     "data": {
      "image/png": "[encoded data removed]",
      "text/plain": [
       "<Figure size 720x360 with 1 Axes>"
      ]
     },
     "metadata": {
      "needs_background": "light"
     },
     "output_type": "display_data"
    }
   ],
   "source": [
    "plt.figure(figsize=(10,5))\n",
    "plt.hist(x1)\n",
    "plt.xlabel('Education')\n",
    "plt.ylabel('Frequency')\n",
    "plt.title('Education and Response Type = Yes')\n",
    "\n",
    "# the most likely yes respondents have a secondary education"
   ]
  },
  {
   "cell_type": "code",
   "execution_count": 29,
   "metadata": {
    "colab": {
     "base_uri": "https://localhost:8080/",
     "height": 367
    },
    "id": "ts_Qe-cZbmYC",
    "outputId": "6117130b-8ff5-444f-8216-6fe400820f8f"
   },
   "outputs": [
    {
     "data": {
      "text/plain": [
       "Text(0.5, 1.0, 'Education and Response Type = No')"
      ]
     },
     "execution_count": 29,
     "metadata": {},
     "output_type": "execute_result"
    },
    {
     "data": {
      "image/png": "[encoded data removed]",
      "text/plain": [
       "<Figure size 720x360 with 1 Axes>"
      ]
     },
     "metadata": {
      "needs_background": "light"
     },
     "output_type": "display_data"
    }
   ],
   "source": [
    "plt.figure(figsize=(10,5))\n",
    "plt.hist(x2)\n",
    "plt.xlabel('Education')\n",
    "plt.ylabel('Frequency')\n",
    "plt.title('Education and Response Type = No')\n",
    "\n",
    "# but this fact is also true for no respondents"
   ]
  },
  {
   "cell_type": "code",
   "execution_count": 30,
   "metadata": {
    "colab": {
     "base_uri": "https://localhost:8080/",
     "height": 351
    },
    "id": "3tA1jRA7bsQp",
    "outputId": "4aa60dc7-ebf0-4898-97a6-391f2d52b4fb"
   },
   "outputs": [
    {
     "data": {
      "text/plain": [
       "<AxesSubplot:xlabel='balance', ylabel='response'>"
      ]
     },
     "execution_count": 30,
     "metadata": {},
     "output_type": "execute_result"
    },
    {
     "data": {
      "image/png": "[encoded data removed]",
      "text/plain": [
       "<Figure size 1080x360 with 1 Axes>"
      ]
     },
     "metadata": {
      "needs_background": "light"
     },
     "output_type": "display_data"
    }
   ],
   "source": [
    "# account balance versus response\n",
    "plt.figure(figsize=(15,5))\n",
    "sns.boxplot(x=bank[\"balance\"], y=bank[\"response\"])\n",
    "\n",
    "# the means for yes and no respondents are about the same regardless of the account balance\n",
    "# though, there are clear outliers for no respondents"
   ]
  },
  {
   "cell_type": "code",
   "execution_count": 31,
   "metadata": {
    "colab": {
     "base_uri": "https://localhost:8080/",
     "height": 351
    },
    "id": "vFhz3A_eb3MF",
    "outputId": "965d3d2e-b55a-4252-bb05-e2137d213e83"
   },
   "outputs": [
    {
     "data": {
      "text/plain": [
       "<AxesSubplot:xlabel='duration', ylabel='response'>"
      ]
     },
     "execution_count": 31,
     "metadata": {},
     "output_type": "execute_result"
    },
    {
     "data": {
      "image/png": "[encoded data removed]",
      "text/plain": [
       "<Figure size 1080x360 with 1 Axes>"
      ]
     },
     "metadata": {
      "needs_background": "light"
     },
     "output_type": "display_data"
    }
   ],
   "source": [
    "# call duration versus response\n",
    "plt.figure(figsize=(15,5))\n",
    "sns.boxplot(x=bank[\"duration\"], y=bank[\"response\"])\n",
    "\n",
    "# there appears to be a fairly signifant difference between yes and no responses when looking at call duration\n",
    "# the longer a customer is on the phone may be a good sign"
   ]
  },
  {
   "cell_type": "code",
   "execution_count": 32,
   "metadata": {
    "colab": {
     "base_uri": "https://localhost:8080/",
     "height": 296
    },
    "id": "gPPaUAAvcGi4",
    "outputId": "c24d022e-baf3-4772-b7e8-8b639923caff"
   },
   "outputs": [
    {
     "data": {
      "text/plain": [
       "<matplotlib.legend.Legend at 0x7f8af8d52910>"
      ]
     },
     "execution_count": 32,
     "metadata": {},
     "output_type": "execute_result"
    },
    {
     "data": {
      "image/png": "[encoded data removed]",
      "text/plain": [
       "<Figure size 432x288 with 1 Axes>"
      ]
     },
     "metadata": {
      "needs_background": "light"
     },
     "output_type": "display_data"
    }
   ],
   "source": [
    "# the particular day versus response\n",
    "sns.kdeplot(bank[bank['response'] == 'yes']['day'], shade=True, color=\"blue\")\n",
    "sns.kdeplot(bank[bank['response'] == 'no']['day'], shade=True, color=\"orange\")\n",
    "plt.legend(['yes','no'])\n",
    "\n",
    "# the 10th and 24th days of the month appear to be the least called when it comes to no responses\n",
    "# the most yes responses occur around the 15th day of the month, which is when many people get paid"
   ]
  },
  {
   "cell_type": "code",
   "execution_count": 33,
   "metadata": {
    "colab": {
     "base_uri": "https://localhost:8080/",
     "height": 296
    },
    "id": "jO1kFu_kcTgq",
    "outputId": "7d888274-2c67-4623-c317-29f38ef5b634"
   },
   "outputs": [
    {
     "data": {
      "text/plain": [
       "<matplotlib.legend.Legend at 0x7f8b1884fb50>"
      ]
     },
     "execution_count": 33,
     "metadata": {},
     "output_type": "execute_result"
    },
    {
     "data": {
      "image/png": "[encoded data removed]",
      "text/plain": [
       "<Figure size 432x288 with 1 Axes>"
      ]
     },
     "metadata": {
      "needs_background": "light"
     },
     "output_type": "display_data"
    }
   ],
   "source": [
    "# the particular month versus response\n",
    "convert_month = {'jan':1, 'feb':2, 'mar':3, 'apr':4, 'may':5, 'jun':6,\n",
    "                 'jul':7, 'aug':8, 'sep':9, 'oct':10, 'nov':11, 'dec':12}\n",
    "month = bank['month'].map(convert_month)\n",
    "\n",
    "sns.kdeplot(month[bank['response'] == 'yes'], shade=True, color=\"red\")\n",
    "sns.kdeplot(month[bank['response'] == 'no'], shade=True, color=\"green\")\n",
    "plt.legend(['yes','no'])\n",
    "\n",
    "# the \"no\" density plot is very bumpy, but peaks slightly at the same month (May) as yes responses"
   ]
  },
  {
   "cell_type": "code",
   "execution_count": 34,
   "metadata": {
    "colab": {
     "base_uri": "https://localhost:8080/",
     "height": 312
    },
    "id": "yLgImcNjcmlJ",
    "outputId": "68c2ece8-25be-4268-ef5c-816600cd6f75"
   },
   "outputs": [
    {
     "data": {
      "text/plain": [
       "Text(0.5, 1.0, 'Distribution of Contact Status by Response')"
      ]
     },
     "execution_count": 34,
     "metadata": {},
     "output_type": "execute_result"
    },
    {
     "data": {
      "image/png": "[encoded data removed]",
      "text/plain": [
       "<Figure size 432x288 with 1 Axes>"
      ]
     },
     "metadata": {
      "needs_background": "light"
     },
     "output_type": "display_data"
    }
   ],
   "source": [
    "# phone contact versus response\n",
    "cell = bank[bank['contact'] == 'cellular'].groupby(['response'])['response'].count()\n",
    "tele = bank[bank['contact'] == 'telephone'].groupby(['response'])['response'].count()\n",
    "unk = bank[bank['contact'] == 'unknown'].groupby(['response'])['response'].count()\n",
    "cell_df = pd.DataFrame({'cellular':cell, 'telephone':tele, 'unknown':unk})\n",
    "\n",
    "# From raw value to percentage\n",
    "totals = [i+j+k for i,j,k in zip(cell_df['cellular'], cell_df['telephone'], cell_df['unknown'])]\n",
    "cel = [i / j * 100 for i,j in zip(cell_df['cellular'], totals)]\n",
    "tel = [i / j * 100 for i,j in zip(cell_df['telephone'], totals)]\n",
    "unk = [i / j * 100 for i,j in zip(cell_df['unknown'], totals)]\n",
    "\n",
    "plt.bar([0,1], cel, color='gold', edgecolor='white')\n",
    "plt.bar([0,1], tel, bottom=cel, color='green', edgecolor='white')\n",
    "plt.bar([0,1], unk, bottom=[i+j for i,j in zip(cel, tel)], color='blue', edgecolor='white')\n",
    "\n",
    "plt.xticks([0,1], cell_df.index)\n",
    "plt.xlabel(\"Response\")\n",
    "plt.ylabel(\"Percent\")\n",
    "plt.title(\"Distribution of Contact Status by Response\")\n",
    "\n",
    "# this bar chart shows more yes responses come from folks on cellphones"
   ]
  },
  {
   "cell_type": "code",
   "execution_count": 35,
   "metadata": {
    "colab": {
     "base_uri": "https://localhost:8080/",
     "height": 623
    },
    "id": "gGKO6dDXdO6o",
    "outputId": "ba17d3dc-7851-4d82-b4e0-6326c2420aff"
   },
   "outputs": [
    {
     "data": {
      "text/plain": [
       "<matplotlib.legend.Legend at 0x7f8b1884fd30>"
      ]
     },
     "execution_count": 35,
     "metadata": {},
     "output_type": "execute_result"
    },
    {
     "data": {
      "image/png": "[encoded data removed]",
      "text/plain": [
       "<Figure size 1080x720 with 1 Axes>"
      ]
     },
     "metadata": {
      "needs_background": "light"
     },
     "output_type": "display_data"
    }
   ],
   "source": [
    "# pdays versus response\n",
    "plt.figure(figsize=(15,10))\n",
    "sns.kdeplot(bank[bank['response'] == 'yes']['pdays'], shade=True, color=\"blue\")\n",
    "sns.kdeplot(bank[bank['response'] == 'no']['pdays'], shade=True, color=\"orange\")\n",
    "plt.legend(['yes','no'])\n",
    "\n",
    "# the yes response is very high around -1, 0, and 1, which means the customer was either never contacted, \n",
    "# contacted only just today, or contacted yesterday, respectively"
   ]
  },
  {
   "cell_type": "code",
   "execution_count": 36,
   "metadata": {
    "colab": {
     "base_uri": "https://localhost:8080/",
     "height": 142
    },
    "id": "PIB2l9zzjzfe",
    "outputId": "87e91940-98e7-4544-8534-910bb9c8ca92"
   },
   "outputs": [
    {
     "data": {
      "text/html": [
       "<div>\n",
       "<style scoped>\n",
       "    .dataframe tbody tr th:only-of-type {\n",
       "        vertical-align: middle;\n",
       "    }\n",
       "\n",
       "    .dataframe tbody tr th {\n",
       "        vertical-align: top;\n",
       "    }\n",
       "\n",
       "    .dataframe thead th {\n",
       "        text-align: right;\n",
       "    }\n",
       "</style>\n",
       "<table border=\"1\" class=\"dataframe\">\n",
       "  <thead>\n",
       "    <tr style=\"text-align: right;\">\n",
       "      <th></th>\n",
       "      <th>age</th>\n",
       "      <th>balance</th>\n",
       "      <th>day</th>\n",
       "      <th>duration</th>\n",
       "      <th>campaign</th>\n",
       "      <th>pdays</th>\n",
       "      <th>previous</th>\n",
       "    </tr>\n",
       "    <tr>\n",
       "      <th>response</th>\n",
       "      <th></th>\n",
       "      <th></th>\n",
       "      <th></th>\n",
       "      <th></th>\n",
       "      <th></th>\n",
       "      <th></th>\n",
       "      <th></th>\n",
       "    </tr>\n",
       "  </thead>\n",
       "  <tbody>\n",
       "    <tr>\n",
       "      <th>no</th>\n",
       "      <td>41.00</td>\n",
       "      <td>1,403.21</td>\n",
       "      <td>15.95</td>\n",
       "      <td>226.35</td>\n",
       "      <td>2.86</td>\n",
       "      <td>36.01</td>\n",
       "      <td>0.47</td>\n",
       "    </tr>\n",
       "    <tr>\n",
       "      <th>yes</th>\n",
       "      <td>42.49</td>\n",
       "      <td>1,571.96</td>\n",
       "      <td>15.66</td>\n",
       "      <td>552.74</td>\n",
       "      <td>2.27</td>\n",
       "      <td>68.64</td>\n",
       "      <td>1.09</td>\n",
       "    </tr>\n",
       "  </tbody>\n",
       "</table>\n",
       "</div>"
      ],
      "text/plain": [
       "           age  balance   day  duration  campaign  pdays  previous\n",
       "response                                                          \n",
       "no       41.00 1,403.21 15.95    226.35      2.86  36.01      0.47\n",
       "yes      42.49 1,571.96 15.66    552.74      2.27  68.64      1.09"
      ]
     },
     "execution_count": 36,
     "metadata": {},
     "output_type": "execute_result"
    }
   ],
   "source": [
    "# What does the average 'yes' person look like?\n",
    "pd.options.display.float_format = '{:,.2f}'.format\n",
    "bank.groupby('response').mean() # Note higher balance and duration in 'yes'"
   ]
  },
  {
   "cell_type": "code",
   "execution_count": 37,
   "metadata": {
    "colab": {
     "base_uri": "https://localhost:8080/",
     "height": 68
    },
    "id": "xQI-PyCVkAOX",
    "outputId": "eba81de9-0441-4a11-94b0-ad84c031b7aa"
   },
   "outputs": [
    {
     "data": {
      "text/plain": [
       "no     478\n",
       "yes     43\n",
       "Name: loan, dtype: int64"
      ]
     },
     "execution_count": 37,
     "metadata": {},
     "output_type": "execute_result"
    }
   ],
   "source": [
    "# break-down of loan for targeted customers\n",
    "loans = bank[bank['response'] == 'yes']['loan'].value_counts()\n",
    "loans"
   ]
  },
  {
   "cell_type": "code",
   "execution_count": 38,
   "metadata": {
    "id": "IQpcQklnlJiE"
   },
   "outputs": [],
   "source": [
    "def get_pct_interest( df ):\n",
    "    return 'Interested: {:.2f}'.format( ( df['yes'] / df['no'] ) * 100 )"
   ]
  },
  {
   "cell_type": "code",
   "execution_count": 39,
   "metadata": {
    "colab": {
     "base_uri": "https://localhost:8080/",
     "height": 35
    },
    "id": "ojG8zlYzlEoY",
    "outputId": "652273c5-c8c0-4d6f-950b-63347d4011a6"
   },
   "outputs": [
    {
     "data": {
      "text/plain": [
       "'Interested: 9.00'"
      ]
     },
     "execution_count": 39,
     "metadata": {},
     "output_type": "execute_result"
    }
   ],
   "source": [
    "get_pct_interest(loans)"
   ]
  },
  {
   "cell_type": "code",
   "execution_count": 40,
   "metadata": {
    "colab": {
     "base_uri": "https://localhost:8080/",
     "height": 276
    },
    "id": "vWj4Y41llMmS",
    "outputId": "072c6ab7-9ad3-41d4-b316-257e908741d4"
   },
   "outputs": [
    {
     "data": {
      "image/png": "[encoded data removed]",
      "text/plain": [
       "<Figure size 432x288 with 1 Axes>"
      ]
     },
     "metadata": {
      "needs_background": "light"
     },
     "output_type": "display_data"
    }
   ],
   "source": [
    "loans.plot(kind=\"bar\")\n",
    "plt.show()"
   ]
  },
  {
   "cell_type": "code",
   "execution_count": 41,
   "metadata": {
    "colab": {
     "base_uri": "https://localhost:8080/",
     "height": 68
    },
    "id": "o9TaBHQolUlM",
    "outputId": "aea34299-e0de-4991-aebd-85b320e865d9"
   },
   "outputs": [
    {
     "data": {
      "text/plain": [
       "no     512\n",
       "yes      9\n",
       "Name: default, dtype: int64"
      ]
     },
     "execution_count": 41,
     "metadata": {},
     "output_type": "execute_result"
    }
   ],
   "source": [
    "# break-down of default for targeted customers\n",
    "defaults = bank[bank['response'] == 'yes']['default'].value_counts()\n",
    "defaults"
   ]
  },
  {
   "cell_type": "code",
   "execution_count": 42,
   "metadata": {
    "colab": {
     "base_uri": "https://localhost:8080/",
     "height": 35
    },
    "id": "7Rzf6cXolZCV",
    "outputId": "25a6bbf1-8c55-4e8f-a88d-99bc8da6bfb5"
   },
   "outputs": [
    {
     "data": {
      "text/plain": [
       "'Interested: 1.76'"
      ]
     },
     "execution_count": 42,
     "metadata": {},
     "output_type": "execute_result"
    }
   ],
   "source": [
    "get_pct_interest(defaults)"
   ]
  },
  {
   "cell_type": "code",
   "execution_count": 43,
   "metadata": {
    "colab": {
     "base_uri": "https://localhost:8080/",
     "height": 273
    },
    "id": "00UQol-glb7W",
    "outputId": "88088aea-c78d-4d9d-96b4-3dd8733aa24a"
   },
   "outputs": [
    {
     "data": {
      "image/png": "[encoded data removed]",
      "text/plain": [
       "<Figure size 432x288 with 1 Axes>"
      ]
     },
     "metadata": {
      "needs_background": "light"
     },
     "output_type": "display_data"
    }
   ],
   "source": [
    "defaults.plot(kind='bar')\n",
    "plt.show()"
   ]
  },
  {
   "cell_type": "code",
   "execution_count": 56,
   "metadata": {
    "id": "1KOsPduEdWAh"
   },
   "outputs": [],
   "source": [
    "# Convert yes/no string to binary\n",
    "# mapping function to convert text no/yes to integer 0/1\n",
    "convert_to_binary = {'no' : 0, 'yes' : 1}\n",
    "\n",
    "# Suggested baseline variables\n",
    "# define binary variable for having credit in default\n",
    "default = bank['default'].map(convert_to_binary)\n",
    "\n",
    "# define binary variable for having a mortgage or housing loan\n",
    "housing = bank['housing'].map(convert_to_binary)\n",
    "\n",
    "# define binary variable for having a personal loan\n",
    "loan = bank['loan'].map(convert_to_binary)\n",
    "\n",
    "# define response variable to use in the model\n",
    "response = bank['response'].map(convert_to_binary)"
   ]
  },
  {
   "cell_type": "code",
   "execution_count": 61,
   "metadata": {
    "id": "XVll6s8qZuEN"
   },
   "outputs": [
    {
     "name": "stdout",
     "output_type": "stream",
     "text": [
      "(4521, 4)\n",
      "<class 'pandas.core.frame.DataFrame'>\n",
      "RangeIndex: 4521 entries, 0 to 4520\n",
      "Data columns (total 4 columns):\n",
      " #   Column  Non-Null Count  Dtype\n",
      "---  ------  --------------  -----\n",
      " 0   0       4521 non-null   int64\n",
      " 1   1       4521 non-null   int64\n",
      " 2   2       4521 non-null   int64\n",
      " 3   3       4521 non-null   int64\n",
      "dtypes: int64(4)\n",
      "memory usage: 141.4 KB\n"
     ]
    }
   ],
   "source": [
    "# Prepare Data for model\n",
    "# Let's remove default, as this will simplifiy our model and it seems to have little impact on client interest.\n",
    "# gather three explanatory variables and response into a numpy array \n",
    "# here we use .T to obtain the transpose for the structure we want\n",
    "model_data = np.array([np.array(default), np.array(housing), np.array(loan),\n",
    "    np.array(response)]).T # Prepare Data for Model\n",
    "\n",
    "model_data = pd.DataFrame(model_data)\n",
    "# examine the shape of model_data, which we will use in subsequent modeling\n",
    "print(model_data.shape)\n",
    "\n",
    "model_data.info()\n"
   ]
  },
  {
   "cell_type": "markdown",
   "metadata": {
    "id": "K1bIJ5YQaPlY"
   },
   "source": [
    "Review research design and modeling methods\n",
    "\n",
    "Predict the binary response variable: Has the client subscribed to a term deposit. Use all banking client observations with complete data for these study variables. Employ two classification methods: (1) logistic regression as described in Chapter 4 of the Géron (2017) textbook and (2) naïve Bayes classification."
   ]
  },
  {
   "cell_type": "code",
   "execution_count": 46,
   "metadata": {
    "id": "IZO18wUlmTm_"
   },
   "outputs": [],
   "source": [
    " # cross-validation scoring code adapted from Scikit Learn documentation\n",
    "from sklearn.metrics import roc_auc_score"
   ]
  },
  {
   "cell_type": "code",
   "execution_count": 47,
   "metadata": {
    "id": "3uHpj8RYmaWk"
   },
   "outputs": [
    {
     "name": "stdout",
     "output_type": "stream",
     "text": [
      "\n",
      "Data dimensions: (4521, 4)\n"
     ]
    }
   ],
   "source": [
    "# specify the set of classifiers being evaluated\n",
    "# import necessary Packages\n",
    "\n",
    "from sklearn.naive_bayes import BernoulliNB\n",
    "from sklearn.linear_model import LogisticRegression\n",
    "\n",
    "classifier_names = [\"Naive_Bayes\", \"Logistic_Regression\"]\n",
    "\n",
    "classifiers = [BernoulliNB(alpha=1.0, binarize=0.5, \n",
    "                           class_prior = [0.5, 0.5], fit_prior=False), \n",
    "               LogisticRegression(solver = 'lbfgs')]\n",
    "\n",
    "# dimensions of the additive model X input and y response\n",
    "print('\\nData dimensions:', model_data.shape)"
   ]
  },
  {
   "cell_type": "code",
   "execution_count": 48,
   "metadata": {
    "id": "jbNvg9q5mmsa"
   },
   "outputs": [],
   "source": [
    "# --------------------------------------------------------\n",
    "# specify the k-fold cross-validation design\n",
    "from sklearn.model_selection import KFold"
   ]
  },
  {
   "cell_type": "code",
   "execution_count": 49,
   "metadata": {
    "id": "-ZAFTD8Hmudx"
   },
   "outputs": [],
   "source": [
    "# ten-fold cross-validation employed here\n",
    "N_FOLDS = 10\n",
    "\n",
    "# set up numpy array for storing results\n",
    "cv_results = np.zeros((N_FOLDS, len(classifier_names)))"
   ]
  },
  {
   "cell_type": "code",
   "execution_count": 50,
   "metadata": {
    "id": "q3QwRZafmxw3"
   },
   "outputs": [
    {
     "name": "stdout",
     "output_type": "stream",
     "text": [
      "\n",
      "Fold index: 0 ------------------------------------------\n",
      "\n",
      "Shape of input data for this fold: \n",
      "Data Set: (Observations, Variables)\n",
      "X_train: (4068, 3)\n",
      "X_test: (453, 3)\n",
      "y_train: (4068,)\n",
      "y_test: (453,)\n",
      "\n",
      "Classifier evaluation for: Naive_Bayes\n",
      "  Scikit Learn method: BernoulliNB(binarize=0.5, class_prior=[0.5, 0.5], fit_prior=False)\n",
      "Area under ROC curve: 0.5878522062732588\n",
      "\n",
      "Classifier evaluation for: Logistic_Regression\n",
      "  Scikit Learn method: LogisticRegression()\n",
      "Area under ROC curve: 0.5878522062732588\n",
      "\n",
      "Fold index: 1 ------------------------------------------\n",
      "\n",
      "Shape of input data for this fold: \n",
      "Data Set: (Observations, Variables)\n",
      "X_train: (4069, 3)\n",
      "X_test: (452, 3)\n",
      "y_train: (4069,)\n",
      "y_test: (452,)\n",
      "\n",
      "Classifier evaluation for: Naive_Bayes\n",
      "  Scikit Learn method: BernoulliNB(binarize=0.5, class_prior=[0.5, 0.5], fit_prior=False)\n",
      "Area under ROC curve: 0.633727778967659\n",
      "\n",
      "Classifier evaluation for: Logistic_Regression\n",
      "  Scikit Learn method: LogisticRegression()\n",
      "Area under ROC curve: 0.633727778967659\n",
      "\n",
      "Fold index: 2 ------------------------------------------\n",
      "\n",
      "Shape of input data for this fold: \n",
      "Data Set: (Observations, Variables)\n",
      "X_train: (4069, 3)\n",
      "X_test: (452, 3)\n",
      "y_train: (4069,)\n",
      "y_test: (452,)\n",
      "\n",
      "Classifier evaluation for: Naive_Bayes\n",
      "  Scikit Learn method: BernoulliNB(binarize=0.5, class_prior=[0.5, 0.5], fit_prior=False)\n",
      "Area under ROC curve: 0.6575354454752319\n",
      "\n",
      "Classifier evaluation for: Logistic_Regression\n",
      "  Scikit Learn method: LogisticRegression()\n",
      "Area under ROC curve: 0.6575354454752319\n",
      "\n",
      "Fold index: 3 ------------------------------------------\n",
      "\n",
      "Shape of input data for this fold: \n",
      "Data Set: (Observations, Variables)\n",
      "X_train: (4069, 3)\n",
      "X_test: (452, 3)\n",
      "y_train: (4069,)\n",
      "y_test: (452,)\n",
      "\n",
      "Classifier evaluation for: Naive_Bayes\n",
      "  Scikit Learn method: BernoulliNB(binarize=0.5, class_prior=[0.5, 0.5], fit_prior=False)\n",
      "Area under ROC curve: 0.6373879576644552\n",
      "\n",
      "Classifier evaluation for: Logistic_Regression\n",
      "  Scikit Learn method: LogisticRegression()\n",
      "Area under ROC curve: 0.6355648959335594\n",
      "\n",
      "Fold index: 4 ------------------------------------------\n",
      "\n",
      "Shape of input data for this fold: \n",
      "Data Set: (Observations, Variables)\n",
      "X_train: (4069, 3)\n",
      "X_test: (452, 3)\n",
      "y_train: (4069,)\n",
      "y_test: (452,)\n",
      "\n",
      "Classifier evaluation for: Naive_Bayes\n",
      "  Scikit Learn method: BernoulliNB(binarize=0.5, class_prior=[0.5, 0.5], fit_prior=False)\n",
      "Area under ROC curve: 0.5743993962517295\n",
      "\n",
      "Classifier evaluation for: Logistic_Regression\n",
      "  Scikit Learn method: LogisticRegression()\n",
      "Area under ROC curve: 0.5743993962517295\n",
      "\n",
      "Fold index: 5 ------------------------------------------\n",
      "\n",
      "Shape of input data for this fold: \n",
      "Data Set: (Observations, Variables)\n",
      "X_train: (4069, 3)\n",
      "X_test: (452, 3)\n",
      "y_train: (4069,)\n",
      "y_test: (452,)\n",
      "\n",
      "Classifier evaluation for: Naive_Bayes\n",
      "  Scikit Learn method: BernoulliNB(binarize=0.5, class_prior=[0.5, 0.5], fit_prior=False)\n",
      "Area under ROC curve: 0.5746839950151327\n",
      "\n",
      "Classifier evaluation for: Logistic_Regression\n",
      "  Scikit Learn method: LogisticRegression()\n",
      "Area under ROC curve: 0.5842383241350662\n",
      "\n",
      "Fold index: 6 ------------------------------------------\n",
      "\n",
      "Shape of input data for this fold: \n",
      "Data Set: (Observations, Variables)\n",
      "X_train: (4069, 3)\n",
      "X_test: (452, 3)\n",
      "y_train: (4069,)\n",
      "y_test: (452,)\n",
      "\n",
      "Classifier evaluation for: Naive_Bayes\n",
      "  Scikit Learn method: BernoulliNB(binarize=0.5, class_prior=[0.5, 0.5], fit_prior=False)\n",
      "Area under ROC curve: 0.5625116322352502\n",
      "\n",
      "Classifier evaluation for: Logistic_Regression\n",
      "  Scikit Learn method: LogisticRegression()\n",
      "Area under ROC curve: 0.5625116322352502\n",
      "\n",
      "Fold index: 7 ------------------------------------------\n",
      "\n",
      "Shape of input data for this fold: \n",
      "Data Set: (Observations, Variables)\n",
      "X_train: (4069, 3)\n",
      "X_test: (452, 3)\n",
      "y_train: (4069,)\n",
      "y_test: (452,)\n",
      "\n",
      "Classifier evaluation for: Naive_Bayes\n",
      "  Scikit Learn method: BernoulliNB(binarize=0.5, class_prior=[0.5, 0.5], fit_prior=False)\n",
      "Area under ROC curve: 0.7311441622103387\n",
      "\n",
      "Classifier evaluation for: Logistic_Regression\n",
      "  Scikit Learn method: LogisticRegression()\n",
      "Area under ROC curve: 0.7311441622103387\n",
      "\n",
      "Fold index: 8 ------------------------------------------\n",
      "\n",
      "Shape of input data for this fold: \n",
      "Data Set: (Observations, Variables)\n",
      "X_train: (4069, 3)\n",
      "X_test: (452, 3)\n",
      "y_train: (4069,)\n",
      "y_test: (452,)\n",
      "\n",
      "Classifier evaluation for: Naive_Bayes\n",
      "  Scikit Learn method: BernoulliNB(binarize=0.5, class_prior=[0.5, 0.5], fit_prior=False)\n",
      "Area under ROC curve: 0.5735328888258382\n",
      "\n",
      "Classifier evaluation for: Logistic_Regression\n",
      "  Scikit Learn method: LogisticRegression()\n",
      "Area under ROC curve: 0.5735328888258382\n",
      "\n",
      "Fold index: 9 ------------------------------------------\n",
      "\n",
      "Shape of input data for this fold: \n",
      "Data Set: (Observations, Variables)\n",
      "X_train: (4069, 3)\n",
      "X_test: (452, 3)\n",
      "y_train: (4069,)\n",
      "y_test: (452,)\n",
      "\n",
      "Classifier evaluation for: Naive_Bayes\n",
      "  Scikit Learn method: BernoulliNB(binarize=0.5, class_prior=[0.5, 0.5], fit_prior=False)\n",
      "Area under ROC curve: 0.5778268860493612\n",
      "\n",
      "Classifier evaluation for: Logistic_Regression\n",
      "  Scikit Learn method: LogisticRegression()\n",
      "Area under ROC curve: 0.5768204095921582\n",
      "\n",
      "----------------------------------------------\n",
      "Average results from 10-fold cross-validation\n",
      "\n",
      "Method                 Area under ROC Curve\n",
      "Naive_Bayes           0.61\n",
      "Logistic_Regression   0.61\n",
      "dtype: float64\n"
     ]
    },
    {
     "name": "stderr",
     "output_type": "stream",
     "text": [
      "/Users/harini-mac/Desktop/Northwestern University/MSDS-422/my_env/lib/python3.8/site-packages/sklearn/model_selection/_split.py:293: FutureWarning: Setting a random_state has no effect since shuffle is False. This will raise an error in 0.24. You should leave random_state to its default (None), or set shuffle=True.\n",
      "  warnings.warn(\n"
     ]
    }
   ],
   "source": [
    "kf = KFold(n_splits = N_FOLDS, shuffle=False, random_state = RANDOM_SEED)\n",
    "\n",
    "# check the splitting process by looking at fold observation counts\n",
    "index_for_fold = 0  # fold count initialized\n",
    "\n",
    "for train_index, test_index in kf.split(model_data):\n",
    "    print('\\nFold index:', index_for_fold,\n",
    "          '------------------------------------------')\n",
    "#   note that 0:model_data.shape[1]-1 slices for explanatory variables\n",
    "#   and model_data.shape[1]-1 is the index for the response variable    \n",
    "    X_train = model_data[train_index, 0:model_data.shape[1]-1]\n",
    "    X_test = model_data[test_index, 0:model_data.shape[1]-1]\n",
    "    y_train = model_data[train_index, model_data.shape[1]-1]\n",
    "    y_test = model_data[test_index, model_data.shape[1]-1]   \n",
    "\n",
    "    print('\\nShape of input data for this fold:',\n",
    "          '\\nData Set: (Observations, Variables)')\n",
    "    print('X_train:', X_train.shape)\n",
    "    print('X_test:',X_test.shape)\n",
    "    print('y_train:', y_train.shape)\n",
    "    print('y_test:',y_test.shape)\n",
    "\n",
    "    index_for_method = 0  # initialize\n",
    "    for name, clf in zip(classifier_names, classifiers):\n",
    "        print('\\nClassifier evaluation for:', name)\n",
    "        print('  Scikit Learn method:', clf)\n",
    "        clf.fit(X_train, y_train)  # fit on the train set for this fold\n",
    "        # evaluate on the test set for this fold\n",
    "        y_test_predict = clf.predict_proba(X_test)\n",
    "        fold_method_result = roc_auc_score(y_test, y_test_predict[:,1]) \n",
    "        print('Area under ROC curve:', fold_method_result)\n",
    "        cv_results[index_for_fold, index_for_method] = fold_method_result\n",
    "        index_for_method += 1\n",
    "  \n",
    "    index_for_fold += 1\n",
    "\n",
    "cv_results_df = pd.DataFrame(cv_results)\n",
    "cv_results_df.columns = classifier_names\n",
    "\n",
    "print('\\n----------------------------------------------')\n",
    "print('Average results from ', N_FOLDS, '-fold cross-validation\\n',\n",
    "      '\\nMethod                 Area under ROC Curve', sep = '')     \n",
    "print(cv_results_df.mean())"
   ]
  },
  {
   "cell_type": "code",
   "execution_count": 51,
   "metadata": {
    "id": "yIKi6xPVcLNV"
   },
   "outputs": [
    {
     "name": "stdout",
     "output_type": "stream",
     "text": [
      "[[394   0]\n",
      " [ 58   0]]\n"
     ]
    }
   ],
   "source": [
    "# Obtain the confusion matrix\n",
    "from sklearn.metrics import confusion_matrix\n",
    "from sklearn.linear_model import LogisticRegression\n",
    "from sklearn.naive_bayes import BernoulliNB\n",
    "from sklearn.model_selection import train_test_split, cross_val_score\n",
    "from sklearn.metrics import accuracy_score, classification_report, precision_score, recall_score \n",
    "from sklearn.metrics import confusion_matrix, precision_recall_curve, roc_curve, auc, log_loss, f1_score\n",
    "\n",
    "\n",
    "# Get the predictions and scores for X_test\n",
    "y_pred = clf.predict(X_test)\n",
    "y_test_predict = clf.predict_proba(X_test)\n",
    "\n",
    "y_test_predict_proba_1= y_test_predict [:,1]\n",
    "\n",
    "cm = confusion_matrix(y_test, y_pred)\n",
    "print(cm)\n"
   ]
  },
  {
   "cell_type": "code",
   "execution_count": 52,
   "metadata": {
    "id": "TN3St_BjGCuw"
   },
   "outputs": [
    {
     "name": "stdout",
     "output_type": "stream",
     "text": [
      "Testing Accuracy:\n",
      " Accuracy: 0.8717\n",
      " Log loss: 0.3812\n",
      " F1 score: 0.0000\n",
      " auc: 0.5768\n",
      " Precision: 0.000000 \n",
      " Recall: 0.000000 \n"
     ]
    },
    {
     "name": "stderr",
     "output_type": "stream",
     "text": [
      "/Users/harini-mac/Desktop/Northwestern University/MSDS-422/my_env/lib/python3.8/site-packages/sklearn/metrics/_classification.py:1221: UndefinedMetricWarning: Precision is ill-defined and being set to 0.0 due to no predicted samples. Use `zero_division` parameter to control this behavior.\n",
      "  _warn_prf(average, modifier, msg_start, len(result))\n"
     ]
    }
   ],
   "source": [
    "# obtain the accuracy metrics using the predictions\n",
    "\n",
    "[fpr, tpr, thr] = roc_curve(y_test, y_test_predict_proba_1)\n",
    "print('Testing Accuracy:')\n",
    "print(\" Accuracy: %0.4f\" % accuracy_score(y_test, y_pred))\n",
    "print(\" Log loss: %0.4f\" % log_loss(y_test, y_test_predict))\n",
    "print(\" F1 score: %0.4f\" % f1_score(y_test, y_pred))\n",
    "print(\" auc: %0.4f\" % auc(fpr, tpr))\n",
    "\n",
    "print(\" Precision: %f \"%precision_score(y_test, y_pred))\n",
    "print(\" Recall: %f \"%recall_score(y_test, y_pred))"
   ]
  },
  {
   "cell_type": "code",
   "execution_count": 53,
   "metadata": {
    "id": "54DI-jwHz1RC"
   },
   "outputs": [],
   "source": [
    "# Save the cross-validation results.\n",
    "cv_results_df = pd.DataFrame(cv_results)\n",
    "cv_results_df.columns = classifier_names\n",
    "with open(\"cv-results.txt\", \"w\") as text_file:\n",
    "    text_file.write('\\nResults from '+ str(N_FOLDS) + '-fold cross-validation\\n'+\n",
    "                     '\\nMethod Area under ROC Curve:\\n'+ \n",
    "                     str(cv_results_df))"
   ]
  },
  {
   "cell_type": "markdown",
   "metadata": {
    "id": "jxLMF5HH2mYH"
   },
   "source": [
    "RESULTS"
   ]
  },
  {
   "cell_type": "code",
   "execution_count": 54,
   "metadata": {
    "id": "lpJhGvGHnwpT"
   },
   "outputs": [
    {
     "data": {
      "text/plain": [
       "Naive_Bayes           0.611060\n",
       "Logistic_Regression   0.611733\n",
       "dtype: float64"
      ]
     },
     "execution_count": 54,
     "metadata": {},
     "output_type": "execute_result"
    }
   ],
   "source": [
    "pd.options.display.float_format = '{:,.6f}'.format\n",
    "cv_results_df.mean() # same as the results in the display above"
   ]
  },
  {
   "cell_type": "code",
   "execution_count": null,
   "metadata": {
    "id": "ij_DlErFW-FG"
   },
   "outputs": [],
   "source": []
  }
 ],
 "metadata": {
  "colab": {
   "collapsed_sections": [],
   "name": "Assignment 3: Project 2: Evaluating Classification Models .ipynb",
   "provenance": []
  },
  "kernelspec": {
   "display_name": "Python 3",
   "language": "python",
   "name": "python3"
  },
  "language_info": {
   "codemirror_mode": {
    "name": "ipython",
    "version": 3
   },
   "file_extension": ".py",
   "mimetype": "text/x-python",
   "name": "python",
   "nbconvert_exporter": "python",
   "pygments_lexer": "ipython3",
   "version": "3.8.3"
  }
 },
 "nbformat": 4,
 "nbformat_minor": 1
}
